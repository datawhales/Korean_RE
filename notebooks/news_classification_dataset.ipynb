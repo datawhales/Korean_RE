{
 "cells": [
  {
   "cell_type": "markdown",
   "id": "reduced-davis",
   "metadata": {},
   "source": [
    "## news 데이터 불러오기"
   ]
  },
  {
   "cell_type": "code",
   "execution_count": 1,
   "id": "fuzzy-alliance",
   "metadata": {},
   "outputs": [],
   "source": [
    "import json\n",
    "import os\n",
    "from glob import glob"
   ]
  },
  {
   "cell_type": "code",
   "execution_count": 2,
   "id": "moral-health",
   "metadata": {},
   "outputs": [
    {
     "data": {
      "text/plain": [
       "['../data/newsdata/news_1_1', '../data/newsdata/news_2_0']"
      ]
     },
     "execution_count": 2,
     "metadata": {},
     "output_type": "execute_result"
    }
   ],
   "source": [
    "news_dir = '../data/newsdata'\n",
    "glob(news_dir + '/*')"
   ]
  },
  {
   "cell_type": "code",
   "execution_count": 3,
   "id": "bored-explanation",
   "metadata": {},
   "outputs": [],
   "source": [
    "news_list = []\n",
    "\n",
    "for news_dir_i in glob(news_dir + '/*'):\n",
    "    tmp_news_list = glob(news_dir_i + '/*')\n",
    "    news_list += tmp_news_list"
   ]
  },
  {
   "cell_type": "code",
   "execution_count": 4,
   "id": "hungarian-binding",
   "metadata": {},
   "outputs": [
    {
     "data": {
      "text/plain": [
       "['../data/newsdata/news_1_1/NWRW2000000002.json',\n",
       " '../data/newsdata/news_1_1/NLRW2000000019.json',\n",
       " '../data/newsdata/news_1_1/NLRW2000000023.json',\n",
       " '../data/newsdata/news_1_1/NLRW2000000003.json',\n",
       " '../data/newsdata/news_1_1/NLRW2000000015.json']"
      ]
     },
     "execution_count": 4,
     "metadata": {},
     "output_type": "execute_result"
    }
   ],
   "source": [
    "news_list[:5]"
   ]
  },
  {
   "cell_type": "code",
   "execution_count": 5,
   "id": "expired-being",
   "metadata": {},
   "outputs": [],
   "source": [
    "news_list = [x for x in news_list if x.endswith('.json')]\n",
    "news_list.sort()"
   ]
  },
  {
   "cell_type": "code",
   "execution_count": 6,
   "id": "ordinary-patrol",
   "metadata": {},
   "outputs": [
    {
     "data": {
      "text/plain": [
       "['../data/newsdata/news_1_1/NIRW2000000001.json',\n",
       " '../data/newsdata/news_1_1/NIRW2000000002.json',\n",
       " '../data/newsdata/news_1_1/NLRW2000000001.json',\n",
       " '../data/newsdata/news_1_1/NLRW2000000002.json',\n",
       " '../data/newsdata/news_1_1/NLRW2000000003.json']"
      ]
     },
     "execution_count": 6,
     "metadata": {},
     "output_type": "execute_result"
    }
   ],
   "source": [
    "news_list[:5]"
   ]
  },
  {
   "cell_type": "code",
   "execution_count": 7,
   "id": "precise-abortion",
   "metadata": {},
   "outputs": [],
   "source": [
    "import re\n",
    "from kss import split_sentences\n",
    "\n",
    "def preprocess(text):\n",
    "    # 한 개의 평서문만 허용\n",
    "    if text.count('.') != 1:\n",
    "        return ''\n",
    "    if '·' in text:\n",
    "        return ''\n",
    "    # \\xa0\n",
    "    text = re.sub('\\xa0', ' ', text)\n",
    "\n",
    "    # 괄호 안의 텍스트 제거\n",
    "    text = re.sub(r'\\([^)]*\\)','', text)\n",
    "    # <> 안의 텍스트 제거\n",
    "    text = re.sub('<.+?>', '', text)\n",
    "    # 큰따옴표 제거\n",
    "    text = re.sub('\"', '', text)\n",
    "    # 다른 형태의 따옴표 처리\n",
    "    text = re.sub(r'[‘’]', '', text)\n",
    "    text = re.sub(r'[“”]', '', text)\n",
    "    \n",
    "    bullets = r'[◇▲○■▶◆#※♢]'\n",
    "    text = re.sub(bullets, '', text)\n",
    "    \n",
    "    # 영어, 한국어를 제외한 다른 언어 제외\n",
    "    if re.sub(\"[가-힣ㄱ-ㅎㅏ-ㅣa-zA-Z0-9.\\W]\", '', text):\n",
    "        return ''\n",
    "    \n",
    "    # 너무 적은 개수의 토큰으로 이루어진 경우 제외(예: 어린 시절.)\n",
    "    if len(text.split()) <= 5:\n",
    "        return ''\n",
    "    \n",
    "    return text      "
   ]
  },
  {
   "cell_type": "code",
   "execution_count": 8,
   "id": "social-whole",
   "metadata": {},
   "outputs": [],
   "source": [
    "default_dir = '../data/newsdata/news_1_1/'\n",
    "sample = default_dir + 'NPRW2000000001.json'"
   ]
  },
  {
   "cell_type": "code",
   "execution_count": 9,
   "id": "dimensional-wholesale",
   "metadata": {},
   "outputs": [],
   "source": [
    "with open(sample, 'r') as f:\n",
    "    json_data = json.load(f)\n"
   ]
  },
  {
   "cell_type": "code",
   "execution_count": 10,
   "id": "unexpected-monkey",
   "metadata": {},
   "outputs": [
    {
     "data": {
      "text/plain": [
       "dict_keys(['id', 'metadata', 'document'])"
      ]
     },
     "execution_count": 10,
     "metadata": {},
     "output_type": "execute_result"
    }
   ],
   "source": [
    "json_data.keys()"
   ]
  },
  {
   "cell_type": "code",
   "execution_count": 11,
   "id": "thirty-thailand",
   "metadata": {},
   "outputs": [
    {
     "data": {
      "text/plain": [
       "'NPRW2000000001'"
      ]
     },
     "execution_count": 11,
     "metadata": {},
     "output_type": "execute_result"
    }
   ],
   "source": [
    "json_data['id']"
   ]
  },
  {
   "cell_type": "code",
   "execution_count": 12,
   "id": "rolled-packaging",
   "metadata": {},
   "outputs": [
    {
     "data": {
      "text/plain": [
       "{'title': '국립국어원 신문 말뭉치 NPRW2000000001',\n",
       " 'creator': '국립국어원',\n",
       " 'distributor': '국립국어원',\n",
       " 'year': '2019',\n",
       " 'category': '신문>전문지',\n",
       " 'annotation_level': ['원시'],\n",
       " 'sampling': '본문 전체'}"
      ]
     },
     "execution_count": 12,
     "metadata": {},
     "output_type": "execute_result"
    }
   ],
   "source": [
    "json_data['metadata']"
   ]
  },
  {
   "cell_type": "code",
   "execution_count": 13,
   "id": "perfect-meditation",
   "metadata": {},
   "outputs": [
    {
     "data": {
      "text/plain": [
       "24745"
      ]
     },
     "execution_count": 13,
     "metadata": {},
     "output_type": "execute_result"
    }
   ],
   "source": [
    "len(json_data['document'])"
   ]
  },
  {
   "cell_type": "code",
   "execution_count": 14,
   "id": "perceived-functionality",
   "metadata": {},
   "outputs": [
    {
     "data": {
      "text/plain": [
       "{'id': 'NPRW2000000001.1',\n",
       " 'metadata': {'title': '한국경제 2019년 기사',\n",
       "  'author': '박동휘(donghuip@hankyung.com) 주용석(hohoboy@hankyung.com)',\n",
       "  'publisher': '한국경제',\n",
       "  'date': '20190120',\n",
       "  'topic': '사회',\n",
       "  'original_topic': '정치,북한|정치,외교|국제,미국_북미'},\n",
       " 'paragraph': [{'id': 'NPRW2000000001.1.1',\n",
       "   'form': '\\'김정은 친서\\' 파격제안 있었나…트럼프 \"믿을수 없을 만큼 좋은 만남\"'},\n",
       "  {'id': 'NPRW2000000001.1.2',\n",
       "   'form': '북핵 협상의 ‘진짜 게임’이 시작됐다. 시한은 2월 말까지다. 도널드 트럼프 미국 대통령은 19일(현지시간) 다음달 말에 2차 미·북 정상회담이 열릴 것이라며 ‘데드라인’을 제시했다. 앞으로 한 달, 우리 정부 중재 속에 미국과 북한 간 한반도의 ‘핵운명’을 좌우할 세기의 협상이 펼쳐진다. ‘김정은 북한 국무위원장 친서’를 소지한 김영철 북한 노동당 부위원장과 트럼프 대통령의 90분 백악관 면담이 교착 상태에 빠져 있던 북핵 협상을 본궤도에 올려놨다는 평가가 나온다.'},\n",
       "  {'id': 'NPRW2000000001.1.3', 'form': '급박했던 김영철의 2박3일'},\n",
       "  {'id': 'NPRW2000000001.1.4',\n",
       "   'form': '트럼프 대통령은 김영철과의 면담 하루 만에 김정은과의 두 번째 만남을 공식화했다. 정상회담 장소도 “우리는 한 나라를 선택했다”고 밝혔다. 지난 17일 김영철의 워싱턴DC 도착 직후에도 이례적인 침묵을 지키던 트럼프 대통령은 18일 90분간의 면담에 대해 “거의 두 시간 동안 만났다”며 “믿을 수 없을 만큼 매우 좋은 만남이었다”고 말했다.'},\n",
       "  {'id': 'NPRW2000000001.1.5',\n",
       "   'form': '김영철이 베이징 시간으로 17일 저녁 유나이티드항공을 타기 전까지만 해도 미국을 비롯해 남북한 당국자 공히 극도의 신중함을 보였다. 한 외교 당국자는 “미·북, 한·미, 남북 채널 모두 매우 예민한 상태였다”고 했다. 김영철은 지난해 11월7일 마이크 폼페이오 미 국무부 장관과의 뉴욕 회담을 돌연 취소한 전력이 있다. 미 백악관과 국무부도 ‘폼페이오-김영철 40분 회담’ ‘트럼프-김영철 90분 면담’이 끝나고 나서야 짧은 논평을 냈다.'},\n",
       "  {'id': 'NPRW2000000001.1.6',\n",
       "   'form': '이번 워싱턴DC 담판이 그만큼 극적이었다는 점을 보여주는 것이라는 게 전문가들 평가다. 김정은 신년사 직후 ‘친서 외교’를 펼친 트럼프 대통령조차 김영철이 들고 온 ‘김정은 친서’에 어떤 내용이 담겼는지 확신하지 못했을 것이란 얘기다. 김정은 특사 자격으로 온 김영철이 어떤 제안을 했는지에 관심이 집중되는 이유다.'},\n",
       "  {'id': 'NPRW2000000001.1.7',\n",
       "   'form': '일본 요미우리신문은 20일 북한이 미국에 무엇인가 새로운 제안을 했을 가능성이 있다고 보도했다. 최근 시진핑 중국 국가주석에게 2차 미·북 정상회담에서 과감한 비핵화 조치를 밝힐 계획임을 알렸다는 ‘팩트’에 근거한 추론이다. 김정은은 김영철을 워싱턴DC에 파견하기에 앞서, 지난 8일 베이징에서 북·중 4차 정상회담을 했다. 이와 관련해 ‘북핵 관리자’로 불리는 김영철이 영변 핵시설 국제 사찰, 대륙간탄도미사일(ICBM) 폐기 외에 ‘핵목록’ 제출 의사를 밝혔을 가능성도 제기되고 있다.'},\n",
       "  {'id': 'NPRW2000000001.1.8', 'form': '백악관 “대북 압박과 제재 유지”'},\n",
       "  {'id': 'NPRW2000000001.1.9',\n",
       "   'form': '김영철의 44시간 방미를 통해 북핵 협상의 ‘모멘텀’이 유지되긴 했지만 낙관은 이르다는 견해도 많다. 트럼프 대통령은 ‘2월 말 정상회담’을 언급하면서 ‘아마도’란 수식어를 붙였다. 장소를 확정했다면서도 발표를 추후로 미뤘다. 이 같은 화법엔 일종의 압박 의미가 담겨 있다는 게 전문가들 분석이다. 정상회담에 올릴 의제 협상이 어긋나면 언제든 원점으로 되돌릴 수 있다는 의미다.'},\n",
       "  {'id': 'NPRW2000000001.1.10',\n",
       "   'form': '세라 샌더스 백악관 대변인은 19일 기자들과의 일문일답에서 “미국은 완전하게 검증된 비핵화를 볼 때까지 대북 압박과 제재를 계속할 것”이라며 ‘선(先)비핵화-후(後)제재 완화’ 방침을 재확인했다. 블룸버그통신도 백악관 회동과 관련해 “미국과 북한이 합의 내용에 대해 (대변인 언급 외에) 추가로 밝히지 않으면서 더 많은 의문이 제기되고 있다”며 “미국의 궁극적 목표(비핵화)에 대한 진전이 거의 이뤄지지 않은 상태이기 때문”이라고 지적했다.'},\n",
       "  {'id': 'NPRW2000000001.1.11',\n",
       "   'form': '이에 따라 스웨덴 스톡홀름에서 3박4일 일정으로 시작된 남·북·미 실무협상에 관심이 쏠리고 있다. 워싱턴DC에서 합의한 큰 틀에 기초해 세부적인 ‘행동 대 행동’ 계획을 정하는 ‘진짜 협상’의 시작이라는 점에서다. 전문가들은 워싱턴DC와 스톡홀름으로 북핵 협상이 이원화된 점에 주목하고 있다. 고위급-실무회담을 워싱턴DC에서 단번에 하지 않은 배경에 대한 궁금증이 나온다.'},\n",
       "  {'id': 'NPRW2000000001.1.12',\n",
       "   'form': '스톡홀름 3자 회담은 김영철 방미 확정 전부터 추진됐을 가능성이 높다. 우리 정부가 미·북 핵협상이 교착 상태에 빠지자 중립국 지위를 갖고 있는 스웨덴 정부와 협력해 새로운 대화 채널을 만들려 했다는 것이다. 이런 와중에 트럼프 대통령 초청으로 김영철 방미라는 급반전이 이뤄지면서 ‘워싱턴DC 담판→스톡홀름 실무협상’이란 틀이 자연스럽게 만들어졌을 것이란 추론이다. 스웨덴은 2차 미·북 정상회담 개최지 중 한 곳으로 거론되던 국가다.'}]}"
      ]
     },
     "execution_count": 14,
     "metadata": {},
     "output_type": "execute_result"
    }
   ],
   "source": [
    "json_data['document'][0]"
   ]
  },
  {
   "cell_type": "markdown",
   "id": "lyric-power",
   "metadata": {},
   "source": [
    "## news topic 별로 데이터 모으기"
   ]
  },
  {
   "cell_type": "code",
   "execution_count": 15,
   "id": "wicked-mills",
   "metadata": {},
   "outputs": [],
   "source": [
    "topic_dict = {}\n",
    "\n",
    "for i in range(len(json_data['document'])):\n",
    "    tmp_topic = json_data['document'][i]['metadata']['topic']\n",
    "    if tmp_topic not in topic_dict:\n",
    "        topic_dict[tmp_topic] = [i]\n",
    "    else:\n",
    "        topic_dict[tmp_topic].append(i)"
   ]
  },
  {
   "cell_type": "code",
   "execution_count": 16,
   "id": "senior-belle",
   "metadata": {
    "scrolled": true
   },
   "outputs": [
    {
     "data": {
      "text/plain": [
       "dict_keys(['사회', 'IT/과학', '경제', '연예', '생활', '정치', '미용/건강', '문화', '스포츠'])"
      ]
     },
     "execution_count": 16,
     "metadata": {},
     "output_type": "execute_result"
    }
   ],
   "source": [
    "topic_dict.keys()"
   ]
  },
  {
   "cell_type": "code",
   "execution_count": 17,
   "id": "likely-arkansas",
   "metadata": {},
   "outputs": [
    {
     "name": "stdout",
     "output_type": "stream",
     "text": [
      "사회: 5159\n",
      "IT/과학: 2368\n",
      "경제: 6071\n",
      "연예: 3705\n",
      "생활: 2975\n",
      "정치: 1596\n",
      "미용/건강: 1208\n",
      "문화: 1019\n",
      "스포츠: 644\n"
     ]
    }
   ],
   "source": [
    "for k in topic_dict.keys():\n",
    "    print(f\"{k}: {len(topic_dict[k])}\")"
   ]
  },
  {
   "cell_type": "code",
   "execution_count": 18,
   "id": "reflected-victoria",
   "metadata": {},
   "outputs": [],
   "source": [
    "def news_by_topics(news_file):\n",
    "    topic_dict = {}\n",
    "    \n",
    "    with open(news_file, 'r') as f:\n",
    "        json_data = json.load(f)\n",
    "    \n",
    "    for i in range(len(json_data['document'])):\n",
    "        tmp_topic = json_data['document'][i]['metadata']['topic']\n",
    "        tmp_data = json_data['document'][i]['paragraph']\n",
    "        \n",
    "        if tmp_topic not in topic_dict:\n",
    "            topic_dict[tmp_topic] =  []\n",
    "            \n",
    "        for j in range(len(tmp_data)):\n",
    "            if j == 0: continue\n",
    "            if len(tmp_data[j]['form']) <= 70:\n",
    "                topic_dict[tmp_topic].append(tmp_data[j]['form'])\n",
    "            \n",
    "    for top in topic_dict:\n",
    "        topic_dict[top] = [preprocess(x) for x in topic_dict[top] if preprocess(x)]\n",
    "    \n",
    "    return topic_dict"
   ]
  },
  {
   "cell_type": "code",
   "execution_count": 19,
   "id": "broadband-incidence",
   "metadata": {},
   "outputs": [],
   "source": [
    "sentence_dict = news_by_topics(sample)"
   ]
  },
  {
   "cell_type": "code",
   "execution_count": 20,
   "id": "timely-fence",
   "metadata": {},
   "outputs": [
    {
     "data": {
      "text/plain": [
       "dict_keys(['사회', 'IT/과학', '경제', '연예', '생활', '정치', '미용/건강', '문화', '스포츠'])"
      ]
     },
     "execution_count": 20,
     "metadata": {},
     "output_type": "execute_result"
    }
   ],
   "source": [
    "sentence_dict.keys()"
   ]
  },
  {
   "cell_type": "code",
   "execution_count": 21,
   "id": "supposed-ordinance",
   "metadata": {},
   "outputs": [
    {
     "name": "stdout",
     "output_type": "stream",
     "text": [
      "사회: 4317\n",
      "IT/과학: 1234\n",
      "경제: 2876\n",
      "연예: 5655\n",
      "생활: 2140\n",
      "정치: 1074\n",
      "미용/건강: 635\n",
      "문화: 1001\n",
      "스포츠: 538\n"
     ]
    }
   ],
   "source": [
    "for k in sentence_dict.keys():\n",
    "    print(f\"{k}: {len(sentence_dict[k])}\")"
   ]
  },
  {
   "cell_type": "code",
   "execution_count": 22,
   "id": "departmental-benjamin",
   "metadata": {},
   "outputs": [
    {
     "data": {
      "text/plain": [
       "[\"황재균이 '나 혼자 산다'에서 손아섭, 전준우와 우정과 함께 연봉 서열까지 공개했다.\",\n",
       " '한혜진은 정말 친한 이들만이 할 수 있는 것이라고 세 사람의 우정을 치켜 세웠다.',\n",
       " \"이날 방송에서도 손아섭에 대해 'KBO 연봉 TOP5의 위엄'이라면서 손아섭의 연봉을 전했다.\",\n",
       " '한편 올해 첫 세계랭킹 순위 변동은 오는 3일 열리는 센트리 토너먼트 오브 챔피언스에서 판가름이 날 전망이다.',\n",
       " '손흥민이 잉글랜드 프로축구 프리미어리그 득점과 도움 부문에서 톱10에 진입했다.',\n",
       " '키움과 히어로즈는 유사한 유전자를 갖고 있습니다.',\n",
       " '골프 안 했으면요? 음, 아마 특전사에 들어갔거나 학군장교가 됐을걸요? 하하하.',\n",
       " '손으로만 속도를 내려고 하니까 오히려 거리가 안 나는 거예요.',\n",
       " '특히, 양질의 일자리 창출을 통한 지역 경제 활성화를 위해 투자유치와 도민회를 중심으로 한 일본 관광객 유치 협조를 당부했다.',\n",
       " '이마히라가 초청선수로 결정됨에 따라 올해 마스터스 출전 선수는 총 80명으로 늘었다.']"
      ]
     },
     "execution_count": 22,
     "metadata": {},
     "output_type": "execute_result"
    }
   ],
   "source": [
    "sentence_dict['스포츠'][:10]"
   ]
  },
  {
   "cell_type": "code",
   "execution_count": 23,
   "id": "incorrect-indonesia",
   "metadata": {},
   "outputs": [
    {
     "data": {
      "text/plain": [
       "['삼성전자가 인도, 중국 시장을 겨냥해 혁신기술을 넣은 중저가 스마트폰을 연이어 선보인다.',\n",
       " '삼성전자 관계자는 지난해부터 중저가 모델에 멀티 카메라 등 프리미엄 기능을 먼저 넣고 있다고 말했다.',\n",
       " '국대폰에서 출고가 기준 최대 100% 할인 이벤트를 진행하면서 스마트폰을 저렴하게 구매하기 위한 소비자들의 발길을 잡고 있다.',\n",
       " 'A시리즈 하위 모델은 후면 듀얼 카메라가, 상위 모델에는 후면 트리플 혹은 쿼드 카메라가 달릴 것으로 점쳐진다.',\n",
       " '지난해부터 중저가 모델에 멀티카메라 등 프리미엄 기능을 적극 탑재한 삼성전자의 기조가 올해도 이어질 것으로 보인다.',\n",
       " '5G 스마트폰 출시를 앞두고 소비자들이 배터리 소모에 대한 우려를 드러냈다.',\n",
       " 'SK그룹이 전기차 배터리와 자율주행 기술, 차량용 반도체, 고부가가치 소재 사업을 통해 미래자동차 시장 선점에 나선다.',\n",
       " '대학원생들이 교수를 평가하는 인터넷 사이트가 있다던데….',\n",
       " '5세대 이동통신 시대 1등 사업자가 되겠다.',\n",
       " '택시업계 관계자는 이달 안에 티원택시 앱을 일반인들에게 선보일 것으로 예상된다고 말했다.']"
      ]
     },
     "execution_count": 23,
     "metadata": {},
     "output_type": "execute_result"
    }
   ],
   "source": [
    "sentence_dict['IT/과학'][:10]"
   ]
  },
  {
   "cell_type": "code",
   "execution_count": 24,
   "id": "returning-installation",
   "metadata": {},
   "outputs": [
    {
     "data": {
      "text/plain": [
       "['SBS 신개념 음악 예능 더 팬이 단 한 회도 빠짐없이 2049 타깃 시청률 1위를 기록하고 있다.',\n",
       " '한편 최종 TOP5는 현장 관객 점수와 앱 투표 결과를 합산해 결정되며, 그 결과는 다음주 생방송 무대에서 공개된다.',\n",
       " '동물의 사생활 문근영 김혜성 에릭남이 촬영 열정을 불태웠다.',\n",
       " '한편 동물의 사생활은 매주 금요일 오후 8시 55분 방송된다.',\n",
       " \"유아인이 '도올아인 오방간다'를 통해 성차별에 대한 견해를 밝혔다.\",\n",
       " 'JTBC 금토극 SKY 캐슬이 역대 비지상파 프로그램 최고 시청률을 기록했다.',\n",
       " '하하와 별이 서로에 대한 애정을 드러냈다.',\n",
       " \"'봄이 오나 봄' 이유리와 엄지원의 화기애애한 촬영 현장 모습이 포착됐다.\",\n",
       " \"전혀 다른 생활을 하던 두 사람이 갑자기 몸을 바뀌게 되면서 펼쳐지는 이야기가 '봄이 오나 봄'의 주요 줄거리다.\",\n",
       " '봄이 오나 봄 이유리와 엄지원의 화기애애한 촬영현장 모습이 포착됐다.']"
      ]
     },
     "execution_count": 24,
     "metadata": {},
     "output_type": "execute_result"
    }
   ],
   "source": [
    "sentence_dict['연예'][:10]"
   ]
  },
  {
   "cell_type": "markdown",
   "id": "forced-australia",
   "metadata": {},
   "source": [
    "## news classification 데이터셋 만들기"
   ]
  },
  {
   "cell_type": "code",
   "execution_count": 25,
   "id": "front-greeting",
   "metadata": {},
   "outputs": [],
   "source": [
    "import pandas as pd\n",
    "\n",
    "df = pd.DataFrame(columns=['sentence', 'topic'])"
   ]
  },
  {
   "cell_type": "code",
   "execution_count": 26,
   "id": "decimal-happiness",
   "metadata": {},
   "outputs": [],
   "source": [
    "sent_topic = []\n",
    "\n",
    "for top in sentence_dict:\n",
    "    for sent in sentence_dict[top]:\n",
    "        sent_topic.append([sent, top])\n",
    "        "
   ]
  },
  {
   "cell_type": "code",
   "execution_count": 27,
   "id": "interpreted-inspector",
   "metadata": {},
   "outputs": [
    {
     "data": {
      "text/plain": [
       "19470"
      ]
     },
     "execution_count": 27,
     "metadata": {},
     "output_type": "execute_result"
    }
   ],
   "source": [
    "len(sent_topic)"
   ]
  },
  {
   "cell_type": "code",
   "execution_count": 28,
   "id": "super-north",
   "metadata": {},
   "outputs": [],
   "source": [
    "df = pd.DataFrame(sent_topic, columns=['sentence', 'topic'])"
   ]
  },
  {
   "cell_type": "code",
   "execution_count": 29,
   "id": "orange-burner",
   "metadata": {},
   "outputs": [
    {
     "data": {
      "text/html": [
       "<div>\n",
       "<style scoped>\n",
       "    .dataframe tbody tr th:only-of-type {\n",
       "        vertical-align: middle;\n",
       "    }\n",
       "\n",
       "    .dataframe tbody tr th {\n",
       "        vertical-align: top;\n",
       "    }\n",
       "\n",
       "    .dataframe thead th {\n",
       "        text-align: right;\n",
       "    }\n",
       "</style>\n",
       "<table border=\"1\" class=\"dataframe\">\n",
       "  <thead>\n",
       "    <tr style=\"text-align: right;\">\n",
       "      <th></th>\n",
       "      <th>sentence</th>\n",
       "      <th>topic</th>\n",
       "    </tr>\n",
       "  </thead>\n",
       "  <tbody>\n",
       "    <tr>\n",
       "      <th>0</th>\n",
       "      <td>2차 북미정상회담이 열릴 나라도 정해졌지만 추후 발표할 것이라고 덧붙였다.</td>\n",
       "      <td>사회</td>\n",
       "    </tr>\n",
       "    <tr>\n",
       "      <th>1</th>\n",
       "      <td>현대백화점그룹 계열 종합식품 기업인 현대그린푸드가 국내 중소 식품회사의 가정간편식을...</td>\n",
       "      <td>사회</td>\n",
       "    </tr>\n",
       "    <tr>\n",
       "      <th>2</th>\n",
       "      <td>미국의 상응 조치로는 평양 연락사무소 개설을 비롯해 종전선언, 개성공단 및 금강산관...</td>\n",
       "      <td>사회</td>\n",
       "    </tr>\n",
       "    <tr>\n",
       "      <th>3</th>\n",
       "      <td>강성태가 인기 드라마 'SKY캐슬' 속 입시 코디네이터의 존재에 대해 언급했다.</td>\n",
       "      <td>사회</td>\n",
       "    </tr>\n",
       "    <tr>\n",
       "      <th>4</th>\n",
       "      <td>강성태는 지난 15일 자신의 유튜브 채널을 통해 정치인이나 기업인 분들에게 코디 제...</td>\n",
       "      <td>사회</td>\n",
       "    </tr>\n",
       "  </tbody>\n",
       "</table>\n",
       "</div>"
      ],
      "text/plain": [
       "                                            sentence topic\n",
       "0          2차 북미정상회담이 열릴 나라도 정해졌지만 추후 발표할 것이라고 덧붙였다.    사회\n",
       "1  현대백화점그룹 계열 종합식품 기업인 현대그린푸드가 국내 중소 식품회사의 가정간편식을...    사회\n",
       "2  미국의 상응 조치로는 평양 연락사무소 개설을 비롯해 종전선언, 개성공단 및 금강산관...    사회\n",
       "3       강성태가 인기 드라마 'SKY캐슬' 속 입시 코디네이터의 존재에 대해 언급했다.    사회\n",
       "4  강성태는 지난 15일 자신의 유튜브 채널을 통해 정치인이나 기업인 분들에게 코디 제...    사회"
      ]
     },
     "execution_count": 29,
     "metadata": {},
     "output_type": "execute_result"
    }
   ],
   "source": [
    "df.head()"
   ]
  },
  {
   "cell_type": "code",
   "execution_count": 30,
   "id": "alien-messaging",
   "metadata": {},
   "outputs": [],
   "source": [
    "import random\n",
    "\n",
    "df = df.sample(frac=1)"
   ]
  },
  {
   "cell_type": "code",
   "execution_count": 31,
   "id": "upper-harbor",
   "metadata": {},
   "outputs": [
    {
     "data": {
      "text/html": [
       "<div>\n",
       "<style scoped>\n",
       "    .dataframe tbody tr th:only-of-type {\n",
       "        vertical-align: middle;\n",
       "    }\n",
       "\n",
       "    .dataframe tbody tr th {\n",
       "        vertical-align: top;\n",
       "    }\n",
       "\n",
       "    .dataframe thead th {\n",
       "        text-align: right;\n",
       "    }\n",
       "</style>\n",
       "<table border=\"1\" class=\"dataframe\">\n",
       "  <thead>\n",
       "    <tr style=\"text-align: right;\">\n",
       "      <th></th>\n",
       "      <th>sentence</th>\n",
       "      <th>topic</th>\n",
       "    </tr>\n",
       "  </thead>\n",
       "  <tbody>\n",
       "    <tr>\n",
       "      <th>1012</th>\n",
       "      <td>도는 올해 처음으로 소규모 노후산단을 개선하는 YES산단 육성사업을 도입해 지속 지...</td>\n",
       "      <td>사회</td>\n",
       "    </tr>\n",
       "    <tr>\n",
       "      <th>7578</th>\n",
       "      <td>대출 금리도 인하 요인을 늘려 중신용자들의 금리부담 완하에 앞장선다.</td>\n",
       "      <td>경제</td>\n",
       "    </tr>\n",
       "    <tr>\n",
       "      <th>2485</th>\n",
       "      <td>각각 627명, 705명이 필기시험에 응시해 90명과 120명이 이후 면접전형 기회...</td>\n",
       "      <td>사회</td>\n",
       "    </tr>\n",
       "    <tr>\n",
       "      <th>12719</th>\n",
       "      <td>한편 99억의 여자는 매주 수, 목 오후 10시에 방송된다.</td>\n",
       "      <td>연예</td>\n",
       "    </tr>\n",
       "    <tr>\n",
       "      <th>10805</th>\n",
       "      <td>한편 JTBC 월화드라마 열여덟의 순간 2회는 23일 밤 9시 30분에 방송된다.</td>\n",
       "      <td>연예</td>\n",
       "    </tr>\n",
       "  </tbody>\n",
       "</table>\n",
       "</div>"
      ],
      "text/plain": [
       "                                                sentence topic\n",
       "1012   도는 올해 처음으로 소규모 노후산단을 개선하는 YES산단 육성사업을 도입해 지속 지...    사회\n",
       "7578              대출 금리도 인하 요인을 늘려 중신용자들의 금리부담 완하에 앞장선다.    경제\n",
       "2485   각각 627명, 705명이 필기시험에 응시해 90명과 120명이 이후 면접전형 기회...    사회\n",
       "12719                  한편 99억의 여자는 매주 수, 목 오후 10시에 방송된다.    연예\n",
       "10805      한편 JTBC 월화드라마 열여덟의 순간 2회는 23일 밤 9시 30분에 방송된다.    연예"
      ]
     },
     "execution_count": 31,
     "metadata": {},
     "output_type": "execute_result"
    }
   ],
   "source": [
    "df.head()"
   ]
  },
  {
   "cell_type": "code",
   "execution_count": 32,
   "id": "informational-universal",
   "metadata": {},
   "outputs": [
    {
     "data": {
      "text/html": [
       "<div>\n",
       "<style scoped>\n",
       "    .dataframe tbody tr th:only-of-type {\n",
       "        vertical-align: middle;\n",
       "    }\n",
       "\n",
       "    .dataframe tbody tr th {\n",
       "        vertical-align: top;\n",
       "    }\n",
       "\n",
       "    .dataframe thead th {\n",
       "        text-align: right;\n",
       "    }\n",
       "</style>\n",
       "<table border=\"1\" class=\"dataframe\">\n",
       "  <thead>\n",
       "    <tr style=\"text-align: right;\">\n",
       "      <th></th>\n",
       "      <th>sentence</th>\n",
       "      <th>topic</th>\n",
       "    </tr>\n",
       "  </thead>\n",
       "  <tbody>\n",
       "    <tr>\n",
       "      <th>0</th>\n",
       "      <td>도는 올해 처음으로 소규모 노후산단을 개선하는 YES산단 육성사업을 도입해 지속 지...</td>\n",
       "      <td>사회</td>\n",
       "    </tr>\n",
       "    <tr>\n",
       "      <th>1</th>\n",
       "      <td>대출 금리도 인하 요인을 늘려 중신용자들의 금리부담 완하에 앞장선다.</td>\n",
       "      <td>경제</td>\n",
       "    </tr>\n",
       "    <tr>\n",
       "      <th>2</th>\n",
       "      <td>각각 627명, 705명이 필기시험에 응시해 90명과 120명이 이후 면접전형 기회...</td>\n",
       "      <td>사회</td>\n",
       "    </tr>\n",
       "    <tr>\n",
       "      <th>3</th>\n",
       "      <td>한편 99억의 여자는 매주 수, 목 오후 10시에 방송된다.</td>\n",
       "      <td>연예</td>\n",
       "    </tr>\n",
       "    <tr>\n",
       "      <th>4</th>\n",
       "      <td>한편 JTBC 월화드라마 열여덟의 순간 2회는 23일 밤 9시 30분에 방송된다.</td>\n",
       "      <td>연예</td>\n",
       "    </tr>\n",
       "  </tbody>\n",
       "</table>\n",
       "</div>"
      ],
      "text/plain": [
       "                                            sentence topic\n",
       "0  도는 올해 처음으로 소규모 노후산단을 개선하는 YES산단 육성사업을 도입해 지속 지...    사회\n",
       "1             대출 금리도 인하 요인을 늘려 중신용자들의 금리부담 완하에 앞장선다.    경제\n",
       "2  각각 627명, 705명이 필기시험에 응시해 90명과 120명이 이후 면접전형 기회...    사회\n",
       "3                  한편 99억의 여자는 매주 수, 목 오후 10시에 방송된다.    연예\n",
       "4      한편 JTBC 월화드라마 열여덟의 순간 2회는 23일 밤 9시 30분에 방송된다.    연예"
      ]
     },
     "execution_count": 32,
     "metadata": {},
     "output_type": "execute_result"
    }
   ],
   "source": [
    "df.reset_index(drop=True, inplace=True)\n",
    "\n",
    "df.head()"
   ]
  },
  {
   "cell_type": "code",
   "execution_count": 33,
   "id": "accomplished-premises",
   "metadata": {},
   "outputs": [
    {
     "data": {
      "text/plain": [
       "연예       5655\n",
       "사회       4317\n",
       "경제       2876\n",
       "생활       2140\n",
       "IT/과학    1234\n",
       "정치       1074\n",
       "문화       1001\n",
       "미용/건강     635\n",
       "스포츠       538\n",
       "Name: topic, dtype: int64"
      ]
     },
     "execution_count": 33,
     "metadata": {},
     "output_type": "execute_result"
    }
   ],
   "source": [
    "df['topic'].value_counts()"
   ]
  },
  {
   "cell_type": "markdown",
   "id": "intended-emphasis",
   "metadata": {},
   "source": [
    "## label 인코딩"
   ]
  },
  {
   "cell_type": "code",
   "execution_count": 34,
   "id": "overall-appendix",
   "metadata": {},
   "outputs": [
    {
     "data": {
      "text/plain": [
       "array(['사회', '경제', '연예', '생활', '문화', 'IT/과학', '정치', '미용/건강', '스포츠'],\n",
       "      dtype=object)"
      ]
     },
     "execution_count": 34,
     "metadata": {},
     "output_type": "execute_result"
    }
   ],
   "source": [
    "topic_labels = df['topic'].unique()\n",
    "\n",
    "topic_labels"
   ]
  },
  {
   "cell_type": "code",
   "execution_count": 35,
   "id": "miniature-royal",
   "metadata": {},
   "outputs": [
    {
     "data": {
      "text/plain": [
       "{'사회': 0,\n",
       " '경제': 1,\n",
       " '연예': 2,\n",
       " '생활': 3,\n",
       " '문화': 4,\n",
       " 'IT/과학': 5,\n",
       " '정치': 6,\n",
       " '미용/건강': 7,\n",
       " '스포츠': 8}"
      ]
     },
     "execution_count": 35,
     "metadata": {},
     "output_type": "execute_result"
    }
   ],
   "source": [
    "label_dict = {}\n",
    "\n",
    "for i, topic in enumerate(topic_labels):\n",
    "    label_dict[topic] = i\n",
    "\n",
    "label_dict"
   ]
  },
  {
   "cell_type": "code",
   "execution_count": 36,
   "id": "received-keyboard",
   "metadata": {},
   "outputs": [
    {
     "data": {
      "text/html": [
       "<div>\n",
       "<style scoped>\n",
       "    .dataframe tbody tr th:only-of-type {\n",
       "        vertical-align: middle;\n",
       "    }\n",
       "\n",
       "    .dataframe tbody tr th {\n",
       "        vertical-align: top;\n",
       "    }\n",
       "\n",
       "    .dataframe thead th {\n",
       "        text-align: right;\n",
       "    }\n",
       "</style>\n",
       "<table border=\"1\" class=\"dataframe\">\n",
       "  <thead>\n",
       "    <tr style=\"text-align: right;\">\n",
       "      <th></th>\n",
       "      <th>sentence</th>\n",
       "      <th>topic</th>\n",
       "      <th>label</th>\n",
       "    </tr>\n",
       "  </thead>\n",
       "  <tbody>\n",
       "    <tr>\n",
       "      <th>0</th>\n",
       "      <td>도는 올해 처음으로 소규모 노후산단을 개선하는 YES산단 육성사업을 도입해 지속 지...</td>\n",
       "      <td>사회</td>\n",
       "      <td>0</td>\n",
       "    </tr>\n",
       "    <tr>\n",
       "      <th>1</th>\n",
       "      <td>대출 금리도 인하 요인을 늘려 중신용자들의 금리부담 완하에 앞장선다.</td>\n",
       "      <td>경제</td>\n",
       "      <td>1</td>\n",
       "    </tr>\n",
       "    <tr>\n",
       "      <th>2</th>\n",
       "      <td>각각 627명, 705명이 필기시험에 응시해 90명과 120명이 이후 면접전형 기회...</td>\n",
       "      <td>사회</td>\n",
       "      <td>0</td>\n",
       "    </tr>\n",
       "    <tr>\n",
       "      <th>3</th>\n",
       "      <td>한편 99억의 여자는 매주 수, 목 오후 10시에 방송된다.</td>\n",
       "      <td>연예</td>\n",
       "      <td>2</td>\n",
       "    </tr>\n",
       "    <tr>\n",
       "      <th>4</th>\n",
       "      <td>한편 JTBC 월화드라마 열여덟의 순간 2회는 23일 밤 9시 30분에 방송된다.</td>\n",
       "      <td>연예</td>\n",
       "      <td>2</td>\n",
       "    </tr>\n",
       "  </tbody>\n",
       "</table>\n",
       "</div>"
      ],
      "text/plain": [
       "                                            sentence topic  label\n",
       "0  도는 올해 처음으로 소규모 노후산단을 개선하는 YES산단 육성사업을 도입해 지속 지...    사회      0\n",
       "1             대출 금리도 인하 요인을 늘려 중신용자들의 금리부담 완하에 앞장선다.    경제      1\n",
       "2  각각 627명, 705명이 필기시험에 응시해 90명과 120명이 이후 면접전형 기회...    사회      0\n",
       "3                  한편 99억의 여자는 매주 수, 목 오후 10시에 방송된다.    연예      2\n",
       "4      한편 JTBC 월화드라마 열여덟의 순간 2회는 23일 밤 9시 30분에 방송된다.    연예      2"
      ]
     },
     "execution_count": 36,
     "metadata": {},
     "output_type": "execute_result"
    }
   ],
   "source": [
    "df['label'] = df['topic'].replace(label_dict)\n",
    "\n",
    "df.head()"
   ]
  },
  {
   "cell_type": "markdown",
   "id": "successful-corps",
   "metadata": {},
   "source": [
    "## data split"
   ]
  },
  {
   "cell_type": "code",
   "execution_count": 37,
   "id": "scheduled-blake",
   "metadata": {},
   "outputs": [],
   "source": [
    "from sklearn.model_selection import train_test_split\n",
    "\n",
    "X_train, X_val, y_train, y_val = train_test_split(df.index.values,\n",
    "                                                 df.label.values,\n",
    "                                                 test_size=0.2,\n",
    "                                                 random_state=42,\n",
    "                                                 stratify=df.label.values)\n"
   ]
  },
  {
   "cell_type": "code",
   "execution_count": 38,
   "id": "acoustic-arrival",
   "metadata": {},
   "outputs": [
    {
     "data": {
      "text/plain": [
       "array([ 9722, 12895, 16961, 14568, 13496])"
      ]
     },
     "execution_count": 38,
     "metadata": {},
     "output_type": "execute_result"
    }
   ],
   "source": [
    "X_train[:5]"
   ]
  },
  {
   "cell_type": "code",
   "execution_count": 39,
   "id": "swiss-mileage",
   "metadata": {},
   "outputs": [
    {
     "data": {
      "text/plain": [
       "array([5, 5, 0, 0, 1])"
      ]
     },
     "execution_count": 39,
     "metadata": {},
     "output_type": "execute_result"
    }
   ],
   "source": [
    "y_train[:5]"
   ]
  },
  {
   "cell_type": "code",
   "execution_count": 40,
   "id": "stupid-observation",
   "metadata": {},
   "outputs": [
    {
     "data": {
      "text/plain": [
       "array([ 6222, 12311,  9557, 15277,  9811])"
      ]
     },
     "execution_count": 40,
     "metadata": {},
     "output_type": "execute_result"
    }
   ],
   "source": [
    "X_val[:5]"
   ]
  },
  {
   "cell_type": "code",
   "execution_count": 41,
   "id": "southwest-desert",
   "metadata": {},
   "outputs": [
    {
     "data": {
      "text/plain": [
       "array([2, 1, 1, 1, 2])"
      ]
     },
     "execution_count": 41,
     "metadata": {},
     "output_type": "execute_result"
    }
   ],
   "source": [
    "y_val[:5]"
   ]
  },
  {
   "cell_type": "code",
   "execution_count": 42,
   "id": "greenhouse-ability",
   "metadata": {},
   "outputs": [
    {
     "data": {
      "text/html": [
       "<div>\n",
       "<style scoped>\n",
       "    .dataframe tbody tr th:only-of-type {\n",
       "        vertical-align: middle;\n",
       "    }\n",
       "\n",
       "    .dataframe tbody tr th {\n",
       "        vertical-align: top;\n",
       "    }\n",
       "\n",
       "    .dataframe thead th {\n",
       "        text-align: right;\n",
       "    }\n",
       "</style>\n",
       "<table border=\"1\" class=\"dataframe\">\n",
       "  <thead>\n",
       "    <tr style=\"text-align: right;\">\n",
       "      <th></th>\n",
       "      <th></th>\n",
       "      <th></th>\n",
       "      <th>sentence</th>\n",
       "    </tr>\n",
       "    <tr>\n",
       "      <th>topic</th>\n",
       "      <th>label</th>\n",
       "      <th>data_type</th>\n",
       "      <th></th>\n",
       "    </tr>\n",
       "  </thead>\n",
       "  <tbody>\n",
       "    <tr>\n",
       "      <th rowspan=\"2\" valign=\"top\">IT/과학</th>\n",
       "      <th rowspan=\"2\" valign=\"top\">5</th>\n",
       "      <th>train</th>\n",
       "      <td>987</td>\n",
       "    </tr>\n",
       "    <tr>\n",
       "      <th>val</th>\n",
       "      <td>247</td>\n",
       "    </tr>\n",
       "    <tr>\n",
       "      <th rowspan=\"2\" valign=\"top\">경제</th>\n",
       "      <th rowspan=\"2\" valign=\"top\">1</th>\n",
       "      <th>train</th>\n",
       "      <td>2301</td>\n",
       "    </tr>\n",
       "    <tr>\n",
       "      <th>val</th>\n",
       "      <td>575</td>\n",
       "    </tr>\n",
       "    <tr>\n",
       "      <th rowspan=\"2\" valign=\"top\">문화</th>\n",
       "      <th rowspan=\"2\" valign=\"top\">4</th>\n",
       "      <th>train</th>\n",
       "      <td>801</td>\n",
       "    </tr>\n",
       "    <tr>\n",
       "      <th>val</th>\n",
       "      <td>200</td>\n",
       "    </tr>\n",
       "    <tr>\n",
       "      <th rowspan=\"2\" valign=\"top\">미용/건강</th>\n",
       "      <th rowspan=\"2\" valign=\"top\">7</th>\n",
       "      <th>train</th>\n",
       "      <td>508</td>\n",
       "    </tr>\n",
       "    <tr>\n",
       "      <th>val</th>\n",
       "      <td>127</td>\n",
       "    </tr>\n",
       "    <tr>\n",
       "      <th rowspan=\"2\" valign=\"top\">사회</th>\n",
       "      <th rowspan=\"2\" valign=\"top\">0</th>\n",
       "      <th>train</th>\n",
       "      <td>3454</td>\n",
       "    </tr>\n",
       "    <tr>\n",
       "      <th>val</th>\n",
       "      <td>863</td>\n",
       "    </tr>\n",
       "    <tr>\n",
       "      <th rowspan=\"2\" valign=\"top\">생활</th>\n",
       "      <th rowspan=\"2\" valign=\"top\">3</th>\n",
       "      <th>train</th>\n",
       "      <td>1712</td>\n",
       "    </tr>\n",
       "    <tr>\n",
       "      <th>val</th>\n",
       "      <td>428</td>\n",
       "    </tr>\n",
       "    <tr>\n",
       "      <th rowspan=\"2\" valign=\"top\">스포츠</th>\n",
       "      <th rowspan=\"2\" valign=\"top\">8</th>\n",
       "      <th>train</th>\n",
       "      <td>430</td>\n",
       "    </tr>\n",
       "    <tr>\n",
       "      <th>val</th>\n",
       "      <td>108</td>\n",
       "    </tr>\n",
       "    <tr>\n",
       "      <th rowspan=\"2\" valign=\"top\">연예</th>\n",
       "      <th rowspan=\"2\" valign=\"top\">2</th>\n",
       "      <th>train</th>\n",
       "      <td>4524</td>\n",
       "    </tr>\n",
       "    <tr>\n",
       "      <th>val</th>\n",
       "      <td>1131</td>\n",
       "    </tr>\n",
       "    <tr>\n",
       "      <th rowspan=\"2\" valign=\"top\">정치</th>\n",
       "      <th rowspan=\"2\" valign=\"top\">6</th>\n",
       "      <th>train</th>\n",
       "      <td>859</td>\n",
       "    </tr>\n",
       "    <tr>\n",
       "      <th>val</th>\n",
       "      <td>215</td>\n",
       "    </tr>\n",
       "  </tbody>\n",
       "</table>\n",
       "</div>"
      ],
      "text/plain": [
       "                       sentence\n",
       "topic label data_type          \n",
       "IT/과학 5     train           987\n",
       "            val             247\n",
       "경제    1     train          2301\n",
       "            val             575\n",
       "문화    4     train           801\n",
       "            val             200\n",
       "미용/건강 7     train           508\n",
       "            val             127\n",
       "사회    0     train          3454\n",
       "            val             863\n",
       "생활    3     train          1712\n",
       "            val             428\n",
       "스포츠   8     train           430\n",
       "            val             108\n",
       "연예    2     train          4524\n",
       "            val            1131\n",
       "정치    6     train           859\n",
       "            val             215"
      ]
     },
     "execution_count": 42,
     "metadata": {},
     "output_type": "execute_result"
    }
   ],
   "source": [
    "df['data_type'] = ['not_set'] * df.shape[0]\n",
    "\n",
    "df.loc[X_train, 'data_type'] = 'train'\n",
    "df.loc[X_val, 'data_type'] = 'val'\n",
    "\n",
    "df.groupby(['topic', 'label', 'data_type']).count()"
   ]
  },
  {
   "cell_type": "code",
   "execution_count": 43,
   "id": "generic-choice",
   "metadata": {},
   "outputs": [
    {
     "data": {
      "text/html": [
       "<div>\n",
       "<style scoped>\n",
       "    .dataframe tbody tr th:only-of-type {\n",
       "        vertical-align: middle;\n",
       "    }\n",
       "\n",
       "    .dataframe tbody tr th {\n",
       "        vertical-align: top;\n",
       "    }\n",
       "\n",
       "    .dataframe thead th {\n",
       "        text-align: right;\n",
       "    }\n",
       "</style>\n",
       "<table border=\"1\" class=\"dataframe\">\n",
       "  <thead>\n",
       "    <tr style=\"text-align: right;\">\n",
       "      <th></th>\n",
       "      <th>sentence</th>\n",
       "      <th>topic</th>\n",
       "      <th>label</th>\n",
       "      <th>data_type</th>\n",
       "    </tr>\n",
       "  </thead>\n",
       "  <tbody>\n",
       "    <tr>\n",
       "      <th>9722</th>\n",
       "      <td>유전체 기반 오픈 플랫폼 마이지놈박스가 공식 웹사이트 오픈 4주년인 오는 8월 15...</td>\n",
       "      <td>IT/과학</td>\n",
       "      <td>5</td>\n",
       "      <td>train</td>\n",
       "    </tr>\n",
       "    <tr>\n",
       "      <th>12895</th>\n",
       "      <td>해당 채널은 조 장관 딸 조모씨에 대한 영상을 올리며 실명과 얼굴을 그대로 노출하며...</td>\n",
       "      <td>IT/과학</td>\n",
       "      <td>5</td>\n",
       "      <td>train</td>\n",
       "    </tr>\n",
       "    <tr>\n",
       "      <th>16961</th>\n",
       "      <td>뉴욕 증시는 그동안 무역합의가 이뤄질 것이란 데 대해 매우 낙관적이었다.</td>\n",
       "      <td>사회</td>\n",
       "      <td>0</td>\n",
       "      <td>train</td>\n",
       "    </tr>\n",
       "    <tr>\n",
       "      <th>14568</th>\n",
       "      <td>이어 금번 WFP를 통해 지원되는 식량이 북한 주민에게 최대한 신속히 전달될 수 있...</td>\n",
       "      <td>사회</td>\n",
       "      <td>0</td>\n",
       "      <td>train</td>\n",
       "    </tr>\n",
       "    <tr>\n",
       "      <th>13496</th>\n",
       "      <td>한국은행 통합별관 건축을 결국 계룡건설이 맡게 될 것으로 보인다.</td>\n",
       "      <td>경제</td>\n",
       "      <td>1</td>\n",
       "      <td>train</td>\n",
       "    </tr>\n",
       "  </tbody>\n",
       "</table>\n",
       "</div>"
      ],
      "text/plain": [
       "                                                sentence  topic  label  \\\n",
       "9722   유전체 기반 오픈 플랫폼 마이지놈박스가 공식 웹사이트 오픈 4주년인 오는 8월 15...  IT/과학      5   \n",
       "12895  해당 채널은 조 장관 딸 조모씨에 대한 영상을 올리며 실명과 얼굴을 그대로 노출하며...  IT/과학      5   \n",
       "16961           뉴욕 증시는 그동안 무역합의가 이뤄질 것이란 데 대해 매우 낙관적이었다.     사회      0   \n",
       "14568  이어 금번 WFP를 통해 지원되는 식량이 북한 주민에게 최대한 신속히 전달될 수 있...     사회      0   \n",
       "13496               한국은행 통합별관 건축을 결국 계룡건설이 맡게 될 것으로 보인다.     경제      1   \n",
       "\n",
       "      data_type  \n",
       "9722      train  \n",
       "12895     train  \n",
       "16961     train  \n",
       "14568     train  \n",
       "13496     train  "
      ]
     },
     "execution_count": 43,
     "metadata": {},
     "output_type": "execute_result"
    }
   ],
   "source": [
    "df.iloc[X_train].head()"
   ]
  },
  {
   "cell_type": "code",
   "execution_count": 44,
   "id": "fancy-generation",
   "metadata": {},
   "outputs": [
    {
     "data": {
      "text/html": [
       "<div>\n",
       "<style scoped>\n",
       "    .dataframe tbody tr th:only-of-type {\n",
       "        vertical-align: middle;\n",
       "    }\n",
       "\n",
       "    .dataframe tbody tr th {\n",
       "        vertical-align: top;\n",
       "    }\n",
       "\n",
       "    .dataframe thead th {\n",
       "        text-align: right;\n",
       "    }\n",
       "</style>\n",
       "<table border=\"1\" class=\"dataframe\">\n",
       "  <thead>\n",
       "    <tr style=\"text-align: right;\">\n",
       "      <th></th>\n",
       "      <th>sentence</th>\n",
       "      <th>topic</th>\n",
       "      <th>label</th>\n",
       "      <th>data_type</th>\n",
       "    </tr>\n",
       "  </thead>\n",
       "  <tbody>\n",
       "    <tr>\n",
       "      <th>6222</th>\n",
       "      <td>한편 캠핑클럽은 매주 일요일 오후 9시에 방송된다.</td>\n",
       "      <td>연예</td>\n",
       "      <td>2</td>\n",
       "      <td>val</td>\n",
       "    </tr>\n",
       "    <tr>\n",
       "      <th>12311</th>\n",
       "      <td>장 대표는 시예저치앙 ABL생명보험 대표이사의 추천으로 이번 캠페인에 동참하게 됐다.</td>\n",
       "      <td>경제</td>\n",
       "      <td>1</td>\n",
       "      <td>val</td>\n",
       "    </tr>\n",
       "    <tr>\n",
       "      <th>9557</th>\n",
       "      <td>박신철 삼성SDI 품질보증실 프로가 세계에서 가장 많은 품질 자격증을 보유하게 됐다.</td>\n",
       "      <td>경제</td>\n",
       "      <td>1</td>\n",
       "      <td>val</td>\n",
       "    </tr>\n",
       "    <tr>\n",
       "      <th>15277</th>\n",
       "      <td>한은이 이번 금통위에서 금리를 인하할 것이라고 전망한 응답자는 1명에 그쳤다.</td>\n",
       "      <td>경제</td>\n",
       "      <td>1</td>\n",
       "      <td>val</td>\n",
       "    </tr>\n",
       "    <tr>\n",
       "      <th>9811</th>\n",
       "      <td>한편, 한선화가 출연하는 OCN 구해줘2는 매주 수, 목요일 밤 11시에 방송된다.</td>\n",
       "      <td>연예</td>\n",
       "      <td>2</td>\n",
       "      <td>val</td>\n",
       "    </tr>\n",
       "  </tbody>\n",
       "</table>\n",
       "</div>"
      ],
      "text/plain": [
       "                                              sentence topic  label data_type\n",
       "6222                      한편 캠핑클럽은 매주 일요일 오후 9시에 방송된다.    연예      2       val\n",
       "12311  장 대표는 시예저치앙 ABL생명보험 대표이사의 추천으로 이번 캠페인에 동참하게 됐다.    경제      1       val\n",
       "9557   박신철 삼성SDI 품질보증실 프로가 세계에서 가장 많은 품질 자격증을 보유하게 됐다.    경제      1       val\n",
       "15277      한은이 이번 금통위에서 금리를 인하할 것이라고 전망한 응답자는 1명에 그쳤다.    경제      1       val\n",
       "9811    한편, 한선화가 출연하는 OCN 구해줘2는 매주 수, 목요일 밤 11시에 방송된다.    연예      2       val"
      ]
     },
     "execution_count": 44,
     "metadata": {},
     "output_type": "execute_result"
    }
   ],
   "source": [
    "df.iloc[X_val].head()"
   ]
  },
  {
   "cell_type": "code",
   "execution_count": 45,
   "id": "pending-telephone",
   "metadata": {},
   "outputs": [],
   "source": [
    "test_df = df.iloc[X_val]\n",
    "train_df = df.iloc[X_train]"
   ]
  },
  {
   "cell_type": "code",
   "execution_count": 46,
   "id": "guided-completion",
   "metadata": {},
   "outputs": [
    {
     "name": "stderr",
     "output_type": "stream",
     "text": [
      "/Users/datawhales/opt/anaconda3/lib/python3.8/site-packages/pandas/core/frame.py:4305: SettingWithCopyWarning: \n",
      "A value is trying to be set on a copy of a slice from a DataFrame\n",
      "\n",
      "See the caveats in the documentation: https://pandas.pydata.org/pandas-docs/stable/user_guide/indexing.html#returning-a-view-versus-a-copy\n",
      "  return super().drop(\n"
     ]
    }
   ],
   "source": [
    "test_df.drop(columns='data_type', inplace=True)"
   ]
  },
  {
   "cell_type": "code",
   "execution_count": 47,
   "id": "searching-ceremony",
   "metadata": {},
   "outputs": [
    {
     "data": {
      "text/html": [
       "<div>\n",
       "<style scoped>\n",
       "    .dataframe tbody tr th:only-of-type {\n",
       "        vertical-align: middle;\n",
       "    }\n",
       "\n",
       "    .dataframe tbody tr th {\n",
       "        vertical-align: top;\n",
       "    }\n",
       "\n",
       "    .dataframe thead th {\n",
       "        text-align: right;\n",
       "    }\n",
       "</style>\n",
       "<table border=\"1\" class=\"dataframe\">\n",
       "  <thead>\n",
       "    <tr style=\"text-align: right;\">\n",
       "      <th></th>\n",
       "      <th>sentence</th>\n",
       "      <th>topic</th>\n",
       "      <th>label</th>\n",
       "    </tr>\n",
       "  </thead>\n",
       "  <tbody>\n",
       "    <tr>\n",
       "      <th>0</th>\n",
       "      <td>한편 캠핑클럽은 매주 일요일 오후 9시에 방송된다.</td>\n",
       "      <td>연예</td>\n",
       "      <td>2</td>\n",
       "    </tr>\n",
       "    <tr>\n",
       "      <th>1</th>\n",
       "      <td>장 대표는 시예저치앙 ABL생명보험 대표이사의 추천으로 이번 캠페인에 동참하게 됐다.</td>\n",
       "      <td>경제</td>\n",
       "      <td>1</td>\n",
       "    </tr>\n",
       "    <tr>\n",
       "      <th>2</th>\n",
       "      <td>박신철 삼성SDI 품질보증실 프로가 세계에서 가장 많은 품질 자격증을 보유하게 됐다.</td>\n",
       "      <td>경제</td>\n",
       "      <td>1</td>\n",
       "    </tr>\n",
       "    <tr>\n",
       "      <th>3</th>\n",
       "      <td>한은이 이번 금통위에서 금리를 인하할 것이라고 전망한 응답자는 1명에 그쳤다.</td>\n",
       "      <td>경제</td>\n",
       "      <td>1</td>\n",
       "    </tr>\n",
       "    <tr>\n",
       "      <th>4</th>\n",
       "      <td>한편, 한선화가 출연하는 OCN 구해줘2는 매주 수, 목요일 밤 11시에 방송된다.</td>\n",
       "      <td>연예</td>\n",
       "      <td>2</td>\n",
       "    </tr>\n",
       "  </tbody>\n",
       "</table>\n",
       "</div>"
      ],
      "text/plain": [
       "                                          sentence topic  label\n",
       "0                     한편 캠핑클럽은 매주 일요일 오후 9시에 방송된다.    연예      2\n",
       "1  장 대표는 시예저치앙 ABL생명보험 대표이사의 추천으로 이번 캠페인에 동참하게 됐다.    경제      1\n",
       "2  박신철 삼성SDI 품질보증실 프로가 세계에서 가장 많은 품질 자격증을 보유하게 됐다.    경제      1\n",
       "3      한은이 이번 금통위에서 금리를 인하할 것이라고 전망한 응답자는 1명에 그쳤다.    경제      1\n",
       "4   한편, 한선화가 출연하는 OCN 구해줘2는 매주 수, 목요일 밤 11시에 방송된다.    연예      2"
      ]
     },
     "execution_count": 47,
     "metadata": {},
     "output_type": "execute_result"
    }
   ],
   "source": [
    "test_df.reset_index(drop=True, inplace=True)\n",
    "\n",
    "test_df.head()"
   ]
  },
  {
   "cell_type": "code",
   "execution_count": 48,
   "id": "catholic-castle",
   "metadata": {},
   "outputs": [
    {
     "name": "stderr",
     "output_type": "stream",
     "text": [
      "/Users/datawhales/opt/anaconda3/lib/python3.8/site-packages/pandas/core/frame.py:4305: SettingWithCopyWarning: \n",
      "A value is trying to be set on a copy of a slice from a DataFrame\n",
      "\n",
      "See the caveats in the documentation: https://pandas.pydata.org/pandas-docs/stable/user_guide/indexing.html#returning-a-view-versus-a-copy\n",
      "  return super().drop(\n"
     ]
    },
    {
     "data": {
      "text/html": [
       "<div>\n",
       "<style scoped>\n",
       "    .dataframe tbody tr th:only-of-type {\n",
       "        vertical-align: middle;\n",
       "    }\n",
       "\n",
       "    .dataframe tbody tr th {\n",
       "        vertical-align: top;\n",
       "    }\n",
       "\n",
       "    .dataframe thead th {\n",
       "        text-align: right;\n",
       "    }\n",
       "</style>\n",
       "<table border=\"1\" class=\"dataframe\">\n",
       "  <thead>\n",
       "    <tr style=\"text-align: right;\">\n",
       "      <th></th>\n",
       "      <th>sentence</th>\n",
       "      <th>topic</th>\n",
       "      <th>label</th>\n",
       "    </tr>\n",
       "  </thead>\n",
       "  <tbody>\n",
       "    <tr>\n",
       "      <th>0</th>\n",
       "      <td>유전체 기반 오픈 플랫폼 마이지놈박스가 공식 웹사이트 오픈 4주년인 오는 8월 15...</td>\n",
       "      <td>IT/과학</td>\n",
       "      <td>5</td>\n",
       "    </tr>\n",
       "    <tr>\n",
       "      <th>1</th>\n",
       "      <td>해당 채널은 조 장관 딸 조모씨에 대한 영상을 올리며 실명과 얼굴을 그대로 노출하며...</td>\n",
       "      <td>IT/과학</td>\n",
       "      <td>5</td>\n",
       "    </tr>\n",
       "    <tr>\n",
       "      <th>2</th>\n",
       "      <td>뉴욕 증시는 그동안 무역합의가 이뤄질 것이란 데 대해 매우 낙관적이었다.</td>\n",
       "      <td>사회</td>\n",
       "      <td>0</td>\n",
       "    </tr>\n",
       "    <tr>\n",
       "      <th>3</th>\n",
       "      <td>이어 금번 WFP를 통해 지원되는 식량이 북한 주민에게 최대한 신속히 전달될 수 있...</td>\n",
       "      <td>사회</td>\n",
       "      <td>0</td>\n",
       "    </tr>\n",
       "    <tr>\n",
       "      <th>4</th>\n",
       "      <td>한국은행 통합별관 건축을 결국 계룡건설이 맡게 될 것으로 보인다.</td>\n",
       "      <td>경제</td>\n",
       "      <td>1</td>\n",
       "    </tr>\n",
       "  </tbody>\n",
       "</table>\n",
       "</div>"
      ],
      "text/plain": [
       "                                            sentence  topic  label\n",
       "0  유전체 기반 오픈 플랫폼 마이지놈박스가 공식 웹사이트 오픈 4주년인 오는 8월 15...  IT/과학      5\n",
       "1  해당 채널은 조 장관 딸 조모씨에 대한 영상을 올리며 실명과 얼굴을 그대로 노출하며...  IT/과학      5\n",
       "2           뉴욕 증시는 그동안 무역합의가 이뤄질 것이란 데 대해 매우 낙관적이었다.     사회      0\n",
       "3  이어 금번 WFP를 통해 지원되는 식량이 북한 주민에게 최대한 신속히 전달될 수 있...     사회      0\n",
       "4               한국은행 통합별관 건축을 결국 계룡건설이 맡게 될 것으로 보인다.     경제      1"
      ]
     },
     "execution_count": 48,
     "metadata": {},
     "output_type": "execute_result"
    }
   ],
   "source": [
    "train_df.drop(columns='data_type', inplace=True)\n",
    "\n",
    "train_df.reset_index(drop=True, inplace=True)\n",
    "\n",
    "train_df.head()"
   ]
  },
  {
   "cell_type": "code",
   "execution_count": 49,
   "id": "affected-panel",
   "metadata": {},
   "outputs": [],
   "source": [
    "# split train_df into train_df, val_df\n",
    "X_train, X_val, y_train, y_val = train_test_split(train_df.index.values,\n",
    "                                                 train_df.label.values,\n",
    "                                                 test_size=0.2,\n",
    "                                                 random_state=42,\n",
    "                                                 stratify=train_df.label.values)"
   ]
  },
  {
   "cell_type": "code",
   "execution_count": 50,
   "id": "competent-prerequisite",
   "metadata": {},
   "outputs": [],
   "source": [
    "val_df = train_df.iloc[X_val]\n",
    "train_df = train_df.iloc[X_train]"
   ]
  },
  {
   "cell_type": "code",
   "execution_count": 54,
   "id": "superior-tulsa",
   "metadata": {},
   "outputs": [],
   "source": [
    "train_df.reset_index(drop=True, inplace=True)\n",
    "val_df.reset_index(drop=True, inplace=True)"
   ]
  },
  {
   "cell_type": "code",
   "execution_count": 55,
   "id": "terminal-singer",
   "metadata": {},
   "outputs": [
    {
     "data": {
      "text/html": [
       "<div>\n",
       "<style scoped>\n",
       "    .dataframe tbody tr th:only-of-type {\n",
       "        vertical-align: middle;\n",
       "    }\n",
       "\n",
       "    .dataframe tbody tr th {\n",
       "        vertical-align: top;\n",
       "    }\n",
       "\n",
       "    .dataframe thead th {\n",
       "        text-align: right;\n",
       "    }\n",
       "</style>\n",
       "<table border=\"1\" class=\"dataframe\">\n",
       "  <thead>\n",
       "    <tr style=\"text-align: right;\">\n",
       "      <th></th>\n",
       "      <th>sentence</th>\n",
       "      <th>topic</th>\n",
       "      <th>label</th>\n",
       "    </tr>\n",
       "  </thead>\n",
       "  <tbody>\n",
       "    <tr>\n",
       "      <th>0</th>\n",
       "      <td>트리플하려고 버디를 많이 잡은 것 같다.</td>\n",
       "      <td>스포츠</td>\n",
       "      <td>8</td>\n",
       "    </tr>\n",
       "    <tr>\n",
       "      <th>1</th>\n",
       "      <td>'동상이몽2' 안현모가 '제 2차 북미정상회담' 뒷이야기를 공개한다.</td>\n",
       "      <td>연예</td>\n",
       "      <td>2</td>\n",
       "    </tr>\n",
       "    <tr>\n",
       "      <th>2</th>\n",
       "      <td>그러면서 김혜준, 조이현, 김강훈 등 신예 배우들의 연기에도 집중해 줄 것을 당부했다.</td>\n",
       "      <td>문화</td>\n",
       "      <td>4</td>\n",
       "    </tr>\n",
       "    <tr>\n",
       "      <th>3</th>\n",
       "      <td>MBC 새 수목 드라마 신입사관 구해령 측은 4일 구해령을 비롯한 여사 4총사의 모...</td>\n",
       "      <td>연예</td>\n",
       "      <td>2</td>\n",
       "    </tr>\n",
       "    <tr>\n",
       "      <th>4</th>\n",
       "      <td>복지 확대를 통한 경제살리기의 구체적 방안으로 이 지사의 핵심 공약인 지역화폐를 통...</td>\n",
       "      <td>정치</td>\n",
       "      <td>6</td>\n",
       "    </tr>\n",
       "  </tbody>\n",
       "</table>\n",
       "</div>"
      ],
      "text/plain": [
       "                                            sentence topic  label\n",
       "0                             트리플하려고 버디를 많이 잡은 것 같다.   스포츠      8\n",
       "1             '동상이몽2' 안현모가 '제 2차 북미정상회담' 뒷이야기를 공개한다.    연예      2\n",
       "2   그러면서 김혜준, 조이현, 김강훈 등 신예 배우들의 연기에도 집중해 줄 것을 당부했다.    문화      4\n",
       "3  MBC 새 수목 드라마 신입사관 구해령 측은 4일 구해령을 비롯한 여사 4총사의 모...    연예      2\n",
       "4  복지 확대를 통한 경제살리기의 구체적 방안으로 이 지사의 핵심 공약인 지역화폐를 통...    정치      6"
      ]
     },
     "execution_count": 55,
     "metadata": {},
     "output_type": "execute_result"
    }
   ],
   "source": [
    "train_df.head()"
   ]
  },
  {
   "cell_type": "code",
   "execution_count": 56,
   "id": "grateful-distinction",
   "metadata": {},
   "outputs": [
    {
     "data": {
      "text/html": [
       "<div>\n",
       "<style scoped>\n",
       "    .dataframe tbody tr th:only-of-type {\n",
       "        vertical-align: middle;\n",
       "    }\n",
       "\n",
       "    .dataframe tbody tr th {\n",
       "        vertical-align: top;\n",
       "    }\n",
       "\n",
       "    .dataframe thead th {\n",
       "        text-align: right;\n",
       "    }\n",
       "</style>\n",
       "<table border=\"1\" class=\"dataframe\">\n",
       "  <thead>\n",
       "    <tr style=\"text-align: right;\">\n",
       "      <th></th>\n",
       "      <th>sentence</th>\n",
       "      <th>topic</th>\n",
       "      <th>label</th>\n",
       "    </tr>\n",
       "  </thead>\n",
       "  <tbody>\n",
       "    <tr>\n",
       "      <th>0</th>\n",
       "      <td>오는 23일로 예정된 중앙노동위원회 사후조정은 협상 타결로 가는 최대 분수령이 될 ...</td>\n",
       "      <td>경제</td>\n",
       "      <td>1</td>\n",
       "    </tr>\n",
       "    <tr>\n",
       "      <th>1</th>\n",
       "      <td>또한 업체 클라이언트를 위한 광고 이미지와 문구를 삽입할 수 있다.</td>\n",
       "      <td>생활</td>\n",
       "      <td>3</td>\n",
       "    </tr>\n",
       "    <tr>\n",
       "      <th>2</th>\n",
       "      <td>한편 tvN 호텔 델루나 매주 토, 일 밤 9시에 방송된다.</td>\n",
       "      <td>생활</td>\n",
       "      <td>3</td>\n",
       "    </tr>\n",
       "    <tr>\n",
       "      <th>3</th>\n",
       "      <td>배우 조윤희와 윤박, 오민석, 조우리가 주말 안방극장에 복귀한다.</td>\n",
       "      <td>연예</td>\n",
       "      <td>2</td>\n",
       "    </tr>\n",
       "    <tr>\n",
       "      <th>4</th>\n",
       "      <td>이어이후 치료에 전념하며 2019년 3월 21일 재입대하였으나, 또다시 병증으로 인...</td>\n",
       "      <td>사회</td>\n",
       "      <td>0</td>\n",
       "    </tr>\n",
       "  </tbody>\n",
       "</table>\n",
       "</div>"
      ],
      "text/plain": [
       "                                            sentence topic  label\n",
       "0  오는 23일로 예정된 중앙노동위원회 사후조정은 협상 타결로 가는 최대 분수령이 될 ...    경제      1\n",
       "1              또한 업체 클라이언트를 위한 광고 이미지와 문구를 삽입할 수 있다.    생활      3\n",
       "2                  한편 tvN 호텔 델루나 매주 토, 일 밤 9시에 방송된다.    생활      3\n",
       "3               배우 조윤희와 윤박, 오민석, 조우리가 주말 안방극장에 복귀한다.    연예      2\n",
       "4  이어이후 치료에 전념하며 2019년 3월 21일 재입대하였으나, 또다시 병증으로 인...    사회      0"
      ]
     },
     "execution_count": 56,
     "metadata": {},
     "output_type": "execute_result"
    }
   ],
   "source": [
    "val_df.head()"
   ]
  },
  {
   "cell_type": "code",
   "execution_count": 57,
   "id": "bibliographic-favor",
   "metadata": {},
   "outputs": [
    {
     "data": {
      "text/html": [
       "<div>\n",
       "<style scoped>\n",
       "    .dataframe tbody tr th:only-of-type {\n",
       "        vertical-align: middle;\n",
       "    }\n",
       "\n",
       "    .dataframe tbody tr th {\n",
       "        vertical-align: top;\n",
       "    }\n",
       "\n",
       "    .dataframe thead th {\n",
       "        text-align: right;\n",
       "    }\n",
       "</style>\n",
       "<table border=\"1\" class=\"dataframe\">\n",
       "  <thead>\n",
       "    <tr style=\"text-align: right;\">\n",
       "      <th></th>\n",
       "      <th>sentence</th>\n",
       "      <th>topic</th>\n",
       "      <th>label</th>\n",
       "    </tr>\n",
       "  </thead>\n",
       "  <tbody>\n",
       "    <tr>\n",
       "      <th>0</th>\n",
       "      <td>한편 캠핑클럽은 매주 일요일 오후 9시에 방송된다.</td>\n",
       "      <td>연예</td>\n",
       "      <td>2</td>\n",
       "    </tr>\n",
       "    <tr>\n",
       "      <th>1</th>\n",
       "      <td>장 대표는 시예저치앙 ABL생명보험 대표이사의 추천으로 이번 캠페인에 동참하게 됐다.</td>\n",
       "      <td>경제</td>\n",
       "      <td>1</td>\n",
       "    </tr>\n",
       "    <tr>\n",
       "      <th>2</th>\n",
       "      <td>박신철 삼성SDI 품질보증실 프로가 세계에서 가장 많은 품질 자격증을 보유하게 됐다.</td>\n",
       "      <td>경제</td>\n",
       "      <td>1</td>\n",
       "    </tr>\n",
       "    <tr>\n",
       "      <th>3</th>\n",
       "      <td>한은이 이번 금통위에서 금리를 인하할 것이라고 전망한 응답자는 1명에 그쳤다.</td>\n",
       "      <td>경제</td>\n",
       "      <td>1</td>\n",
       "    </tr>\n",
       "    <tr>\n",
       "      <th>4</th>\n",
       "      <td>한편, 한선화가 출연하는 OCN 구해줘2는 매주 수, 목요일 밤 11시에 방송된다.</td>\n",
       "      <td>연예</td>\n",
       "      <td>2</td>\n",
       "    </tr>\n",
       "  </tbody>\n",
       "</table>\n",
       "</div>"
      ],
      "text/plain": [
       "                                          sentence topic  label\n",
       "0                     한편 캠핑클럽은 매주 일요일 오후 9시에 방송된다.    연예      2\n",
       "1  장 대표는 시예저치앙 ABL생명보험 대표이사의 추천으로 이번 캠페인에 동참하게 됐다.    경제      1\n",
       "2  박신철 삼성SDI 품질보증실 프로가 세계에서 가장 많은 품질 자격증을 보유하게 됐다.    경제      1\n",
       "3      한은이 이번 금통위에서 금리를 인하할 것이라고 전망한 응답자는 1명에 그쳤다.    경제      1\n",
       "4   한편, 한선화가 출연하는 OCN 구해줘2는 매주 수, 목요일 밤 11시에 방송된다.    연예      2"
      ]
     },
     "execution_count": 57,
     "metadata": {},
     "output_type": "execute_result"
    }
   ],
   "source": [
    "test_df.head()"
   ]
  },
  {
   "cell_type": "code",
   "execution_count": 58,
   "id": "invalid-biotechnology",
   "metadata": {},
   "outputs": [
    {
     "name": "stdout",
     "output_type": "stream",
     "text": [
      "12460 3116 3894\n"
     ]
    }
   ],
   "source": [
    "print(len(train_df), len(val_df), len(test_df))"
   ]
  },
  {
   "cell_type": "code",
   "execution_count": 59,
   "id": "exclusive-calculator",
   "metadata": {},
   "outputs": [
    {
     "data": {
      "text/plain": [
       "{'사회': 0,\n",
       " '경제': 1,\n",
       " '연예': 2,\n",
       " '생활': 3,\n",
       " '문화': 4,\n",
       " 'IT/과학': 5,\n",
       " '정치': 6,\n",
       " '미용/건강': 7,\n",
       " '스포츠': 8}"
      ]
     },
     "execution_count": 59,
     "metadata": {},
     "output_type": "execute_result"
    }
   ],
   "source": [
    "label_dict"
   ]
  },
  {
   "cell_type": "code",
   "execution_count": 60,
   "id": "purple-enclosure",
   "metadata": {},
   "outputs": [],
   "source": [
    "import os\n",
    "\n",
    "os.mkdir('../news_classification')"
   ]
  },
  {
   "cell_type": "code",
   "execution_count": 61,
   "id": "facial-mixer",
   "metadata": {},
   "outputs": [],
   "source": [
    "train_df.to_csv('../news_classification/news_cls_train.csv', index=False)\n",
    "val_df.to_csv('../news_classification/news_cls_val.csv', index=False)\n",
    "test_df.to_csv('../news_classification/news_cls_test.csv', index=False)"
   ]
  },
  {
   "cell_type": "code",
   "execution_count": null,
   "id": "earlier-pixel",
   "metadata": {},
   "outputs": [],
   "source": []
  }
 ],
 "metadata": {
  "kernelspec": {
   "display_name": "Python 3",
   "language": "python",
   "name": "python3"
  },
  "language_info": {
   "codemirror_mode": {
    "name": "ipython",
    "version": 3
   },
   "file_extension": ".py",
   "mimetype": "text/x-python",
   "name": "python",
   "nbconvert_exporter": "python",
   "pygments_lexer": "ipython3",
   "version": "3.8.3"
  }
 },
 "nbformat": 4,
 "nbformat_minor": 5
}
