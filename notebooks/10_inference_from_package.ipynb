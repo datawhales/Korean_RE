{
 "cells": [
  {
   "cell_type": "code",
   "execution_count": 1,
   "id": "treated-movement",
   "metadata": {},
   "outputs": [],
   "source": [
    "import sys\n",
    "sys.path.append('..')"
   ]
  },
  {
   "cell_type": "code",
   "execution_count": 2,
   "id": "unlimited-nature",
   "metadata": {},
   "outputs": [],
   "source": [
    "from korre import KorRE\n"
   ]
  },
  {
   "cell_type": "code",
   "execution_count": 3,
   "id": "intermediate-interference",
   "metadata": {},
   "outputs": [],
   "source": [
    "korre = KorRE()"
   ]
  },
  {
   "cell_type": "code",
   "execution_count": 4,
   "id": "encouraging-treasury",
   "metadata": {},
   "outputs": [
    {
     "data": {
      "text/plain": [
       "[('갤럭시 플립2', 'ARTIFACT'),\n",
       " ('는', 'O'),\n",
       " (' ', 'O'),\n",
       " ('삼성', 'ORGANIZATION'),\n",
       " ('에서', 'O'),\n",
       " (' ', 'O'),\n",
       " ('만든', 'O'),\n",
       " (' ', 'O'),\n",
       " ('스마트폰', 'TERM'),\n",
       " ('이다.', 'O')]"
      ]
     },
     "execution_count": 4,
     "metadata": {},
     "output_type": "execute_result"
    }
   ],
   "source": [
    "korre.pororo_ner('갤럭시 플립2는 삼성에서 만든 스마트폰이다.')"
   ]
  },
  {
   "cell_type": "code",
   "execution_count": 5,
   "id": "hybrid-audio",
   "metadata": {},
   "outputs": [
    {
     "data": {
      "text/plain": [
       "[('갤럭시 플립2', 'ARTIFACT', [0, 7]),\n",
       " ('삼성', 'ORGANIZATION', [9, 11]),\n",
       " ('스마트폰', 'TERM', [17, 21])]"
      ]
     },
     "execution_count": 5,
     "metadata": {},
     "output_type": "execute_result"
    }
   ],
   "source": [
    "korre.ner('갤럭시 플립2는 삼성에서 만든 스마트폰이다.')"
   ]
  },
  {
   "cell_type": "code",
   "execution_count": 6,
   "id": "chubby-replication",
   "metadata": {},
   "outputs": [
    {
     "data": {
      "text/plain": [
       "[(('갤럭시 플립2', 'ARTIFACT', [0, 7]), ('삼성', 'ORGANIZATION', [9, 11])),\n",
       " (('갤럭시 플립2', 'ARTIFACT', [0, 7]), ('스마트폰', 'TERM', [17, 21])),\n",
       " (('삼성', 'ORGANIZATION', [9, 11]), ('갤럭시 플립2', 'ARTIFACT', [0, 7])),\n",
       " (('삼성', 'ORGANIZATION', [9, 11]), ('스마트폰', 'TERM', [17, 21])),\n",
       " (('스마트폰', 'TERM', [17, 21]), ('갤럭시 플립2', 'ARTIFACT', [0, 7])),\n",
       " (('스마트폰', 'TERM', [17, 21]), ('삼성', 'ORGANIZATION', [9, 11]))]"
      ]
     },
     "execution_count": 6,
     "metadata": {},
     "output_type": "execute_result"
    }
   ],
   "source": [
    "korre.get_all_entity_pairs('갤럭시 플립2는 삼성에서 만든 스마트폰이다.')"
   ]
  },
  {
   "cell_type": "code",
   "execution_count": 7,
   "id": "devoted-wales",
   "metadata": {},
   "outputs": [
    {
     "data": {
      "text/plain": [
       "[['갤럭시 플립2는 삼성에서 만든 스마트폰이다.', [0, 7], [9, 11]],\n",
       " ['갤럭시 플립2는 삼성에서 만든 스마트폰이다.', [0, 7], [17, 21]],\n",
       " ['갤럭시 플립2는 삼성에서 만든 스마트폰이다.', [9, 11], [0, 7]],\n",
       " ['갤럭시 플립2는 삼성에서 만든 스마트폰이다.', [9, 11], [17, 21]],\n",
       " ['갤럭시 플립2는 삼성에서 만든 스마트폰이다.', [17, 21], [0, 7]],\n",
       " ['갤럭시 플립2는 삼성에서 만든 스마트폰이다.', [17, 21], [9, 11]]]"
      ]
     },
     "execution_count": 7,
     "metadata": {},
     "output_type": "execute_result"
    }
   ],
   "source": [
    "korre.get_all_inputs('갤럭시 플립2는 삼성에서 만든 스마트폰이다.')"
   ]
  },
  {
   "cell_type": "code",
   "execution_count": 8,
   "id": "premier-vampire",
   "metadata": {},
   "outputs": [
    {
     "data": {
      "text/plain": [
       "'[E1] 갤럭시 플립2 [/E1] 는  [E2] 삼성 [/E2] 에서 만든 스마트폰이다.'"
      ]
     },
     "execution_count": 8,
     "metadata": {},
     "output_type": "execute_result"
    }
   ],
   "source": [
    "korre.entity_markers_added('갤럭시 플립2는 삼성에서 만든 스마트폰이다.', [0, 7], [9, 11])"
   ]
  },
  {
   "cell_type": "code",
   "execution_count": 10,
   "id": "optimum-fishing",
   "metadata": {},
   "outputs": [
    {
     "data": {
      "text/plain": [
       "[('갤럭시 플립2', '삼성', '해당 개체의 제조사(manufacturer)')]"
      ]
     },
     "execution_count": 10,
     "metadata": {},
     "output_type": "execute_result"
    }
   ],
   "source": [
    "korre.infer('갤럭시 플립2는 삼성에서 만든 스마트폰이다.', [0, 7], [9, 11])"
   ]
  },
  {
   "cell_type": "code",
   "execution_count": 7,
   "id": "approved-better",
   "metadata": {},
   "outputs": [
    {
     "data": {
      "text/plain": [
       "[('갤럭시 플립2', '삼성', '해당 개체의 제조사(manufacturer)')]"
      ]
     },
     "execution_count": 7,
     "metadata": {},
     "output_type": "execute_result"
    }
   ],
   "source": [
    "korre.infer('[E1] 갤럭시 플립2 [/E1] 는 [E2] 삼성 [/E2] 에서 만든 스마트폰이다.', entity_markers_included=True)"
   ]
  },
  {
   "cell_type": "code",
   "execution_count": 8,
   "id": "laden-culture",
   "metadata": {},
   "outputs": [
    {
     "data": {
      "text/plain": [
       "[('갤럭시 플립2', '삼성', '해당 개체의 제조사(manufacturer)'),\n",
       " ('갤럭시 플립2', '스마트폰', '하위 개념(subclass of)'),\n",
       " ('삼성', '갤럭시 플립2', '해당 개체의 제품(product or material produced)'),\n",
       " ('삼성', '스마트폰', '해당 개체의 제품(product or material produced)'),\n",
       " ('스마트폰', '갤럭시 플립2', '해당 개체가 다음으로 이루어져 있음(has part)'),\n",
       " ('스마트폰', '삼성', '해당 개체의 제조사(manufacturer)')]"
      ]
     },
     "execution_count": 8,
     "metadata": {},
     "output_type": "execute_result"
    }
   ],
   "source": [
    "korre.infer('갤럭시 플립2는 삼성에서 만든 스마트폰이다.')"
   ]
  },
  {
   "cell_type": "code",
   "execution_count": null,
   "id": "static-completion",
   "metadata": {},
   "outputs": [],
   "source": []
  }
 ],
 "metadata": {
  "kernelspec": {
   "display_name": "Python 3",
   "language": "python",
   "name": "python3"
  },
  "language_info": {
   "codemirror_mode": {
    "name": "ipython",
    "version": 3
   },
   "file_extension": ".py",
   "mimetype": "text/x-python",
   "name": "python",
   "nbconvert_exporter": "python",
   "pygments_lexer": "ipython3",
   "version": "3.8.3"
  }
 },
 "nbformat": 4,
 "nbformat_minor": 5
}
