{
 "cells": [
  {
   "cell_type": "markdown",
   "id": "collected-benchmark",
   "metadata": {},
   "source": [
    "## neo4j 사용 예시"
   ]
  },
  {
   "cell_type": "code",
   "execution_count": 1,
   "id": "entertaining-dream",
   "metadata": {},
   "outputs": [
    {
     "name": "stdout",
     "output_type": "stream",
     "text": [
      "Collecting neo4j\n",
      "  Downloading neo4j-4.4.0.tar.gz (89 kB)\n",
      "\u001b[K     |████████████████████████████████| 89 kB 9.5 MB/s  eta 0:00:01\n",
      "\u001b[?25hRequirement already satisfied: pytz in /Users/datawhales/opt/anaconda3/lib/python3.8/site-packages (from neo4j) (2021.1)\n",
      "Building wheels for collected packages: neo4j\n",
      "  Building wheel for neo4j (setup.py) ... \u001b[?25ldone\n",
      "\u001b[?25h  Created wheel for neo4j: filename=neo4j-4.4.0-py3-none-any.whl size=114861 sha256=a6e1844328feb34628666527d9cd1f8ef865760ba3a18dd6ae70e8e7187a807b\n",
      "  Stored in directory: /Users/datawhales/Library/Caches/pip/wheels/ae/a8/53/9c108d3af55c886b03a3f088fb3d79345e82452fe525eed3f0\n",
      "Successfully built neo4j\n",
      "Installing collected packages: neo4j\n",
      "Successfully installed neo4j-4.4.0\n"
     ]
    }
   ],
   "source": [
    "!pip install neo4j"
   ]
  },
  {
   "cell_type": "code",
   "execution_count": 2,
   "id": "human-carroll",
   "metadata": {},
   "outputs": [],
   "source": [
    "from neo4j import GraphDatabase\n",
    "import pandas as pd\n",
    "\n",
    "host = 'bolt://100.24.23.207:7687'\n",
    "user = 'neo4j'\n",
    "password = 'patient-tolerances-grams'\n",
    "driver = GraphDatabase.driver(host,auth=(user, password))\n",
    "\n",
    "def neo4j_query(query, params=None):\n",
    "    with driver.session() as session:\n",
    "        result = session.run(query, params)\n",
    "        return pd.DataFrame([r.values() for r in result], columns=result.keys())"
   ]
  },
  {
   "cell_type": "code",
   "execution_count": 6,
   "id": "average-romania",
   "metadata": {},
   "outputs": [
    {
     "data": {
      "text/html": [
       "<div>\n",
       "<style scoped>\n",
       "    .dataframe tbody tr th:only-of-type {\n",
       "        vertical-align: middle;\n",
       "    }\n",
       "\n",
       "    .dataframe tbody tr th {\n",
       "        vertical-align: top;\n",
       "    }\n",
       "\n",
       "    .dataframe thead th {\n",
       "        text-align: right;\n",
       "    }\n",
       "</style>\n",
       "<table border=\"1\" class=\"dataframe\">\n",
       "  <thead>\n",
       "    <tr style=\"text-align: right;\">\n",
       "      <th></th>\n",
       "    </tr>\n",
       "  </thead>\n",
       "  <tbody>\n",
       "  </tbody>\n",
       "</table>\n",
       "</div>"
      ],
      "text/plain": [
       "Empty DataFrame\n",
       "Columns: []\n",
       "Index: []"
      ]
     },
     "execution_count": 6,
     "metadata": {},
     "output_type": "execute_result"
    }
   ],
   "source": [
    "author = 'ABC'\n",
    "title = 'ABC books'\n",
    "\n",
    "neo4j_query(\"\"\"\n",
    "MERGE (a:Author{name:$author})\n",
    "MERGE (b:Article{title:$title})\n",
    "MERGE (a)-[:WROTE]->(b)\n",
    "\"\"\", {'title':title, 'author':author})"
   ]
  },
  {
   "cell_type": "markdown",
   "id": "broadband-sodium",
   "metadata": {},
   "source": [
    "## triple2graph"
   ]
  },
  {
   "cell_type": "code",
   "execution_count": 21,
   "id": "smooth-techno",
   "metadata": {},
   "outputs": [],
   "source": [
    "def reltriple2graph(subj_name, subj_type, obj_name, obj_type, relation):\n",
    "    query_string = 'MERGE (a:' + subj_type + '{label:$subj_name})' + \\\n",
    "                      'MERGE (b:' + obj_type + '{label:$obj_name})' + \\\n",
    "                      'MERGE (a)-[:' + relation + ']->(b)'\n",
    "    query_info_dict = {'subj_name': subj_name, 'obj_name': obj_name}\n",
    "    \n",
    "    neo4j_query(query_string, query_info_dict)\n",
    "    return query_string"
   ]
  },
  {
   "cell_type": "code",
   "execution_count": 23,
   "id": "regional-oxygen",
   "metadata": {},
   "outputs": [
    {
     "data": {
      "text/plain": [
       "'MERGE (a:ARTIFACT{label:$subj_name})MERGE (b:ORGANIZATION{label:$obj_name})MERGE (a)-[:해당_제품의_제조사]->(b)'"
      ]
     },
     "execution_count": 23,
     "metadata": {},
     "output_type": "execute_result"
    }
   ],
   "source": [
    "subj_name = '갤럭시 플립2'\n",
    "subj_type = 'ARTIFACT'\n",
    "obj_name = '삼성전자'\n",
    "obj_type = 'ORGANIZATION'\n",
    "relation = '해당_제품의_제조사'\n",
    "\n",
    "reltriple2graph(subj_name, subj_type, obj_name, obj_type, relation)"
   ]
  },
  {
   "cell_type": "markdown",
   "id": "foster-scheduling",
   "metadata": {},
   "source": [
    "## 추출된 triple data 전처리"
   ]
  },
  {
   "cell_type": "code",
   "execution_count": 24,
   "id": "musical-zealand",
   "metadata": {},
   "outputs": [],
   "source": [
    "import pandas as pd\n",
    "\n",
    "df = pd.read_csv('../results/specific_domain_pred_true.csv')"
   ]
  },
  {
   "cell_type": "code",
   "execution_count": 25,
   "id": "comprehensive-findings",
   "metadata": {},
   "outputs": [
    {
     "data": {
      "text/html": [
       "<div>\n",
       "<style scoped>\n",
       "    .dataframe tbody tr th:only-of-type {\n",
       "        vertical-align: middle;\n",
       "    }\n",
       "\n",
       "    .dataframe tbody tr th {\n",
       "        vertical-align: top;\n",
       "    }\n",
       "\n",
       "    .dataframe thead th {\n",
       "        text-align: right;\n",
       "    }\n",
       "</style>\n",
       "<table border=\"1\" class=\"dataframe\">\n",
       "  <thead>\n",
       "    <tr style=\"text-align: right;\">\n",
       "      <th></th>\n",
       "      <th>sentence</th>\n",
       "      <th>subj_name</th>\n",
       "      <th>subj_type</th>\n",
       "      <th>obj_name</th>\n",
       "      <th>obj_type</th>\n",
       "      <th>relation</th>\n",
       "    </tr>\n",
       "  </thead>\n",
       "  <tbody>\n",
       "    <tr>\n",
       "      <th>0</th>\n",
       "      <td>[E1] 삼성전자 [/E1] 가  [E2] 인도 [/E2] , 중국 시장을 겨냥해 ...</td>\n",
       "      <td>삼성전자</td>\n",
       "      <td>ORGANIZATION</td>\n",
       "      <td>인도</td>\n",
       "      <td>COUNTRY</td>\n",
       "      <td>다음 국가의 것임(country)</td>\n",
       "    </tr>\n",
       "    <tr>\n",
       "      <th>1</th>\n",
       "      <td>[E1] 삼성전자 [/E1] 가 인도,  [E2] 중국 [/E2]  시장을 겨냥해 ...</td>\n",
       "      <td>삼성전자</td>\n",
       "      <td>ORGANIZATION</td>\n",
       "      <td>중국</td>\n",
       "      <td>COUNTRY</td>\n",
       "      <td>다음 국가의 것임(country)</td>\n",
       "    </tr>\n",
       "    <tr>\n",
       "      <th>2</th>\n",
       "      <td>[E1] 삼성전자 [/E1] 가 인도, 중국 시장을 겨냥해 혁신기술을 넣은 중저가 ...</td>\n",
       "      <td>삼성전자</td>\n",
       "      <td>ORGANIZATION</td>\n",
       "      <td>스마트폰</td>\n",
       "      <td>TERM</td>\n",
       "      <td>해당 개체의 제품(product or material produced)</td>\n",
       "    </tr>\n",
       "    <tr>\n",
       "      <th>3</th>\n",
       "      <td>삼성전자가  [E1] 인도 [/E1] ,  [E2] 중국 [/E2]  시장을 겨냥해...</td>\n",
       "      <td>인도</td>\n",
       "      <td>COUNTRY</td>\n",
       "      <td>중국</td>\n",
       "      <td>COUNTRY</td>\n",
       "      <td>수교국(diplomatic relation)</td>\n",
       "    </tr>\n",
       "    <tr>\n",
       "      <th>4</th>\n",
       "      <td>삼성전자가  [E1] 인도 [/E1] , 중국 시장을 겨냥해 혁신기술을 넣은 중저가...</td>\n",
       "      <td>인도</td>\n",
       "      <td>COUNTRY</td>\n",
       "      <td>스마트폰</td>\n",
       "      <td>TERM</td>\n",
       "      <td>해당 개체의 제품(product or material produced)</td>\n",
       "    </tr>\n",
       "  </tbody>\n",
       "</table>\n",
       "</div>"
      ],
      "text/plain": [
       "                                            sentence subj_name     subj_type  \\\n",
       "0  [E1] 삼성전자 [/E1] 가  [E2] 인도 [/E2] , 중국 시장을 겨냥해 ...      삼성전자  ORGANIZATION   \n",
       "1  [E1] 삼성전자 [/E1] 가 인도,  [E2] 중국 [/E2]  시장을 겨냥해 ...      삼성전자  ORGANIZATION   \n",
       "2  [E1] 삼성전자 [/E1] 가 인도, 중국 시장을 겨냥해 혁신기술을 넣은 중저가 ...      삼성전자  ORGANIZATION   \n",
       "3  삼성전자가  [E1] 인도 [/E1] ,  [E2] 중국 [/E2]  시장을 겨냥해...        인도       COUNTRY   \n",
       "4  삼성전자가  [E1] 인도 [/E1] , 중국 시장을 겨냥해 혁신기술을 넣은 중저가...        인도       COUNTRY   \n",
       "\n",
       "  obj_name obj_type                                 relation  \n",
       "0       인도  COUNTRY                       다음 국가의 것임(country)  \n",
       "1       중국  COUNTRY                       다음 국가의 것임(country)  \n",
       "2     스마트폰     TERM  해당 개체의 제품(product or material produced)  \n",
       "3       중국  COUNTRY                 수교국(diplomatic relation)  \n",
       "4     스마트폰     TERM  해당 개체의 제품(product or material produced)  "
      ]
     },
     "execution_count": 25,
     "metadata": {},
     "output_type": "execute_result"
    }
   ],
   "source": [
    "df.head()"
   ]
  },
  {
   "cell_type": "code",
   "execution_count": 34,
   "id": "apart-gather",
   "metadata": {},
   "outputs": [
    {
     "data": {
      "text/plain": [
       "해당 개체의 배우자(spouse)                                           4601\n",
       "해당 개체가 다음으로 이루어져 있음(has part)                                3240\n",
       "다음 공동체의 구성원임(member of)                                      2515\n",
       "다음 국가의 것임(country)                                           2268\n",
       "다음 행정구역에 위치함(located in)                                     2074\n",
       "                                                             ... \n",
       "해당 장소나 사건에서 다음 언어가 주로 사용됨(language used)                        4\n",
       "해당 지역에 대해 영유권 또는 관할권을 주장하는 국가·지역·단체(territory claimed by)       3\n",
       "해당 주제의 상위 주제(facet of)                                          3\n",
       "반대 속성(inverse property)                                         2\n",
       "위키데이터 속성(Wikidata property)                                     1\n",
       "Name: relation, Length: 90, dtype: int64"
      ]
     },
     "execution_count": 34,
     "metadata": {},
     "output_type": "execute_result"
    }
   ],
   "source": [
    "df.relation.value_counts()"
   ]
  },
  {
   "cell_type": "code",
   "execution_count": 41,
   "id": "hispanic-frost",
   "metadata": {},
   "outputs": [],
   "source": [
    "import re\n",
    "\n",
    "def convert_relation(rel_string):\n",
    "    \"\"\"\n",
    "    Example:\n",
    "        rel_string = '다음 국가의 것임(country)'\n",
    "\n",
    "    Return:\n",
    "        '다음_국가의_것임'\n",
    "    \"\"\"\n",
    "    # 괄호 제거\n",
    "    rel_string = re.sub(r'\\([^)]*\\)','', rel_string)\n",
    "    \n",
    "    rel_string = re.sub('·', '_', rel_string)\n",
    "    \n",
    "    string_list = rel_string.split()\n",
    "    \n",
    "    return '_'.join(string_list)"
   ]
  },
  {
   "cell_type": "code",
   "execution_count": 42,
   "id": "brave-silver",
   "metadata": {},
   "outputs": [
    {
     "data": {
      "text/plain": [
       "'다음_국가의_것임'"
      ]
     },
     "execution_count": 42,
     "metadata": {},
     "output_type": "execute_result"
    }
   ],
   "source": [
    "convert_relation('다음 국가의 것임(country)')"
   ]
  },
  {
   "cell_type": "code",
   "execution_count": 46,
   "id": "interior-while",
   "metadata": {},
   "outputs": [
    {
     "data": {
      "text/plain": [
       "'해당_개체의_제품'"
      ]
     },
     "execution_count": 46,
     "metadata": {},
     "output_type": "execute_result"
    }
   ],
   "source": [
    "convert_relation('해당 개체의 제품(product or material produced)')"
   ]
  },
  {
   "cell_type": "code",
   "execution_count": 47,
   "id": "public-howard",
   "metadata": {},
   "outputs": [],
   "source": [
    "df['converted_relation'] = df['relation'].apply(lambda x: convert_relation(x))"
   ]
  },
  {
   "cell_type": "code",
   "execution_count": 50,
   "id": "neural-conflict",
   "metadata": {},
   "outputs": [
    {
     "data": {
      "text/html": [
       "<div>\n",
       "<style scoped>\n",
       "    .dataframe tbody tr th:only-of-type {\n",
       "        vertical-align: middle;\n",
       "    }\n",
       "\n",
       "    .dataframe tbody tr th {\n",
       "        vertical-align: top;\n",
       "    }\n",
       "\n",
       "    .dataframe thead th {\n",
       "        text-align: right;\n",
       "    }\n",
       "</style>\n",
       "<table border=\"1\" class=\"dataframe\">\n",
       "  <thead>\n",
       "    <tr style=\"text-align: right;\">\n",
       "      <th></th>\n",
       "      <th>sentence</th>\n",
       "      <th>subj_name</th>\n",
       "      <th>subj_type</th>\n",
       "      <th>obj_name</th>\n",
       "      <th>obj_type</th>\n",
       "      <th>relation</th>\n",
       "      <th>converted_relation</th>\n",
       "    </tr>\n",
       "  </thead>\n",
       "  <tbody>\n",
       "    <tr>\n",
       "      <th>0</th>\n",
       "      <td>[E1] 삼성전자 [/E1] 가  [E2] 인도 [/E2] , 중국 시장을 겨냥해 ...</td>\n",
       "      <td>삼성전자</td>\n",
       "      <td>ORGANIZATION</td>\n",
       "      <td>인도</td>\n",
       "      <td>COUNTRY</td>\n",
       "      <td>다음 국가의 것임(country)</td>\n",
       "      <td>다음_국가의_것임</td>\n",
       "    </tr>\n",
       "    <tr>\n",
       "      <th>1</th>\n",
       "      <td>[E1] 삼성전자 [/E1] 가 인도,  [E2] 중국 [/E2]  시장을 겨냥해 ...</td>\n",
       "      <td>삼성전자</td>\n",
       "      <td>ORGANIZATION</td>\n",
       "      <td>중국</td>\n",
       "      <td>COUNTRY</td>\n",
       "      <td>다음 국가의 것임(country)</td>\n",
       "      <td>다음_국가의_것임</td>\n",
       "    </tr>\n",
       "    <tr>\n",
       "      <th>2</th>\n",
       "      <td>[E1] 삼성전자 [/E1] 가 인도, 중국 시장을 겨냥해 혁신기술을 넣은 중저가 ...</td>\n",
       "      <td>삼성전자</td>\n",
       "      <td>ORGANIZATION</td>\n",
       "      <td>스마트폰</td>\n",
       "      <td>TERM</td>\n",
       "      <td>해당 개체의 제품(product or material produced)</td>\n",
       "      <td>해당_개체의_제품</td>\n",
       "    </tr>\n",
       "    <tr>\n",
       "      <th>3</th>\n",
       "      <td>삼성전자가  [E1] 인도 [/E1] ,  [E2] 중국 [/E2]  시장을 겨냥해...</td>\n",
       "      <td>인도</td>\n",
       "      <td>COUNTRY</td>\n",
       "      <td>중국</td>\n",
       "      <td>COUNTRY</td>\n",
       "      <td>수교국(diplomatic relation)</td>\n",
       "      <td>수교국</td>\n",
       "    </tr>\n",
       "    <tr>\n",
       "      <th>4</th>\n",
       "      <td>삼성전자가  [E1] 인도 [/E1] , 중국 시장을 겨냥해 혁신기술을 넣은 중저가...</td>\n",
       "      <td>인도</td>\n",
       "      <td>COUNTRY</td>\n",
       "      <td>스마트폰</td>\n",
       "      <td>TERM</td>\n",
       "      <td>해당 개체의 제품(product or material produced)</td>\n",
       "      <td>해당_개체의_제품</td>\n",
       "    </tr>\n",
       "  </tbody>\n",
       "</table>\n",
       "</div>"
      ],
      "text/plain": [
       "                                            sentence subj_name     subj_type  \\\n",
       "0  [E1] 삼성전자 [/E1] 가  [E2] 인도 [/E2] , 중국 시장을 겨냥해 ...      삼성전자  ORGANIZATION   \n",
       "1  [E1] 삼성전자 [/E1] 가 인도,  [E2] 중국 [/E2]  시장을 겨냥해 ...      삼성전자  ORGANIZATION   \n",
       "2  [E1] 삼성전자 [/E1] 가 인도, 중국 시장을 겨냥해 혁신기술을 넣은 중저가 ...      삼성전자  ORGANIZATION   \n",
       "3  삼성전자가  [E1] 인도 [/E1] ,  [E2] 중국 [/E2]  시장을 겨냥해...        인도       COUNTRY   \n",
       "4  삼성전자가  [E1] 인도 [/E1] , 중국 시장을 겨냥해 혁신기술을 넣은 중저가...        인도       COUNTRY   \n",
       "\n",
       "  obj_name obj_type                                 relation  \\\n",
       "0       인도  COUNTRY                       다음 국가의 것임(country)   \n",
       "1       중국  COUNTRY                       다음 국가의 것임(country)   \n",
       "2     스마트폰     TERM  해당 개체의 제품(product or material produced)   \n",
       "3       중국  COUNTRY                 수교국(diplomatic relation)   \n",
       "4     스마트폰     TERM  해당 개체의 제품(product or material produced)   \n",
       "\n",
       "  converted_relation  \n",
       "0          다음_국가의_것임  \n",
       "1          다음_국가의_것임  \n",
       "2          해당_개체의_제품  \n",
       "3                수교국  \n",
       "4          해당_개체의_제품  "
      ]
     },
     "execution_count": 50,
     "metadata": {},
     "output_type": "execute_result"
    }
   ],
   "source": [
    "df.head()"
   ]
  },
  {
   "cell_type": "code",
   "execution_count": 49,
   "id": "middle-thousand",
   "metadata": {},
   "outputs": [
    {
     "name": "stderr",
     "output_type": "stream",
     "text": [
      "100%|██████████| 42006/42006 [2:31:06<00:00,  4.63it/s]  \n"
     ]
    }
   ],
   "source": [
    "from tqdm import tqdm\n",
    "\n",
    "for i in tqdm(range(len(df))):\n",
    "    tmp_row = df.iloc[i]\n",
    "    \n",
    "    subj_name, obj_name = tmp_row['subj_name'], tmp_row['subj_type']\n",
    "    obj_name, obj_type = tmp_row['obj_name'], tmp_row['obj_type']\n",
    "    relation = tmp_row['converted_relation']\n",
    "    \n",
    "    reltriple2graph(subj_name, subj_type, obj_name, obj_type, relation)"
   ]
  },
  {
   "cell_type": "code",
   "execution_count": null,
   "id": "lesser-vision",
   "metadata": {},
   "outputs": [],
   "source": []
  }
 ],
 "metadata": {
  "kernelspec": {
   "display_name": "Python 3",
   "language": "python",
   "name": "python3"
  },
  "language_info": {
   "codemirror_mode": {
    "name": "ipython",
    "version": 3
   },
   "file_extension": ".py",
   "mimetype": "text/x-python",
   "name": "python",
   "nbconvert_exporter": "python",
   "pygments_lexer": "ipython3",
   "version": "3.8.3"
  }
 },
 "nbformat": 4,
 "nbformat_minor": 5
}
