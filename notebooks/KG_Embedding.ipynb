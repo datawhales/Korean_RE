{
 "cells": [
  {
   "cell_type": "code",
   "execution_count": null,
   "metadata": {
    "colab": {
     "base_uri": "https://localhost:8080/",
     "height": 1000
    },
    "id": "ZILVgUOoArp7",
    "outputId": "fc430393-e614-4f95-e3a4-f8b05279edfe"
   },
   "outputs": [
    {
     "name": "stdout",
     "output_type": "stream",
     "text": [
      "Collecting ampligraph\n",
      "  Downloading ampligraph-1.4.0-py3-none-any.whl (168 kB)\n",
      "\u001b[K     |████████████████████████████████| 168 kB 5.1 MB/s \n",
      "\u001b[?25hCollecting sphinx-rtd-theme==0.4.3\n",
      "  Downloading sphinx_rtd_theme-0.4.3-py2.py3-none-any.whl (6.4 MB)\n",
      "\u001b[K     |████████████████████████████████| 6.4 MB 53.1 MB/s \n",
      "\u001b[?25hRequirement already satisfied: tqdm>=4.23.4 in /usr/local/lib/python3.7/dist-packages (from ampligraph) (4.62.3)\n",
      "Requirement already satisfied: setuptools>=36 in /usr/local/lib/python3.7/dist-packages (from ampligraph) (57.4.0)\n",
      "Requirement already satisfied: scipy>=1.3.0 in /usr/local/lib/python3.7/dist-packages (from ampligraph) (1.4.1)\n",
      "Requirement already satisfied: pyyaml>=3.13 in /usr/local/lib/python3.7/dist-packages (from ampligraph) (3.13)\n",
      "Collecting sphinx<3,>=2.2\n",
      "  Downloading Sphinx-2.4.5-py3-none-any.whl (2.7 MB)\n",
      "\u001b[K     |████████████████████████████████| 2.7 MB 46.0 MB/s \n",
      "\u001b[?25hCollecting beautifultable>=0.7.0\n",
      "  Downloading beautifultable-1.0.1-py2.py3-none-any.whl (27 kB)\n",
      "Requirement already satisfied: networkx>=2.3 in /usr/local/lib/python3.7/dist-packages (from ampligraph) (2.6.3)\n",
      "Requirement already satisfied: pytest>=3.5.1 in /usr/local/lib/python3.7/dist-packages (from ampligraph) (3.6.4)\n",
      "Requirement already satisfied: pandas>=0.23.1 in /usr/local/lib/python3.7/dist-packages (from ampligraph) (1.1.5)\n",
      "Requirement already satisfied: scikit-learn>=0.19.1 in /usr/local/lib/python3.7/dist-packages (from ampligraph) (1.0.1)\n",
      "Requirement already satisfied: numpy>=1.14.3 in /usr/local/lib/python3.7/dist-packages (from ampligraph) (1.19.5)\n",
      "Collecting recommonmark==0.4.0\n",
      "  Downloading recommonmark-0.4.0-py2.py3-none-any.whl (9.4 kB)\n",
      "Collecting rdflib>=4.2.2\n",
      "  Downloading rdflib-6.0.2-py3-none-any.whl (407 kB)\n",
      "\u001b[K     |████████████████████████████████| 407 kB 57.9 MB/s \n",
      "\u001b[?25hCollecting flake8>=3.7.7\n",
      "  Downloading flake8-4.0.1-py2.py3-none-any.whl (64 kB)\n",
      "\u001b[K     |████████████████████████████████| 64 kB 2.3 MB/s \n",
      "\u001b[?25hCollecting sphinxcontrib-bibtex==0.4.2\n",
      "  Downloading sphinxcontrib_bibtex-0.4.2-py2.py3-none-any.whl (15 kB)\n",
      "Requirement already satisfied: docutils>=0.11 in /usr/local/lib/python3.7/dist-packages (from recommonmark==0.4.0->ampligraph) (0.17.1)\n",
      "Collecting commonmark<=0.5.4\n",
      "  Downloading CommonMark-0.5.4.tar.gz (120 kB)\n",
      "\u001b[K     |████████████████████████████████| 120 kB 62.6 MB/s \n",
      "\u001b[?25hCollecting oset>=0.1.3\n",
      "  Downloading oset-0.1.3.tar.gz (7.3 kB)\n",
      "Requirement already satisfied: six>=1.4.1 in /usr/local/lib/python3.7/dist-packages (from sphinxcontrib-bibtex==0.4.2->ampligraph) (1.15.0)\n",
      "Collecting pybtex>=0.20\n",
      "  Downloading pybtex-0.24.0-py2.py3-none-any.whl (561 kB)\n",
      "\u001b[K     |████████████████████████████████| 561 kB 49.5 MB/s \n",
      "\u001b[?25hCollecting pybtex-docutils>=0.2.0\n",
      "  Downloading pybtex_docutils-1.0.1-py3-none-any.whl (4.8 kB)\n",
      "Requirement already satisfied: wcwidth in /usr/local/lib/python3.7/dist-packages (from beautifultable>=0.7.0->ampligraph) (0.2.5)\n",
      "Collecting pyflakes<2.5.0,>=2.4.0\n",
      "  Downloading pyflakes-2.4.0-py2.py3-none-any.whl (69 kB)\n",
      "\u001b[K     |████████████████████████████████| 69 kB 7.1 MB/s \n",
      "\u001b[?25hCollecting importlib-metadata<4.3\n",
      "  Downloading importlib_metadata-4.2.0-py3-none-any.whl (16 kB)\n",
      "Collecting pycodestyle<2.9.0,>=2.8.0\n",
      "  Downloading pycodestyle-2.8.0-py2.py3-none-any.whl (42 kB)\n",
      "\u001b[K     |████████████████████████████████| 42 kB 797 kB/s \n",
      "\u001b[?25hCollecting mccabe<0.7.0,>=0.6.0\n",
      "  Downloading mccabe-0.6.1-py2.py3-none-any.whl (8.6 kB)\n",
      "Requirement already satisfied: zipp>=0.5 in /usr/local/lib/python3.7/dist-packages (from importlib-metadata<4.3->flake8>=3.7.7->ampligraph) (3.6.0)\n",
      "Requirement already satisfied: typing-extensions>=3.6.4 in /usr/local/lib/python3.7/dist-packages (from importlib-metadata<4.3->flake8>=3.7.7->ampligraph) (3.10.0.2)\n",
      "Requirement already satisfied: pytz>=2017.2 in /usr/local/lib/python3.7/dist-packages (from pandas>=0.23.1->ampligraph) (2018.9)\n",
      "Requirement already satisfied: python-dateutil>=2.7.3 in /usr/local/lib/python3.7/dist-packages (from pandas>=0.23.1->ampligraph) (2.8.2)\n",
      "Collecting latexcodec>=1.0.4\n",
      "  Downloading latexcodec-2.0.1-py2.py3-none-any.whl (18 kB)\n",
      "Requirement already satisfied: pluggy<0.8,>=0.5 in /usr/local/lib/python3.7/dist-packages (from pytest>=3.5.1->ampligraph) (0.7.1)\n",
      "Requirement already satisfied: atomicwrites>=1.0 in /usr/local/lib/python3.7/dist-packages (from pytest>=3.5.1->ampligraph) (1.4.0)\n",
      "Requirement already satisfied: attrs>=17.4.0 in /usr/local/lib/python3.7/dist-packages (from pytest>=3.5.1->ampligraph) (21.2.0)\n",
      "Requirement already satisfied: py>=1.5.0 in /usr/local/lib/python3.7/dist-packages (from pytest>=3.5.1->ampligraph) (1.11.0)\n",
      "Requirement already satisfied: more-itertools>=4.0.0 in /usr/local/lib/python3.7/dist-packages (from pytest>=3.5.1->ampligraph) (8.12.0)\n",
      "Collecting isodate\n",
      "  Downloading isodate-0.6.0-py2.py3-none-any.whl (45 kB)\n",
      "\u001b[K     |████████████████████████████████| 45 kB 3.0 MB/s \n",
      "\u001b[?25hRequirement already satisfied: pyparsing in /usr/local/lib/python3.7/dist-packages (from rdflib>=4.2.2->ampligraph) (3.0.6)\n",
      "Requirement already satisfied: threadpoolctl>=2.0.0 in /usr/local/lib/python3.7/dist-packages (from scikit-learn>=0.19.1->ampligraph) (3.0.0)\n",
      "Requirement already satisfied: joblib>=0.11 in /usr/local/lib/python3.7/dist-packages (from scikit-learn>=0.19.1->ampligraph) (1.1.0)\n",
      "Requirement already satisfied: Jinja2>=2.3 in /usr/local/lib/python3.7/dist-packages (from sphinx<3,>=2.2->ampligraph) (2.11.3)\n",
      "Collecting sphinxcontrib-qthelp\n",
      "  Downloading sphinxcontrib_qthelp-1.0.3-py2.py3-none-any.whl (90 kB)\n",
      "\u001b[K     |████████████████████████████████| 90 kB 8.6 MB/s \n",
      "\u001b[?25hRequirement already satisfied: babel!=2.0,>=1.3 in /usr/local/lib/python3.7/dist-packages (from sphinx<3,>=2.2->ampligraph) (2.9.1)\n",
      "Requirement already satisfied: packaging in /usr/local/lib/python3.7/dist-packages (from sphinx<3,>=2.2->ampligraph) (21.3)\n",
      "Requirement already satisfied: requests>=2.5.0 in /usr/local/lib/python3.7/dist-packages (from sphinx<3,>=2.2->ampligraph) (2.23.0)\n",
      "Requirement already satisfied: sphinxcontrib-serializinghtml in /usr/local/lib/python3.7/dist-packages (from sphinx<3,>=2.2->ampligraph) (1.1.5)\n",
      "Collecting sphinxcontrib-applehelp\n",
      "  Downloading sphinxcontrib_applehelp-1.0.2-py2.py3-none-any.whl (121 kB)\n",
      "\u001b[K     |████████████████████████████████| 121 kB 45.0 MB/s \n",
      "\u001b[?25hCollecting sphinxcontrib-htmlhelp\n",
      "  Downloading sphinxcontrib_htmlhelp-2.0.0-py2.py3-none-any.whl (100 kB)\n",
      "\u001b[K     |████████████████████████████████| 100 kB 8.0 MB/s \n",
      "\u001b[?25hRequirement already satisfied: imagesize in /usr/local/lib/python3.7/dist-packages (from sphinx<3,>=2.2->ampligraph) (1.3.0)\n",
      "Requirement already satisfied: snowballstemmer>=1.1 in /usr/local/lib/python3.7/dist-packages (from sphinx<3,>=2.2->ampligraph) (2.2.0)\n",
      "Collecting sphinxcontrib-devhelp\n",
      "  Downloading sphinxcontrib_devhelp-1.0.2-py2.py3-none-any.whl (84 kB)\n",
      "\u001b[K     |████████████████████████████████| 84 kB 2.6 MB/s \n",
      "\u001b[?25hRequirement already satisfied: Pygments>=2.0 in /usr/local/lib/python3.7/dist-packages (from sphinx<3,>=2.2->ampligraph) (2.6.1)\n",
      "Collecting sphinxcontrib-jsmath\n",
      "  Downloading sphinxcontrib_jsmath-1.0.1-py2.py3-none-any.whl (5.1 kB)\n",
      "Requirement already satisfied: alabaster<0.8,>=0.7 in /usr/local/lib/python3.7/dist-packages (from sphinx<3,>=2.2->ampligraph) (0.7.12)\n",
      "Requirement already satisfied: MarkupSafe>=0.23 in /usr/local/lib/python3.7/dist-packages (from Jinja2>=2.3->sphinx<3,>=2.2->ampligraph) (2.0.1)\n",
      "Requirement already satisfied: urllib3!=1.25.0,!=1.25.1,<1.26,>=1.21.1 in /usr/local/lib/python3.7/dist-packages (from requests>=2.5.0->sphinx<3,>=2.2->ampligraph) (1.24.3)\n",
      "Requirement already satisfied: certifi>=2017.4.17 in /usr/local/lib/python3.7/dist-packages (from requests>=2.5.0->sphinx<3,>=2.2->ampligraph) (2021.10.8)\n",
      "Requirement already satisfied: idna<3,>=2.5 in /usr/local/lib/python3.7/dist-packages (from requests>=2.5.0->sphinx<3,>=2.2->ampligraph) (2.10)\n",
      "Requirement already satisfied: chardet<4,>=3.0.2 in /usr/local/lib/python3.7/dist-packages (from requests>=2.5.0->sphinx<3,>=2.2->ampligraph) (3.0.4)\n",
      "Building wheels for collected packages: commonmark, oset\n",
      "  Building wheel for commonmark (setup.py) ... \u001b[?25l\u001b[?25hdone\n",
      "  Created wheel for commonmark: filename=CommonMark-0.5.4-py3-none-any.whl size=30766 sha256=4a0b2748f3c5046af373fcfcde56b17b056eeea82d8b121da169b65fb8189b92\n",
      "  Stored in directory: /root/.cache/pip/wheels/d5/28/c7/ce1ffdf847bcfcfa332299c572b26819dc38383180bb5b9072\n",
      "  Building wheel for oset (setup.py) ... \u001b[?25l\u001b[?25hdone\n",
      "  Created wheel for oset: filename=oset-0.1.3-py3-none-any.whl size=9685 sha256=90b6b76fea9067bb25ffbc6691247f890859280bb26158b4ad76da31c0931e1d\n",
      "  Stored in directory: /root/.cache/pip/wheels/d3/97/cf/cfafe0bedac445a9492baca15b27f8afb4693182b00a975ac7\n",
      "Successfully built commonmark oset\n",
      "Installing collected packages: latexcodec, sphinxcontrib-qthelp, sphinxcontrib-jsmath, sphinxcontrib-htmlhelp, sphinxcontrib-devhelp, sphinxcontrib-applehelp, pybtex, sphinx, pyflakes, pycodestyle, pybtex-docutils, oset, mccabe, isodate, importlib-metadata, commonmark, sphinxcontrib-bibtex, sphinx-rtd-theme, recommonmark, rdflib, flake8, beautifultable, ampligraph\n",
      "  Attempting uninstall: sphinx\n",
      "    Found existing installation: Sphinx 1.8.6\n",
      "    Uninstalling Sphinx-1.8.6:\n",
      "      Successfully uninstalled Sphinx-1.8.6\n",
      "  Attempting uninstall: importlib-metadata\n",
      "    Found existing installation: importlib-metadata 4.8.2\n",
      "    Uninstalling importlib-metadata-4.8.2:\n",
      "      Successfully uninstalled importlib-metadata-4.8.2\n",
      "\u001b[31mERROR: pip's dependency resolver does not currently take into account all the packages that are installed. This behaviour is the source of the following dependency conflicts.\n",
      "markdown 3.3.6 requires importlib-metadata>=4.4; python_version < \"3.10\", but you have importlib-metadata 4.2.0 which is incompatible.\n",
      "datascience 0.10.6 requires folium==0.2.1, but you have folium 0.8.3 which is incompatible.\u001b[0m\n",
      "Successfully installed ampligraph-1.4.0 beautifultable-1.0.1 commonmark-0.5.4 flake8-4.0.1 importlib-metadata-4.2.0 isodate-0.6.0 latexcodec-2.0.1 mccabe-0.6.1 oset-0.1.3 pybtex-0.24.0 pybtex-docutils-1.0.1 pycodestyle-2.8.0 pyflakes-2.4.0 rdflib-6.0.2 recommonmark-0.4.0 sphinx-2.4.5 sphinx-rtd-theme-0.4.3 sphinxcontrib-applehelp-1.0.2 sphinxcontrib-bibtex-0.4.2 sphinxcontrib-devhelp-1.0.2 sphinxcontrib-htmlhelp-2.0.0 sphinxcontrib-jsmath-1.0.1 sphinxcontrib-qthelp-1.0.3\n"
     ]
    },
    {
     "data": {
      "application/vnd.colab-display-data+json": {
       "pip_warning": {
        "packages": [
         "sphinxcontrib"
        ]
       }
      }
     },
     "metadata": {},
     "output_type": "display_data"
    }
   ],
   "source": [
    "!pip install ampligraph"
   ]
  },
  {
   "cell_type": "code",
   "execution_count": null,
   "metadata": {
    "colab": {
     "base_uri": "https://localhost:8080/",
     "height": 1000
    },
    "id": "MBAXOJpaBBeK",
    "outputId": "b1e09936-d01b-4c9e-e5b9-4ff5548d008e"
   },
   "outputs": [
    {
     "name": "stdout",
     "output_type": "stream",
     "text": [
      "Collecting tensorflow-gpu<2.0,>=1.15.2\n",
      "  Downloading tensorflow_gpu-1.15.5-cp37-cp37m-manylinux2010_x86_64.whl (411.0 MB)\n",
      "\u001b[K     |████████████████████████████████| 411.0 MB 25 kB/s \n",
      "\u001b[?25hRequirement already satisfied: absl-py>=0.7.0 in /usr/local/lib/python3.7/dist-packages (from tensorflow-gpu<2.0,>=1.15.2) (0.12.0)\n",
      "Requirement already satisfied: astor>=0.6.0 in /usr/local/lib/python3.7/dist-packages (from tensorflow-gpu<2.0,>=1.15.2) (0.8.1)\n",
      "Requirement already satisfied: grpcio>=1.8.6 in /usr/local/lib/python3.7/dist-packages (from tensorflow-gpu<2.0,>=1.15.2) (1.42.0)\n",
      "Requirement already satisfied: wheel>=0.26 in /usr/local/lib/python3.7/dist-packages (from tensorflow-gpu<2.0,>=1.15.2) (0.37.0)\n",
      "Collecting gast==0.2.2\n",
      "  Downloading gast-0.2.2.tar.gz (10 kB)\n",
      "Collecting tensorflow-estimator==1.15.1\n",
      "  Downloading tensorflow_estimator-1.15.1-py2.py3-none-any.whl (503 kB)\n",
      "\u001b[K     |████████████████████████████████| 503 kB 64.3 MB/s \n",
      "\u001b[?25hRequirement already satisfied: termcolor>=1.1.0 in /usr/local/lib/python3.7/dist-packages (from tensorflow-gpu<2.0,>=1.15.2) (1.1.0)\n",
      "Requirement already satisfied: six>=1.10.0 in /usr/local/lib/python3.7/dist-packages (from tensorflow-gpu<2.0,>=1.15.2) (1.15.0)\n",
      "Collecting tensorboard<1.16.0,>=1.15.0\n",
      "  Downloading tensorboard-1.15.0-py3-none-any.whl (3.8 MB)\n",
      "\u001b[K     |████████████████████████████████| 3.8 MB 31.2 MB/s \n",
      "\u001b[?25hCollecting numpy<1.19.0,>=1.16.0\n",
      "  Downloading numpy-1.18.5-cp37-cp37m-manylinux1_x86_64.whl (20.1 MB)\n",
      "\u001b[K     |████████████████████████████████| 20.1 MB 1.4 MB/s \n",
      "\u001b[?25hRequirement already satisfied: protobuf>=3.6.1 in /usr/local/lib/python3.7/dist-packages (from tensorflow-gpu<2.0,>=1.15.2) (3.17.3)\n",
      "Collecting h5py<=2.10.0\n",
      "  Downloading h5py-2.10.0-cp37-cp37m-manylinux1_x86_64.whl (2.9 MB)\n",
      "\u001b[K     |████████████████████████████████| 2.9 MB 45.0 MB/s \n",
      "\u001b[?25hCollecting keras-applications>=1.0.8\n",
      "  Downloading Keras_Applications-1.0.8-py3-none-any.whl (50 kB)\n",
      "\u001b[K     |████████████████████████████████| 50 kB 5.1 MB/s \n",
      "\u001b[?25hRequirement already satisfied: opt-einsum>=2.3.2 in /usr/local/lib/python3.7/dist-packages (from tensorflow-gpu<2.0,>=1.15.2) (3.3.0)\n",
      "Requirement already satisfied: wrapt>=1.11.1 in /usr/local/lib/python3.7/dist-packages (from tensorflow-gpu<2.0,>=1.15.2) (1.13.3)\n",
      "Requirement already satisfied: keras-preprocessing>=1.0.5 in /usr/local/lib/python3.7/dist-packages (from tensorflow-gpu<2.0,>=1.15.2) (1.1.2)\n",
      "Requirement already satisfied: google-pasta>=0.1.6 in /usr/local/lib/python3.7/dist-packages (from tensorflow-gpu<2.0,>=1.15.2) (0.2.0)\n",
      "Requirement already satisfied: markdown>=2.6.8 in /usr/local/lib/python3.7/dist-packages (from tensorboard<1.16.0,>=1.15.0->tensorflow-gpu<2.0,>=1.15.2) (3.3.6)\n",
      "Requirement already satisfied: setuptools>=41.0.0 in /usr/local/lib/python3.7/dist-packages (from tensorboard<1.16.0,>=1.15.0->tensorflow-gpu<2.0,>=1.15.2) (57.4.0)\n",
      "Requirement already satisfied: werkzeug>=0.11.15 in /usr/local/lib/python3.7/dist-packages (from tensorboard<1.16.0,>=1.15.0->tensorflow-gpu<2.0,>=1.15.2) (1.0.1)\n",
      "Collecting importlib-metadata>=4.4\n",
      "  Downloading importlib_metadata-4.8.2-py3-none-any.whl (17 kB)\n",
      "Requirement already satisfied: zipp>=0.5 in /usr/local/lib/python3.7/dist-packages (from importlib-metadata>=4.4->markdown>=2.6.8->tensorboard<1.16.0,>=1.15.0->tensorflow-gpu<2.0,>=1.15.2) (3.6.0)\n",
      "Requirement already satisfied: typing-extensions>=3.6.4 in /usr/local/lib/python3.7/dist-packages (from importlib-metadata>=4.4->markdown>=2.6.8->tensorboard<1.16.0,>=1.15.0->tensorflow-gpu<2.0,>=1.15.2) (3.10.0.2)\n",
      "Building wheels for collected packages: gast\n",
      "  Building wheel for gast (setup.py) ... \u001b[?25l\u001b[?25hdone\n",
      "  Created wheel for gast: filename=gast-0.2.2-py3-none-any.whl size=7554 sha256=10ca0857bad0e56342eae1b984f8737e94b00f954e8f08e7862f0f573e4b45bb\n",
      "  Stored in directory: /root/.cache/pip/wheels/21/7f/02/420f32a803f7d0967b48dd823da3f558c5166991bfd204eef3\n",
      "Successfully built gast\n",
      "Installing collected packages: numpy, importlib-metadata, h5py, tensorflow-estimator, tensorboard, keras-applications, gast, tensorflow-gpu\n",
      "  Attempting uninstall: numpy\n",
      "    Found existing installation: numpy 1.19.5\n",
      "    Uninstalling numpy-1.19.5:\n",
      "      Successfully uninstalled numpy-1.19.5\n",
      "  Attempting uninstall: importlib-metadata\n",
      "    Found existing installation: importlib-metadata 4.2.0\n",
      "    Uninstalling importlib-metadata-4.2.0:\n",
      "      Successfully uninstalled importlib-metadata-4.2.0\n",
      "  Attempting uninstall: h5py\n",
      "    Found existing installation: h5py 3.1.0\n",
      "    Uninstalling h5py-3.1.0:\n",
      "      Successfully uninstalled h5py-3.1.0\n",
      "  Attempting uninstall: tensorflow-estimator\n",
      "    Found existing installation: tensorflow-estimator 2.7.0\n",
      "    Uninstalling tensorflow-estimator-2.7.0:\n",
      "      Successfully uninstalled tensorflow-estimator-2.7.0\n",
      "  Attempting uninstall: tensorboard\n",
      "    Found existing installation: tensorboard 2.7.0\n",
      "    Uninstalling tensorboard-2.7.0:\n",
      "      Successfully uninstalled tensorboard-2.7.0\n",
      "  Attempting uninstall: gast\n",
      "    Found existing installation: gast 0.4.0\n",
      "    Uninstalling gast-0.4.0:\n",
      "      Successfully uninstalled gast-0.4.0\n",
      "\u001b[31mERROR: pip's dependency resolver does not currently take into account all the packages that are installed. This behaviour is the source of the following dependency conflicts.\n",
      "tensorflow 2.7.0 requires tensorboard~=2.6, but you have tensorboard 1.15.0 which is incompatible.\n",
      "tensorflow 2.7.0 requires tensorflow-estimator<2.8,~=2.7.0rc0, but you have tensorflow-estimator 1.15.1 which is incompatible.\n",
      "tensorflow-probability 0.15.0 requires gast>=0.3.2, but you have gast 0.2.2 which is incompatible.\n",
      "flake8 4.0.1 requires importlib-metadata<4.3; python_version < \"3.8\", but you have importlib-metadata 4.8.2 which is incompatible.\n",
      "datascience 0.10.6 requires folium==0.2.1, but you have folium 0.8.3 which is incompatible.\n",
      "albumentations 0.1.12 requires imgaug<0.2.7,>=0.2.5, but you have imgaug 0.2.9 which is incompatible.\u001b[0m\n",
      "Successfully installed gast-0.2.2 h5py-2.10.0 importlib-metadata-4.8.2 keras-applications-1.0.8 numpy-1.18.5 tensorboard-1.15.0 tensorflow-estimator-1.15.1 tensorflow-gpu-1.15.5\n"
     ]
    },
    {
     "data": {
      "application/vnd.colab-display-data+json": {
       "pip_warning": {
        "packages": [
         "gast",
         "h5py",
         "numpy",
         "tensorboard",
         "tensorflow"
        ]
       }
      }
     },
     "metadata": {},
     "output_type": "display_data"
    }
   ],
   "source": [
    "!pip install \"tensorflow-gpu>=1.15.2,<2.0\""
   ]
  },
  {
   "cell_type": "code",
   "execution_count": 1,
   "metadata": {
    "colab": {
     "base_uri": "https://localhost:8080/"
    },
    "id": "hB7eW-ZdA0cu",
    "outputId": "1be12907-5dac-411c-e344-c8d5f9ec745c"
   },
   "outputs": [
    {
     "name": "stdout",
     "output_type": "stream",
     "text": [
      "WARNING - All triples will be processed in the same batch (batches_count=1). When processing large graphs it is recommended to batch the input knowledge graph instead.\n"
     ]
    },
    {
     "data": {
      "text/plain": [
       "array([[ 0.25670585, -0.3011869 , -0.23950092,  0.14284079,  0.32528725,\n",
       "        -0.17080608,  0.34406787, -0.20753211,  0.07970539, -0.22319023,\n",
       "         0.15641478,  0.30420542,  0.36425987, -0.22927509, -0.2680887 ,\n",
       "        -0.47432607,  0.0217801 , -0.5583782 , -0.4031471 ,  0.108514  ],\n",
       "       [-0.15706335,  0.27334124, -0.4666501 , -0.34397012,  0.11477758,\n",
       "         0.17332976,  0.35828054,  0.0821802 ,  0.43514463, -0.23554587,\n",
       "        -0.0664973 , -0.13745542,  0.05554105, -0.45979163, -0.03638605,\n",
       "        -0.44420683,  0.08366295, -0.07778159, -0.3768378 , -0.00928266]],\n",
       "      dtype=float32)"
      ]
     },
     "execution_count": 1,
     "metadata": {},
     "output_type": "execute_result"
    }
   ],
   "source": [
    "import numpy as np\n",
    "from ampligraph.latent_features import ComplEx\n",
    "\n",
    "model = ComplEx(batches_count=1, seed=555, epochs=20, k=10)\n",
    "X = np.array([['a', 'y', 'b'],\n",
    "              ['b', 'y', 'a'],\n",
    "              ['a', 'y', 'c'],\n",
    "              ['c', 'y', 'a'],\n",
    "              ['a', 'y', 'd'],\n",
    "              ['c', 'y', 'd'],\n",
    "              ['b', 'y', 'c'],\n",
    "              ['f', 'y', 'e']])\n",
    "model.fit(X)\n",
    "model.get_embeddings(['f','e'], embedding_type='entity')"
   ]
  },
  {
   "cell_type": "code",
   "execution_count": 2,
   "metadata": {
    "colab": {
     "base_uri": "https://localhost:8080/"
    },
    "id": "iT_00alTA_kR",
    "outputId": "9ce539de-f094-4006-93b2-425472819994"
   },
   "outputs": [
    {
     "data": {
      "text/plain": [
       "array([[-0.10371958, -0.14583218,  0.22096074, -0.6052284 ,  0.05482241,\n",
       "        -0.0196579 ,  0.25527224,  0.24141456, -0.04165557,  0.28237548,\n",
       "        -0.29211932, -0.35728115, -0.27753964,  0.21847081, -0.10824742,\n",
       "        -0.04499299, -0.13122639,  0.30512977,  0.2142967 ,  0.25706917]],\n",
       "      dtype=float32)"
      ]
     },
     "execution_count": 2,
     "metadata": {},
     "output_type": "execute_result"
    }
   ],
   "source": [
    "model.get_embeddings(['a'], embedding_type='entity')"
   ]
  },
  {
   "cell_type": "code",
   "execution_count": 11,
   "metadata": {
    "colab": {
     "base_uri": "https://localhost:8080/"
    },
    "id": "X7hjofssB9Xz",
    "outputId": "1c66864a-af18-43ac-aebc-0909433998cd"
   },
   "outputs": [
    {
     "data": {
      "text/plain": [
       "array([[ 0.25670585, -0.3011869 , -0.23950092,  0.14284079,  0.32528725,\n",
       "        -0.17080608,  0.34406787, -0.20753211,  0.07970539, -0.22319023,\n",
       "         0.15641478,  0.30420542,  0.36425987, -0.22927509, -0.2680887 ,\n",
       "        -0.47432607,  0.0217801 , -0.5583782 , -0.4031471 ,  0.108514  ]],\n",
       "      dtype=float32)"
      ]
     },
     "execution_count": 11,
     "metadata": {},
     "output_type": "execute_result"
    }
   ],
   "source": [
    "model.get_embeddings(['f'], embedding_type='entity')"
   ]
  },
  {
   "cell_type": "code",
   "execution_count": 12,
   "metadata": {
    "colab": {
     "base_uri": "https://localhost:8080/"
    },
    "id": "DFoCiFJGCD_m",
    "outputId": "f5e8b9bd-8dd5-4127-93c0-cf48b8d5a247"
   },
   "outputs": [
    {
     "data": {
      "text/plain": [
       "array([[-1.7087938e-01,  1.4999509e-01,  2.9407182e-01,  1.8625981e-01,\n",
       "        -1.6001947e-01,  4.9188279e-04, -1.9712371e-01,  5.2929765e-01,\n",
       "        -3.3518019e-01, -4.5672062e-01,  5.0781357e-01,  1.9965298e-01,\n",
       "        -3.9932293e-01, -2.7712131e-01, -2.2794114e-01,  2.9238033e-01,\n",
       "        -2.1377882e-01,  5.2952880e-01, -4.7254694e-01,  3.2151541e-01]],\n",
       "      dtype=float32)"
      ]
     },
     "execution_count": 12,
     "metadata": {},
     "output_type": "execute_result"
    }
   ],
   "source": [
    "model.get_embeddings(['y'], embedding_type='relation')"
   ]
  },
  {
   "cell_type": "code",
   "execution_count": 13,
   "metadata": {
    "colab": {
     "base_uri": "https://localhost:8080/"
    },
    "id": "lgAC14qVCM3s",
    "outputId": "ab39d7ec-a435-40e1-bc08-3cc434da0a6d"
   },
   "outputs": [
    {
     "name": "stdout",
     "output_type": "stream",
     "text": [
      "Collecting adjustText\n",
      "  Downloading adjustText-0.7.3.tar.gz (7.5 kB)\n",
      "Requirement already satisfied: numpy in /usr/local/lib/python3.7/dist-packages (from adjustText) (1.18.5)\n",
      "Requirement already satisfied: matplotlib in /usr/local/lib/python3.7/dist-packages (from adjustText) (3.2.2)\n",
      "Requirement already satisfied: kiwisolver>=1.0.1 in /usr/local/lib/python3.7/dist-packages (from matplotlib->adjustText) (1.3.2)\n",
      "Requirement already satisfied: python-dateutil>=2.1 in /usr/local/lib/python3.7/dist-packages (from matplotlib->adjustText) (2.8.2)\n",
      "Requirement already satisfied: cycler>=0.10 in /usr/local/lib/python3.7/dist-packages (from matplotlib->adjustText) (0.11.0)\n",
      "Requirement already satisfied: pyparsing!=2.0.4,!=2.1.2,!=2.1.6,>=2.0.1 in /usr/local/lib/python3.7/dist-packages (from matplotlib->adjustText) (3.0.6)\n",
      "Requirement already satisfied: six>=1.5 in /usr/local/lib/python3.7/dist-packages (from python-dateutil>=2.1->matplotlib->adjustText) (1.15.0)\n",
      "Building wheels for collected packages: adjustText\n",
      "  Building wheel for adjustText (setup.py) ... \u001b[?25l\u001b[?25hdone\n",
      "  Created wheel for adjustText: filename=adjustText-0.7.3-py3-none-any.whl size=7094 sha256=552cfd58e1a519534b66be69c2a3fe8f2a5ca031147ac2e8a27f774908a0c78a\n",
      "  Stored in directory: /root/.cache/pip/wheels/2f/98/32/afbf902d8f040fadfdf0a44357e4ab750afe165d873bf5893d\n",
      "Successfully built adjustText\n",
      "Installing collected packages: adjustText\n",
      "Successfully installed adjustText-0.7.3\n"
     ]
    }
   ],
   "source": [
    "!pip install adjustText"
   ]
  },
  {
   "cell_type": "code",
   "execution_count": 14,
   "metadata": {
    "colab": {
     "base_uri": "https://localhost:8080/"
    },
    "id": "d2gQeT3TEEo1",
    "outputId": "61ca212e-a981-4d88-8a9f-e95e470b6d93"
   },
   "outputs": [
    {
     "name": "stdout",
     "output_type": "stream",
     "text": [
      "Cloning into 'incf.countryutils'...\n",
      "remote: Enumerating objects: 124, done.\u001b[K\n",
      "remote: Counting objects: 100% (37/37), done.\u001b[K\n",
      "remote: Compressing objects: 100% (21/21), done.\u001b[K\n",
      "remote: Total 124 (delta 15), reused 33 (delta 14), pack-reused 87\u001b[K\n",
      "Receiving objects: 100% (124/124), 65.24 KiB | 3.26 MiB/s, done.\n",
      "Resolving deltas: 100% (53/53), done.\n"
     ]
    }
   ],
   "source": [
    "!git clone  https://github.com/wyldebeast-wunderliebe/incf.countryutils.git"
   ]
  },
  {
   "cell_type": "code",
   "execution_count": 15,
   "metadata": {
    "id": "U5urwcBiEK0p"
   },
   "outputs": [],
   "source": [
    "!cd incf.countryutils"
   ]
  },
  {
   "cell_type": "code",
   "execution_count": 16,
   "metadata": {
    "colab": {
     "base_uri": "https://localhost:8080/"
    },
    "id": "SpBKdOH1EN9O",
    "outputId": "b468c6fd-bece-414b-f8b1-a2bf7faaaf86"
   },
   "outputs": [
    {
     "name": "stdout",
     "output_type": "stream",
     "text": [
      "/content\n"
     ]
    }
   ],
   "source": [
    "!pwd"
   ]
  },
  {
   "cell_type": "code",
   "execution_count": 17,
   "metadata": {
    "colab": {
     "base_uri": "https://localhost:8080/"
    },
    "id": "nPGNlJzhEO6a",
    "outputId": "2bd592c4-4be1-4000-c2ee-dede23030b4f"
   },
   "outputs": [
    {
     "name": "stdout",
     "output_type": "stream",
     "text": [
      "Processing ./incf.countryutils\n",
      "\u001b[33m  DEPRECATION: A future pip version will change local packages to be built in-place without first copying to a temporary directory. We recommend you use --use-feature=in-tree-build to test your packages with this new behavior before it becomes the default.\n",
      "   pip 21.3 will remove support for this functionality. You can find discussion regarding this at https://github.com/pypa/pip/issues/7555.\u001b[0m\n",
      "Requirement already satisfied: setuptools in /usr/local/lib/python3.7/dist-packages (from incf.countryutils2==1.2) (57.4.0)\n",
      "Building wheels for collected packages: incf.countryutils2\n",
      "  Building wheel for incf.countryutils2 (setup.py) ... \u001b[?25l\u001b[?25hdone\n",
      "  Created wheel for incf.countryutils2: filename=incf.countryutils2-1.2-py3-none-any.whl size=26074 sha256=aff537e9959c6db5e7f63a4e43e49414f5804e6c754dba5698067fda6233b65c\n",
      "  Stored in directory: /tmp/pip-ephem-wheel-cache-5n6ywa19/wheels/28/df/14/2ca2edf3870fd95994ba18ebe635600b9b522e626ef2dc357f\n",
      "Successfully built incf.countryutils2\n",
      "Installing collected packages: incf.countryutils2\n",
      "Successfully installed incf.countryutils2-1.2\n"
     ]
    }
   ],
   "source": [
    "!pip install ./incf.countryutils/\n"
   ]
  },
  {
   "cell_type": "code",
   "execution_count": 21,
   "metadata": {
    "colab": {
     "base_uri": "https://localhost:8080/"
    },
    "id": "GCeJfE1uIo4N",
    "outputId": "7d0168bc-7578-43d0-f1ca-b3eb43a7f5d0"
   },
   "outputs": [
    {
     "name": "stdout",
     "output_type": "stream",
     "text": [
      "Mounted at /content/drive\n"
     ]
    }
   ],
   "source": [
    "from google.colab import drive\n",
    "drive.mount('/content/drive')\n"
   ]
  },
  {
   "cell_type": "code",
   "execution_count": 31,
   "metadata": {
    "colab": {
     "base_uri": "https://localhost:8080/",
     "height": 423
    },
    "id": "Sj_6nuuXJQgF",
    "outputId": "dd9af1bc-5830-4366-98a1-7a2ac778fc0e"
   },
   "outputs": [
    {
     "data": {
      "text/html": [
       "<div>\n",
       "<style scoped>\n",
       "    .dataframe tbody tr th:only-of-type {\n",
       "        vertical-align: middle;\n",
       "    }\n",
       "\n",
       "    .dataframe tbody tr th {\n",
       "        vertical-align: top;\n",
       "    }\n",
       "\n",
       "    .dataframe thead th {\n",
       "        text-align: right;\n",
       "    }\n",
       "</style>\n",
       "<table border=\"1\" class=\"dataframe\">\n",
       "  <thead>\n",
       "    <tr style=\"text-align: right;\">\n",
       "      <th></th>\n",
       "      <th>삼성전자</th>\n",
       "      <th>다음_국가의_것임</th>\n",
       "      <th>인도</th>\n",
       "    </tr>\n",
       "  </thead>\n",
       "  <tbody>\n",
       "    <tr>\n",
       "      <th>0</th>\n",
       "      <td>삼성전자</td>\n",
       "      <td>다음_국가의_것임</td>\n",
       "      <td>중국</td>\n",
       "    </tr>\n",
       "    <tr>\n",
       "      <th>1</th>\n",
       "      <td>삼성전자</td>\n",
       "      <td>해당_개체의_제품</td>\n",
       "      <td>스마트폰</td>\n",
       "    </tr>\n",
       "    <tr>\n",
       "      <th>2</th>\n",
       "      <td>인도</td>\n",
       "      <td>수교국</td>\n",
       "      <td>중국</td>\n",
       "    </tr>\n",
       "    <tr>\n",
       "      <th>3</th>\n",
       "      <td>인도</td>\n",
       "      <td>해당_개체의_제품</td>\n",
       "      <td>스마트폰</td>\n",
       "    </tr>\n",
       "    <tr>\n",
       "      <th>4</th>\n",
       "      <td>중국</td>\n",
       "      <td>수교국</td>\n",
       "      <td>인도</td>\n",
       "    </tr>\n",
       "    <tr>\n",
       "      <th>...</th>\n",
       "      <td>...</td>\n",
       "      <td>...</td>\n",
       "      <td>...</td>\n",
       "    </tr>\n",
       "    <tr>\n",
       "      <th>42000</th>\n",
       "      <td>유동근</td>\n",
       "      <td>해당_개체의_친형제자매</td>\n",
       "      <td>김상중</td>\n",
       "    </tr>\n",
       "    <tr>\n",
       "      <th>42001</th>\n",
       "      <td>유동근</td>\n",
       "      <td>해당_개체의_배우자</td>\n",
       "      <td>서이숙</td>\n",
       "    </tr>\n",
       "    <tr>\n",
       "      <th>42002</th>\n",
       "      <td>꼬리</td>\n",
       "      <td>해당_개체가_다음의_일부분임</td>\n",
       "      <td>더 뱅커</td>\n",
       "    </tr>\n",
       "    <tr>\n",
       "      <th>42003</th>\n",
       "      <td>말기암</td>\n",
       "      <td>하위_개념</td>\n",
       "      <td>항암바이러스</td>\n",
       "    </tr>\n",
       "    <tr>\n",
       "      <th>42004</th>\n",
       "      <td>항암바이러스</td>\n",
       "      <td>다음과_다르지만_같은_의미인_것처럼_혼동되는_항목</td>\n",
       "      <td>말기암</td>\n",
       "    </tr>\n",
       "  </tbody>\n",
       "</table>\n",
       "<p>42005 rows × 3 columns</p>\n",
       "</div>"
      ],
      "text/plain": [
       "         삼성전자                    다음_국가의_것임      인도\n",
       "0        삼성전자                    다음_국가의_것임      중국\n",
       "1        삼성전자                    해당_개체의_제품    스마트폰\n",
       "2          인도                          수교국      중국\n",
       "3          인도                    해당_개체의_제품    스마트폰\n",
       "4          중국                          수교국      인도\n",
       "...       ...                          ...     ...\n",
       "42000     유동근                 해당_개체의_친형제자매     김상중\n",
       "42001     유동근                   해당_개체의_배우자     서이숙\n",
       "42002      꼬리              해당_개체가_다음의_일부분임    더 뱅커\n",
       "42003     말기암                        하위_개념  항암바이러스\n",
       "42004  항암바이러스  다음과_다르지만_같은_의미인_것처럼_혼동되는_항목     말기암\n",
       "\n",
       "[42005 rows x 3 columns]"
      ]
     },
     "execution_count": 31,
     "metadata": {},
     "output_type": "execute_result"
    }
   ],
   "source": [
    "import pandas as pd\n",
    "\n",
    "df = pd.read_csv('/content/drive/MyDrive/Korean_RE/data/results/news_domain_kg.csv')\n",
    "df"
   ]
  },
  {
   "cell_type": "code",
   "execution_count": 32,
   "metadata": {
    "colab": {
     "base_uri": "https://localhost:8080/"
    },
    "id": "vGYDkF8CJ5F9",
    "outputId": "cb1fb4a5-1f9e-4d6d-8975-493ce6643caa"
   },
   "outputs": [
    {
     "name": "stdout",
     "output_type": "stream",
     "text": [
      "[['TeamScotland' 'isHomeTeam' 'Match0']\n",
      " ['TeamEngland' 'isAwayTeam' 'Match0']\n",
      " ['TeamScotland' 'draws' 'Match0']\n",
      " ...\n",
      " ['Match40770' 'atYear' '2019']\n",
      " ['Match40770' 'homeScores' '1']\n",
      " ['Match40770' 'awayScores' '0']]\n"
     ]
    }
   ],
   "source": [
    "X = load_from_csv('.', 'football.csv', sep=',')[:, 1:]\n",
    "print(X)"
   ]
  },
  {
   "cell_type": "code",
   "execution_count": 35,
   "metadata": {
    "colab": {
     "base_uri": "https://localhost:8080/"
    },
    "id": "IFFA0c1lKZ4l",
    "outputId": "971cf13c-dcac-4d47-80b4-3c5f73abc7f8"
   },
   "outputs": [
    {
     "name": "stdout",
     "output_type": "stream",
     "text": [
      "[['삼성전자' '다음_국가의_것임' '인도']\n",
      " ['삼성전자' '다음_국가의_것임' '중국']\n",
      " ['삼성전자' '해당_개체의_제품' '스마트폰']\n",
      " ...\n",
      " ['꼬리' '해당_개체가_다음의_일부분임' '더 뱅커']\n",
      " ['말기암' '하위_개념' '항암바이러스']\n",
      " ['항암바이러스' '다음과_다르지만_같은_의미인_것처럼_혼동되는_항목' '말기암']]\n"
     ]
    }
   ],
   "source": [
    "X = load_from_csv('.', '/content/drive/MyDrive/Korean_RE/data/results/news_domain_kg.csv', sep=',')\n",
    "print(X)"
   ]
  },
  {
   "cell_type": "code",
   "execution_count": 36,
   "metadata": {
    "colab": {
     "base_uri": "https://localhost:8080/"
    },
    "id": "HYiOdVqJErOQ",
    "outputId": "c7810b73-94fa-43ca-a7e7-3f9509e86b89"
   },
   "outputs": [
    {
     "name": "stderr",
     "output_type": "stream",
     "text": [
      "Average ComplEx Loss:   0.027516: 100%|██████████| 300/300 [22:24<00:00,  4.48s/epoch]\n"
     ]
    }
   ],
   "source": [
    "import numpy as np\n",
    "import pandas as pd\n",
    "import requests\n",
    "\n",
    "from ampligraph.datasets import load_from_csv\n",
    "from ampligraph.latent_features import ComplEx\n",
    "from ampligraph.evaluation import evaluate_performance\n",
    "from ampligraph.evaluation import mr_score, mrr_score, hits_at_n_score\n",
    "from ampligraph.evaluation import train_test_split_no_unseen\n",
    "\n",
    "# International football matches triples\n",
    "# url = 'https://ampligraph.s3-eu-west-1.amazonaws.com/datasets/football.csv'\n",
    "# open('football.csv', 'wb').write(requests.get(url).content)\n",
    "# X = load_from_csv('.', 'football.csv', sep=',')[:, 1:]\n",
    "\n",
    "# triple_csv = '/content/drive/MyDrive/Korean_RE/data/results/news_domain_kg.csv'\n",
    "X = load_from_csv('/content/drive/MyDrive/Korean_RE/data/results/', 'news_domain_kg.csv', sep=',')\n",
    "\n",
    "# Train test split\n",
    "X_train, X_test = train_test_split_no_unseen(X, test_size=1000)\n",
    "\n",
    "# ComplEx model\n",
    "model = ComplEx(batches_count=50,\n",
    "                epochs=300,\n",
    "                k=100,\n",
    "                eta=20,\n",
    "                optimizer='adam',\n",
    "                optimizer_params={'lr':1e-4},\n",
    "                loss='multiclass_nll',\n",
    "                regularizer='LP',\n",
    "                regularizer_params={'p':3, 'lambda':1e-5},\n",
    "                seed=0,\n",
    "                verbose=True)\n",
    "\n",
    "model.fit(X_train)"
   ]
  },
  {
   "cell_type": "code",
   "execution_count": 40,
   "metadata": {
    "colab": {
     "base_uri": "https://localhost:8080/"
    },
    "id": "hri-JPNrQ-FF",
    "outputId": "9cf75481-5e75-410c-a9c3-9f2ff9763df9"
   },
   "outputs": [
    {
     "data": {
      "text/plain": [
       "(1, 200)"
      ]
     },
     "execution_count": 40,
     "metadata": {},
     "output_type": "execute_result"
    }
   ],
   "source": [
    "# model.get_embeddings(['f','e'], embedding_type='entity')\n",
    "model.get_embeddings(['삼성전자'], embedding_type='entity').shape"
   ]
  },
  {
   "cell_type": "code",
   "execution_count": 41,
   "metadata": {
    "colab": {
     "base_uri": "https://localhost:8080/"
    },
    "id": "uqDLJwjeQ-Ti",
    "outputId": "d7c48fad-3e91-4fa9-96f4-2939a8e09edf"
   },
   "outputs": [
    {
     "data": {
      "text/plain": [
       "array([[ 0.29380497,  0.15711589,  0.20047657, -0.02385921, -0.134398  ,\n",
       "         0.23113863, -0.18074143, -0.3326762 , -0.3149612 ,  0.2256267 ,\n",
       "        -0.01953783, -0.09940026, -0.4234142 ,  0.02212378,  0.2736314 ,\n",
       "         0.4607077 , -0.42999572, -0.23379624,  0.3148194 ,  0.3197042 ,\n",
       "        -0.45867008,  0.33704543, -0.19676608, -0.20914422,  0.09739388,\n",
       "         0.28271648,  0.04154048,  0.37051898,  0.27658722,  0.26245582,\n",
       "         0.20153579, -0.377528  , -0.03205306,  0.3112742 ,  0.02034313,\n",
       "        -0.27937406, -0.30875117,  0.24753074,  0.10131042,  0.13021734,\n",
       "         0.04230977,  0.2084685 , -0.24125679, -0.39078543, -0.05844074,\n",
       "         0.27152   ,  0.21487595,  0.3158436 ,  0.28755322, -0.27715328,\n",
       "        -0.1986003 , -0.14543106,  0.07685877, -0.30324534,  0.00099276,\n",
       "         0.3275533 ,  0.16988838, -0.17343076, -0.05999562,  0.18949877,\n",
       "         0.41446182,  0.04433723, -0.0135366 , -0.02399682, -0.10335149,\n",
       "        -0.285254  , -0.26895136, -0.05351179, -0.20257413, -0.36953995,\n",
       "         0.13282827,  0.06258962,  0.01351875, -0.29968646, -0.19900739,\n",
       "         0.28915644, -0.31990063, -0.01258134, -0.10958253,  0.48662698,\n",
       "        -0.28597593, -0.22227691, -0.13478905,  0.33265817, -0.00257427,\n",
       "        -0.07369728,  0.12331527, -0.29538915,  0.30815738, -0.22465163,\n",
       "        -0.09233994, -0.3904882 ,  0.12512834, -0.09918936, -0.22250865,\n",
       "         0.03020401,  0.03184463,  0.3123116 , -0.23591222, -0.02081998,\n",
       "        -0.3102029 , -0.02213058, -0.05580626, -0.02437208, -0.12528785,\n",
       "         0.26533678,  0.19846134, -0.12368169, -0.24858885,  0.15288778,\n",
       "         0.00362009, -0.35081807,  0.02352966,  0.15805097, -0.307023  ,\n",
       "         0.3262127 , -0.40315118,  0.17672102, -0.27408168, -0.39123404,\n",
       "        -0.07995933, -0.11333816, -0.25501224,  0.2684042 , -0.08669651,\n",
       "         0.13341972,  0.15525246,  0.0742143 , -0.19681579, -0.03751083,\n",
       "        -0.25989893,  0.43449387, -0.06628763,  0.35948822, -0.3644697 ,\n",
       "        -0.35289186, -0.34917256, -0.2881317 ,  0.2537052 , -0.2502369 ,\n",
       "         0.13859318, -0.36682615,  0.17854577,  0.05286972, -0.44538334,\n",
       "         0.18003483,  0.26955834,  0.07476714, -0.29119202, -0.22912651,\n",
       "        -0.29512882,  0.39836964,  0.44271773,  0.19183627, -0.22136827,\n",
       "         0.3725291 , -0.1673338 ,  0.09075081,  0.23813577, -0.3361055 ,\n",
       "         0.0450444 , -0.126254  , -0.43355438, -0.35825974,  0.27993172,\n",
       "         0.0073876 , -0.09449709,  0.4562107 ,  0.36651132, -0.1135247 ,\n",
       "        -0.10339068, -0.32920372, -0.38598144,  0.01906407,  0.12119252,\n",
       "         0.17407699, -0.32131726,  0.4130908 ,  0.11163499,  0.07100895,\n",
       "         0.2359467 ,  0.37599906, -0.34779844,  0.0490588 ,  0.3480202 ,\n",
       "         0.469825  ,  0.05770767, -0.0021386 , -0.16890062, -0.28042743,\n",
       "        -0.1848775 ,  0.13131663, -0.36254123, -0.2538187 , -0.41114265,\n",
       "         0.15441841,  0.20843759,  0.19661492, -0.18884392,  0.21454619]],\n",
       "      dtype=float32)"
      ]
     },
     "execution_count": 41,
     "metadata": {},
     "output_type": "execute_result"
    }
   ],
   "source": [
    "model.get_embeddings(['손흥민'], embedding_type='entity')"
   ]
  },
  {
   "cell_type": "code",
   "execution_count": 42,
   "metadata": {
    "colab": {
     "base_uri": "https://localhost:8080/"
    },
    "id": "pfndGft_Q-WI",
    "outputId": "e1e68127-7c26-4419-98cb-483529f09799"
   },
   "outputs": [
    {
     "data": {
      "text/plain": [
       "array([[ 9.8150361e-01,  3.7045199e-01, -1.0737088e+00,  5.9603043e-02,\n",
       "         1.1122440e+00,  8.6190826e-01,  1.0918491e+00,  8.9380944e-01,\n",
       "        -1.0915350e+00,  8.8850343e-01, -6.0184622e-01, -8.8777554e-01,\n",
       "        -6.4362156e-01, -2.6129195e-01, -7.5193065e-01,  1.0881727e+00,\n",
       "         5.0997585e-01, -9.9358267e-01,  1.0995481e+00, -1.0923445e+00,\n",
       "         4.6208331e-01,  1.0168653e+00,  1.1714410e+00,  1.1561873e+00,\n",
       "        -8.9681588e-02,  9.9386507e-01,  1.1443816e+00,  5.7711023e-01,\n",
       "         3.3828795e-01,  1.1269757e+00,  4.5743212e-01, -7.3614407e-01,\n",
       "         9.1771317e-01,  1.2259729e+00,  8.8158369e-01, -6.9460815e-01,\n",
       "         9.9154747e-01, -7.5661647e-01,  1.0420854e-01, -7.8168583e-01,\n",
       "         7.2174197e-01,  8.4355766e-01,  8.6005324e-01,  1.0557370e+00,\n",
       "         1.2097059e+00, -8.6890697e-01,  1.0071330e+00, -8.7902835e-03,\n",
       "         7.9273266e-01, -8.5127270e-01, -5.8961540e-02,  9.0930718e-01,\n",
       "        -9.8536134e-01, -6.5162009e-01,  1.0018477e+00, -1.0059773e+00,\n",
       "         8.0748278e-01,  1.0675268e+00,  1.1920133e+00,  3.8902012e-01,\n",
       "         9.9010998e-01, -9.2800611e-01,  1.0478897e+00,  9.7571456e-01,\n",
       "         1.1933417e+00,  9.6625882e-01, -7.5081152e-01, -7.8376043e-01,\n",
       "         1.0309772e-03, -1.0494583e+00, -6.2756962e-01,  9.9615532e-01,\n",
       "         1.1729754e+00,  1.1069839e+00,  1.0180882e+00, -1.3767803e-01,\n",
       "         4.5248315e-01, -1.1676131e+00,  1.1368507e+00,  8.6850804e-01,\n",
       "         1.0880283e+00,  1.0586727e+00, -9.3480188e-01,  1.0193883e+00,\n",
       "        -1.1167711e+00, -4.7178395e-02, -1.1845489e+00, -8.6565876e-01,\n",
       "         1.0010962e+00,  9.3232560e-01, -7.1258563e-01,  2.2069506e-01,\n",
       "         9.5484155e-01,  1.0317082e+00, -7.9217911e-01,  3.7838060e-01,\n",
       "         3.9184344e-01,  9.8895490e-01,  9.3697160e-01, -1.0499511e+00,\n",
       "        -8.7026864e-01,  8.4293991e-01,  9.5484805e-01,  1.0310957e+00,\n",
       "         9.5435846e-01,  1.0636326e+00,  1.1781459e+00,  1.0450950e+00,\n",
       "        -6.9745392e-01,  1.1374338e+00, -1.0755363e+00,  1.0031662e+00,\n",
       "        -1.1077249e+00, -1.1348019e+00,  1.0664723e+00, -7.2961509e-01,\n",
       "        -1.0800782e+00, -1.0357209e+00,  1.0582170e+00, -1.2574847e-01,\n",
       "         1.1382368e+00, -9.1862756e-01, -9.1973644e-01, -7.5630921e-01,\n",
       "         1.2149004e+00,  1.0419335e+00, -1.5279347e-02,  8.5816723e-01,\n",
       "        -1.0914576e+00, -8.7081718e-01, -1.0129672e+00,  1.0178047e+00,\n",
       "         9.5402348e-01, -7.7850479e-01,  6.6664994e-01,  1.1453478e+00,\n",
       "         8.5710013e-01, -1.0290729e+00,  1.1415677e+00, -1.0548500e+00,\n",
       "        -7.5578916e-01, -8.5321909e-01, -9.7191811e-01, -1.1216505e+00,\n",
       "        -4.0645742e-01,  7.2621244e-01,  2.9842085e-01,  1.1218849e+00,\n",
       "         1.1328425e+00, -7.8561050e-01, -1.1012045e+00,  1.0997972e+00,\n",
       "         5.7499301e-01, -8.3299190e-01,  8.7793773e-01,  4.7489458e-01,\n",
       "         9.8211062e-01, -7.9757446e-01, -7.4490422e-01,  6.2410223e-01,\n",
       "         1.0879858e+00, -9.0734619e-01, -9.5913523e-01,  6.8981272e-01,\n",
       "        -7.0331562e-01, -7.6991558e-01, -1.1708171e+00, -9.5389313e-01,\n",
       "         1.0953578e+00,  7.8427410e-01, -1.0229247e+00,  1.1109555e+00,\n",
       "         9.4192308e-01, -1.1121782e+00, -8.5162765e-01,  1.0589620e+00,\n",
       "        -9.0118968e-01,  7.0537770e-01, -8.2037479e-01, -8.4290308e-01,\n",
       "         1.0682340e+00,  8.4508634e-01, -9.6245503e-01,  6.3518119e-01,\n",
       "         7.8208196e-01,  4.1178995e-01, -1.6821976e-01, -1.1616873e+00,\n",
       "        -9.0442467e-01, -5.8134824e-01,  1.0527894e+00,  9.1484076e-01,\n",
       "         6.7113829e-01, -8.9158541e-01,  1.1436830e+00, -1.1317086e+00,\n",
       "        -9.7289157e-01,  9.4370967e-01,  1.0566343e+00, -9.7851330e-01]],\n",
       "      dtype=float32)"
      ]
     },
     "execution_count": 42,
     "metadata": {},
     "output_type": "execute_result"
    }
   ],
   "source": [
    "model.get_embeddings(['해당_개체의_제조사'], embedding_type='relation')"
   ]
  },
  {
   "cell_type": "code",
   "execution_count": 47,
   "metadata": {
    "colab": {
     "base_uri": "https://localhost:8080/"
    },
    "id": "cgFtRDqKQ-YY",
    "outputId": "da831eb4-11da-4ab9-868e-21e00608e0ce"
   },
   "outputs": [
    {
     "data": {
      "text/plain": [
       "array([13.040573], dtype=float32)"
      ]
     },
     "execution_count": 47,
     "metadata": {},
     "output_type": "execute_result"
    }
   ],
   "source": [
    "y_pred = model.predict(np.array([['인공지능', '해당_개체의_제조사', '삼성전자']]))\n",
    "y_pred"
   ]
  },
  {
   "cell_type": "code",
   "execution_count": 48,
   "metadata": {
    "colab": {
     "base_uri": "https://localhost:8080/"
    },
    "id": "W83hNRuDQ-af",
    "outputId": "5cbc6b9d-8457-4f98-a4e1-bfc07c98527b"
   },
   "outputs": [
    {
     "data": {
      "text/plain": [
       "array([-1.7425735], dtype=float32)"
      ]
     },
     "execution_count": 48,
     "metadata": {},
     "output_type": "execute_result"
    }
   ],
   "source": [
    "y_pred = model.predict(np.array([['인공지능', '해당_개체의_제품', '삼성전자']]))\n",
    "y_pred"
   ]
  },
  {
   "cell_type": "code",
   "execution_count": 49,
   "metadata": {
    "colab": {
     "base_uri": "https://localhost:8080/"
    },
    "id": "MgNAQGWpQ-cz",
    "outputId": "939bee1f-281b-474f-aa7d-0b3785582201"
   },
   "outputs": [
    {
     "data": {
      "text/plain": [
       "array([4.870197], dtype=float32)"
      ]
     },
     "execution_count": 49,
     "metadata": {},
     "output_type": "execute_result"
    }
   ],
   "source": [
    "y_pred = model.predict(np.array([['인공지능', '다음과_다르지만_같은_의미인_것처럼_혼동되는_항목', '로봇']]))\n",
    "y_pred"
   ]
  },
  {
   "cell_type": "code",
   "execution_count": 51,
   "metadata": {
    "id": "GzRAPvY3SeiX"
   },
   "outputs": [],
   "source": [
    "from ampligraph.utils import save_model, restore_model\n",
    "\n",
    "model_name = \"/content/drive/MyDrive/Korean_RE/kge/news_domain_kg_embedding.pkl\"\n",
    "\n",
    "save_model(model, model_name_path=model_name)"
   ]
  },
  {
   "cell_type": "code",
   "execution_count": 52,
   "metadata": {
    "colab": {
     "base_uri": "https://localhost:8080/"
    },
    "id": "TtDMWGI1S4wl",
    "outputId": "d666d9fc-4831-45f9-ba21-29a3838ec59e"
   },
   "outputs": [
    {
     "data": {
      "text/plain": [
       "array([13.040573], dtype=float32)"
      ]
     },
     "execution_count": 52,
     "metadata": {},
     "output_type": "execute_result"
    }
   ],
   "source": [
    "restored_model = restore_model(model_name_path=model_name)\n",
    "\n",
    "# use the restored model\n",
    "y_pred = restored_model.predict(np.array([['인공지능', '해당_개체의_제조사', '삼성전자']]))\n",
    "y_pred"
   ]
  },
  {
   "cell_type": "code",
   "execution_count": 60,
   "metadata": {
    "colab": {
     "base_uri": "https://localhost:8080/"
    },
    "id": "cveERP_HTCMg",
    "outputId": "97e3bce1-e7b8-47f0-84f0-fbb547589ae1"
   },
   "outputs": [
    {
     "data": {
      "text/plain": [
       "array([[ 0.46595478, -0.30585882,  0.29781452, -0.0501992 ,  0.0162836 ,\n",
       "        -0.27524713, -0.00770139, -0.3451445 , -0.49774048,  0.40234452,\n",
       "         0.04948333,  0.3772119 ,  0.4334331 , -0.20175157, -0.04376844,\n",
       "        -0.31181392,  0.06022745,  0.1509922 , -0.40094823,  0.176837  ,\n",
       "         0.06775962, -0.31940502, -0.18472143,  0.28550097,  0.3138354 ,\n",
       "         0.33115828,  0.07491156,  0.14671896, -0.06969238,  0.4762035 ,\n",
       "        -0.27749342,  0.3550516 ,  0.15766574,  0.08499383,  0.0045298 ,\n",
       "         0.33258665, -0.45567054,  0.12875533,  0.14740399, -0.17375585,\n",
       "         0.2532541 ,  0.22957942, -0.48467872,  0.13883258, -0.35932183,\n",
       "         0.05857145, -0.41023692, -0.20576799, -0.41630659,  0.25333038,\n",
       "         0.31234124,  0.31385607, -0.56067634,  0.36201766, -0.15480259,\n",
       "        -0.49626788, -0.27809113, -0.19660963, -0.17744592, -0.0057651 ,\n",
       "        -0.32905585,  0.15791489,  0.29121038, -0.20053592, -0.06681545,\n",
       "         0.48515868,  0.26968905,  0.30619103, -0.37025735, -0.28000274,\n",
       "        -0.4625622 , -0.16089581,  0.2022896 , -0.06065692, -0.00437663,\n",
       "        -0.02873047,  0.5174017 , -0.05746546, -0.13632771, -0.15940756,\n",
       "        -0.38594627, -0.45349506,  0.31721488,  0.29222482,  0.2980227 ,\n",
       "        -0.2874153 ,  0.26162305,  0.31271213, -0.1832842 , -0.37440965,\n",
       "         0.22682178,  0.3526283 , -0.285305  ,  0.16375169,  0.47753713,\n",
       "        -0.11362699, -0.53758514, -0.4762848 , -0.33483344,  0.22194946,\n",
       "         0.10853249, -0.01600133,  0.14453785, -0.24468496,  0.02974577,\n",
       "        -0.42525557,  0.40035862,  0.53414696, -0.42980453, -0.3731874 ,\n",
       "        -0.09720583, -0.2580001 ,  0.15227391, -0.17644762, -0.0606754 ,\n",
       "        -0.23629503, -0.10127699,  0.45636472, -0.12620965,  0.00509712,\n",
       "        -0.2752829 , -0.28954542,  0.29986086, -0.08258804,  0.17792505,\n",
       "        -0.2612019 ,  0.26352835,  0.51147676, -0.320421  ,  0.3784816 ,\n",
       "        -0.4279696 , -0.18989997,  0.37079102, -0.3292637 , -0.31598225,\n",
       "         0.16316953,  0.29048067, -0.5025897 , -0.43135995, -0.30424857,\n",
       "        -0.01517574,  0.02766359,  0.04090504,  0.20191123,  0.33745167,\n",
       "         0.46118087,  0.18730423,  0.22219847, -0.02750158, -0.5054459 ,\n",
       "        -0.521254  , -0.21212006,  0.02530593, -0.27494144,  0.06456937,\n",
       "         0.08854026, -0.22439799,  0.07249022, -0.3271148 , -0.27765766,\n",
       "        -0.26077893, -0.0466582 ,  0.1565267 ,  0.2710361 , -0.4987276 ,\n",
       "         0.01498351,  0.099354  , -0.01029877, -0.24123113, -0.52363884,\n",
       "         0.29918295, -0.3469295 ,  0.1542592 ,  0.03123345, -0.06164479,\n",
       "        -0.41781154,  0.36141393, -0.3374818 , -0.07537262,  0.290426  ,\n",
       "        -0.2582135 , -0.05289126,  0.25433913,  0.25142252, -0.4643376 ,\n",
       "         0.1980412 , -0.3004358 , -0.00936634, -0.28711438, -0.31958172,\n",
       "        -0.39997643,  0.19345327,  0.3247996 ,  0.06196608, -0.4268663 ,\n",
       "         0.43320137,  0.29673606,  0.07212533, -0.31776834,  0.37322378]],\n",
       "      dtype=float32)"
      ]
     },
     "execution_count": 60,
     "metadata": {},
     "output_type": "execute_result"
    }
   ],
   "source": [
    "restored_model.get_embeddings(['인공지능'], embedding_type='entity')"
   ]
  },
  {
   "cell_type": "code",
   "execution_count": 61,
   "metadata": {
    "colab": {
     "base_uri": "https://localhost:8080/"
    },
    "id": "NGfq5csaTLrh",
    "outputId": "30769951-ef46-4904-f9cf-ebeb224bcf0c"
   },
   "outputs": [
    {
     "data": {
      "text/plain": [
       "array([[ 0.46595478, -0.30585882,  0.29781452, -0.0501992 ,  0.0162836 ,\n",
       "        -0.27524713, -0.00770139, -0.3451445 , -0.49774048,  0.40234452,\n",
       "         0.04948333,  0.3772119 ,  0.4334331 , -0.20175157, -0.04376844,\n",
       "        -0.31181392,  0.06022745,  0.1509922 , -0.40094823,  0.176837  ,\n",
       "         0.06775962, -0.31940502, -0.18472143,  0.28550097,  0.3138354 ,\n",
       "         0.33115828,  0.07491156,  0.14671896, -0.06969238,  0.4762035 ,\n",
       "        -0.27749342,  0.3550516 ,  0.15766574,  0.08499383,  0.0045298 ,\n",
       "         0.33258665, -0.45567054,  0.12875533,  0.14740399, -0.17375585,\n",
       "         0.2532541 ,  0.22957942, -0.48467872,  0.13883258, -0.35932183,\n",
       "         0.05857145, -0.41023692, -0.20576799, -0.41630659,  0.25333038,\n",
       "         0.31234124,  0.31385607, -0.56067634,  0.36201766, -0.15480259,\n",
       "        -0.49626788, -0.27809113, -0.19660963, -0.17744592, -0.0057651 ,\n",
       "        -0.32905585,  0.15791489,  0.29121038, -0.20053592, -0.06681545,\n",
       "         0.48515868,  0.26968905,  0.30619103, -0.37025735, -0.28000274,\n",
       "        -0.4625622 , -0.16089581,  0.2022896 , -0.06065692, -0.00437663,\n",
       "        -0.02873047,  0.5174017 , -0.05746546, -0.13632771, -0.15940756,\n",
       "        -0.38594627, -0.45349506,  0.31721488,  0.29222482,  0.2980227 ,\n",
       "        -0.2874153 ,  0.26162305,  0.31271213, -0.1832842 , -0.37440965,\n",
       "         0.22682178,  0.3526283 , -0.285305  ,  0.16375169,  0.47753713,\n",
       "        -0.11362699, -0.53758514, -0.4762848 , -0.33483344,  0.22194946,\n",
       "         0.10853249, -0.01600133,  0.14453785, -0.24468496,  0.02974577,\n",
       "        -0.42525557,  0.40035862,  0.53414696, -0.42980453, -0.3731874 ,\n",
       "        -0.09720583, -0.2580001 ,  0.15227391, -0.17644762, -0.0606754 ,\n",
       "        -0.23629503, -0.10127699,  0.45636472, -0.12620965,  0.00509712,\n",
       "        -0.2752829 , -0.28954542,  0.29986086, -0.08258804,  0.17792505,\n",
       "        -0.2612019 ,  0.26352835,  0.51147676, -0.320421  ,  0.3784816 ,\n",
       "        -0.4279696 , -0.18989997,  0.37079102, -0.3292637 , -0.31598225,\n",
       "         0.16316953,  0.29048067, -0.5025897 , -0.43135995, -0.30424857,\n",
       "        -0.01517574,  0.02766359,  0.04090504,  0.20191123,  0.33745167,\n",
       "         0.46118087,  0.18730423,  0.22219847, -0.02750158, -0.5054459 ,\n",
       "        -0.521254  , -0.21212006,  0.02530593, -0.27494144,  0.06456937,\n",
       "         0.08854026, -0.22439799,  0.07249022, -0.3271148 , -0.27765766,\n",
       "        -0.26077893, -0.0466582 ,  0.1565267 ,  0.2710361 , -0.4987276 ,\n",
       "         0.01498351,  0.099354  , -0.01029877, -0.24123113, -0.52363884,\n",
       "         0.29918295, -0.3469295 ,  0.1542592 ,  0.03123345, -0.06164479,\n",
       "        -0.41781154,  0.36141393, -0.3374818 , -0.07537262,  0.290426  ,\n",
       "        -0.2582135 , -0.05289126,  0.25433913,  0.25142252, -0.4643376 ,\n",
       "         0.1980412 , -0.3004358 , -0.00936634, -0.28711438, -0.31958172,\n",
       "        -0.39997643,  0.19345327,  0.3247996 ,  0.06196608, -0.4268663 ,\n",
       "         0.43320137,  0.29673606,  0.07212533, -0.31776834,  0.37322378]],\n",
       "      dtype=float32)"
      ]
     },
     "execution_count": 61,
     "metadata": {},
     "output_type": "execute_result"
    }
   ],
   "source": [
    "model.get_embeddings(['인공지능'], embedding_type='entity')"
   ]
  },
  {
   "cell_type": "code",
   "execution_count": null,
   "metadata": {
    "id": "2Ag8c-uuEewM"
   },
   "outputs": [],
   "source": []
  }
 ],
 "metadata": {
  "colab": {
   "collapsed_sections": [],
   "name": "KG_Embedding.ipynb",
   "provenance": []
  },
  "kernelspec": {
   "display_name": "Python 3",
   "language": "python",
   "name": "python3"
  },
  "language_info": {
   "codemirror_mode": {
    "name": "ipython",
    "version": 3
   },
   "file_extension": ".py",
   "mimetype": "text/x-python",
   "name": "python",
   "nbconvert_exporter": "python",
   "pygments_lexer": "ipython3",
   "version": "3.8.3"
  }
 },
 "nbformat": 4,
 "nbformat_minor": 1
}
