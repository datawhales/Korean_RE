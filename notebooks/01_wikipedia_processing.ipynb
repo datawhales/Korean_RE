{
 "cells": [
  {
   "cell_type": "markdown",
   "id": "actual-stretch",
   "metadata": {},
   "source": [
    "## 위키피디아 텍스트 데이터 읽기 예시"
   ]
  },
  {
   "cell_type": "code",
   "execution_count": 3,
   "id": "published-budapest",
   "metadata": {},
   "outputs": [],
   "source": [
    "from glob import glob\n",
    "\n",
    "dir_list = glob('../data/text/*')\n",
    "dir_list.sort()"
   ]
  },
  {
   "cell_type": "code",
   "execution_count": 4,
   "id": "important-opinion",
   "metadata": {},
   "outputs": [
    {
     "data": {
      "text/plain": [
       "['../data/text/AA',\n",
       " '../data/text/AB',\n",
       " '../data/text/AC',\n",
       " '../data/text/AD',\n",
       " '../data/text/AE',\n",
       " '../data/text/AF',\n",
       " '../data/text/AG',\n",
       " '../data/text/AH',\n",
       " '../data/text/AI']"
      ]
     },
     "execution_count": 4,
     "metadata": {},
     "output_type": "execute_result"
    }
   ],
   "source": [
    "dir_list"
   ]
  },
  {
   "cell_type": "code",
   "execution_count": 5,
   "id": "alleged-commercial",
   "metadata": {},
   "outputs": [],
   "source": [
    "all_texts = []\n",
    "for dir_i in dir_list:\n",
    "    text_list = glob(dir_i + '/*')\n",
    "    text_list.sort()\n",
    "    all_texts.extend(text_list)"
   ]
  },
  {
   "cell_type": "code",
   "execution_count": 8,
   "id": "necessary-liberal",
   "metadata": {},
   "outputs": [
    {
     "data": {
      "text/plain": [
       "['../data/text/AA/wiki_00',\n",
       " '../data/text/AA/wiki_01',\n",
       " '../data/text/AA/wiki_02',\n",
       " '../data/text/AA/wiki_03',\n",
       " '../data/text/AA/wiki_04']"
      ]
     },
     "execution_count": 8,
     "metadata": {},
     "output_type": "execute_result"
    }
   ],
   "source": [
    "all_texts[:5]"
   ]
  },
  {
   "cell_type": "code",
   "execution_count": 9,
   "id": "greek-government",
   "metadata": {},
   "outputs": [
    {
     "data": {
      "text/plain": [
       "850"
      ]
     },
     "execution_count": 9,
     "metadata": {},
     "output_type": "execute_result"
    }
   ],
   "source": [
    "len(all_texts)"
   ]
  },
  {
   "cell_type": "code",
   "execution_count": 10,
   "id": "grand-shopping",
   "metadata": {},
   "outputs": [],
   "source": [
    "with open('../data/text/AA/wiki_00') as f:\n",
    "    lines = f.readlines()\n",
    "    lines = [line.strip() for line in lines]"
   ]
  },
  {
   "cell_type": "code",
   "execution_count": 15,
   "id": "christian-fifty",
   "metadata": {},
   "outputs": [
    {
     "data": {
      "text/plain": [
       "['<doc id=\"5\" url=\"https://ko.wikipedia.org/wiki?curid=5\" title=\"지미 카터\">',\n",
       " '지미 카터',\n",
       " '',\n",
       " '제임스 얼 카터 주니어(, 1924년 10월 1일 ~ )는 민주당 출신 미국 39대 대통령 (1977년 ~ 1981년)이다.',\n",
       " '생애.',\n",
       " '어린 시절.',\n",
       " '지미 카터는 조지아주 섬터 카운티 플레인스 마을에서 태어났다.',\n",
       " '조지아 공과대학교를 졸업하였다. 그 후 해군에 들어가 전함·원자력·잠수함의 승무원으로 일하였다. 1953년 미국 해군 대위로 예편하였고 이후 땅콩·면화 등을 가꿔 많은 돈을 벌었다. 그의 별명이 \"땅콩 농부\" (Peanut Farmer)로 알려졌다.',\n",
       " '정계 입문.',\n",
       " '1962년 조지아 주 상원 의원 선거에서 낙선하나 그 선거가 부정선거 였음을 입증하게 되어 당선되고, 1966년 조지아 주지사 선거에 낙선하지만, 1970년 조지아 주지사를 역임했다. 대통령이 되기 전 조지아주 상원의원을 두번 연임했으며, 1971년부터 1975년까지 조지아 지사로 근무했다. 조지아 주지사로 지내면서, 미국에 사는 흑인 등용법을 내세웠다.',\n",
       " '대통령 재임.',\n",
       " '1976년 미합중국 제39대 대통령 선거에 민주당 후보로 출마하여 도덕주의 정책으로 내세워서, 많은 지지를 받고 제럴드 포드 대통령을 누르고 당선되었다.',\n",
       " '카터 대통령은 에너지 개발을 촉구했으나 공화당의 반대로 무산되었다.',\n",
       " '외교 정책.',\n",
       " '카터는 이집트와 이스라엘을 조정하여 캠프 데이비드에서 안와르 사다트 대통령과 메나헴 베긴 수상과 함께 중동 평화를 위한 캠프데이비드 협정을 체결했다. 이것은 공화당과 미국의 유대인 단체의 반발을 일으켰다. 그러나 1979년, 양국 간의 평화조약이 백악관에서 이루어졌다.',\n",
       " '소련과 제2차 전략 무기 제한 협상(SALT II)에 조인했다.',\n",
       " '카터는 1970년대 후반 당시 대한민국 등 인권 후진국의 국민들의 인권을 지키기 위해 노력했으며, 취임 이후 계속해서 도덕정치를 내세웠다.',\n",
       " '임기 말, 소련의 아프가니스탄 침공 사건으로 인해 1980년 하계 올림픽에 반공국가들의 보이콧을 하였다.',\n",
       " '그는 주이란 미국 대사관 인질 사건의 인질 구출 실패로 인한 원인으로, 1980년 제40대 대통령 선거에서 공화당의 로널드 레이건에게 패하며 재선에 실패하였다.',\n",
       " '대한민국과의 관계']"
      ]
     },
     "execution_count": 15,
     "metadata": {},
     "output_type": "execute_result"
    }
   ],
   "source": [
    "lines[:20]"
   ]
  },
  {
   "cell_type": "code",
   "execution_count": 12,
   "id": "collected-methodology",
   "metadata": {},
   "outputs": [],
   "source": [
    "def get_wiki(filename):\n",
    "    with open(filename, 'r') as f:\n",
    "        lines = [line.strip() for line in f.readlines()]\n",
    "    return lines"
   ]
  },
  {
   "cell_type": "code",
   "execution_count": 14,
   "id": "referenced-strike",
   "metadata": {},
   "outputs": [
    {
     "data": {
      "text/plain": [
       "['<doc id=\"5\" url=\"https://ko.wikipedia.org/wiki?curid=5\" title=\"지미 카터\">',\n",
       " '지미 카터',\n",
       " '',\n",
       " '제임스 얼 카터 주니어(, 1924년 10월 1일 ~ )는 민주당 출신 미국 39대 대통령 (1977년 ~ 1981년)이다.',\n",
       " '생애.',\n",
       " '어린 시절.',\n",
       " '지미 카터는 조지아주 섬터 카운티 플레인스 마을에서 태어났다.',\n",
       " '조지아 공과대학교를 졸업하였다. 그 후 해군에 들어가 전함·원자력·잠수함의 승무원으로 일하였다. 1953년 미국 해군 대위로 예편하였고 이후 땅콩·면화 등을 가꿔 많은 돈을 벌었다. 그의 별명이 \"땅콩 농부\" (Peanut Farmer)로 알려졌다.',\n",
       " '정계 입문.',\n",
       " '1962년 조지아 주 상원 의원 선거에서 낙선하나 그 선거가 부정선거 였음을 입증하게 되어 당선되고, 1966년 조지아 주지사 선거에 낙선하지만, 1970년 조지아 주지사를 역임했다. 대통령이 되기 전 조지아주 상원의원을 두번 연임했으며, 1971년부터 1975년까지 조지아 지사로 근무했다. 조지아 주지사로 지내면서, 미국에 사는 흑인 등용법을 내세웠다.',\n",
       " '대통령 재임.',\n",
       " '1976년 미합중국 제39대 대통령 선거에 민주당 후보로 출마하여 도덕주의 정책으로 내세워서, 많은 지지를 받고 제럴드 포드 대통령을 누르고 당선되었다.',\n",
       " '카터 대통령은 에너지 개발을 촉구했으나 공화당의 반대로 무산되었다.',\n",
       " '외교 정책.',\n",
       " '카터는 이집트와 이스라엘을 조정하여 캠프 데이비드에서 안와르 사다트 대통령과 메나헴 베긴 수상과 함께 중동 평화를 위한 캠프데이비드 협정을 체결했다. 이것은 공화당과 미국의 유대인 단체의 반발을 일으켰다. 그러나 1979년, 양국 간의 평화조약이 백악관에서 이루어졌다.',\n",
       " '소련과 제2차 전략 무기 제한 협상(SALT II)에 조인했다.',\n",
       " '카터는 1970년대 후반 당시 대한민국 등 인권 후진국의 국민들의 인권을 지키기 위해 노력했으며, 취임 이후 계속해서 도덕정치를 내세웠다.',\n",
       " '임기 말, 소련의 아프가니스탄 침공 사건으로 인해 1980년 하계 올림픽에 반공국가들의 보이콧을 하였다.',\n",
       " '그는 주이란 미국 대사관 인질 사건의 인질 구출 실패로 인한 원인으로, 1980년 제40대 대통령 선거에서 공화당의 로널드 레이건에게 패하며 재선에 실패하였다.',\n",
       " '대한민국과의 관계']"
      ]
     },
     "execution_count": 14,
     "metadata": {},
     "output_type": "execute_result"
    }
   ],
   "source": [
    "wiki_example = get_wiki('../data/text/AA/wiki_00')\n",
    "wiki_example[:20]"
   ]
  },
  {
   "cell_type": "code",
   "execution_count": 19,
   "id": "elder-washington",
   "metadata": {},
   "outputs": [
    {
     "data": {
      "text/plain": [
       "'조지아 공과대학교를 졸업하였다. 그 후 해군에 들어가 전함·원자력·잠수함의 승무원으로 일하였다. 1953년 미국 해군 대위로 예편하였고 이후 땅콩·면화 등을 가꿔 많은 돈을 벌었다. 그의 별명이 \"땅콩 농부\" (Peanut Farmer)로 알려졌다.'"
      ]
     },
     "execution_count": 19,
     "metadata": {},
     "output_type": "execute_result"
    }
   ],
   "source": [
    "wiki_example[7]"
   ]
  },
  {
   "cell_type": "code",
   "execution_count": 20,
   "id": "dried-exclusion",
   "metadata": {},
   "outputs": [
    {
     "data": {
      "text/plain": [
       "['조지아 공과대학교를 졸업하였다.',\n",
       " '그 후 해군에 들어가 전함·원자력·잠수함의 승무원으로 일하였다.',\n",
       " '1953년 미국 해군 대위로 예편하였고 이후 땅콩·면화 등을 가꿔 많은 돈을 벌었다.',\n",
       " '그의 별명이 \"땅콩 농부\" (Peanut Farmer)로 알려졌다.']"
      ]
     },
     "execution_count": 20,
     "metadata": {},
     "output_type": "execute_result"
    }
   ],
   "source": [
    "from kss import split_sentences\n",
    "\n",
    "sents = [sent for sent in split_sentences(wiki_example[7]) if sent]\n",
    "sents"
   ]
  },
  {
   "cell_type": "markdown",
   "id": "general-knitting",
   "metadata": {},
   "source": [
    "## 데이터 전처리"
   ]
  },
  {
   "cell_type": "code",
   "execution_count": 21,
   "id": "flexible-serbia",
   "metadata": {},
   "outputs": [],
   "source": [
    "all_items = []\n",
    "\n",
    "for item in wiki_example:\n",
    "    sents = [sent for sent in split_sentences(item) if sent]\n",
    "    all_items += sents"
   ]
  },
  {
   "cell_type": "code",
   "execution_count": 23,
   "id": "protecting-guarantee",
   "metadata": {},
   "outputs": [
    {
     "data": {
      "text/plain": [
       "['<doc id=\"5\" url=\"https://ko.wikipedia.org/wiki?curid=5\" title=\"지미 카터\">',\n",
       " '지미 카터',\n",
       " '제임스 얼 카터 주니어(, 1924년 10월 1일 ~ )는 민주당 출신 미국 39대 대통령 (1977년 ~ 1981년)이다.',\n",
       " '생애.',\n",
       " '어린 시절.',\n",
       " '지미 카터는 조지아주 섬터 카운티 플레인스 마을에서 태어났다.',\n",
       " '조지아 공과대학교를 졸업하였다.',\n",
       " '그 후 해군에 들어가 전함·원자력·잠수함의 승무원으로 일하였다.',\n",
       " '1953년 미국 해군 대위로 예편하였고 이후 땅콩·면화 등을 가꿔 많은 돈을 벌었다.',\n",
       " '그의 별명이 \"땅콩 농부\" (Peanut Farmer)로 알려졌다.',\n",
       " '정계 입문.',\n",
       " '1962년 조지아 주 상원 의원 선거에서 낙선하나 그 선거가 부정선거 였음을 입증하게 되어 당선되고, 1966년 조지아 주지사 선거에 낙선하지만, 1970년 조지아 주지사를 역임했다.',\n",
       " '대통령이 되기 전 조지아주 상원의원을 두번 연임했으며, 1971년부터 1975년까지 조지아 지사로 근무했다.',\n",
       " '조지아 주지사로 지내면서, 미국에 사는 흑인 등용법을 내세웠다.',\n",
       " '대통령 재임.',\n",
       " '1976년 미합중국 제39대 대통령 선거에 민주당 후보로 출마하여 도덕주의 정책으로 내세워서, 많은 지지를 받고 제럴드 포드 대통령을 누르고 당선되었다.',\n",
       " '카터 대통령은 에너지 개발을 촉구했으나 공화당의 반대로 무산되었다.',\n",
       " '외교 정책.',\n",
       " '카터는 이집트와 이스라엘을 조정하여 캠프 데이비드에서 안와르 사다트 대통령과 메나헴 베긴 수상과 함께 중동 평화를 위한 캠프데이비드 협정을 체결했다.',\n",
       " '이것은 공화당과 미국의 유대인 단체의 반발을 일으켰다.']"
      ]
     },
     "execution_count": 23,
     "metadata": {},
     "output_type": "execute_result"
    }
   ],
   "source": [
    "all_items[:20]"
   ]
  },
  {
   "cell_type": "code",
   "execution_count": 26,
   "id": "promising-purse",
   "metadata": {
    "scrolled": true
   },
   "outputs": [
    {
     "data": {
      "text/plain": [
       "['<doc id=\"5\" url=\"https://ko.wikipedia.org/wiki?curid=5\" title=\"지미 카터\">',\n",
       " '지미 카터',\n",
       " '',\n",
       " '제임스 얼 카터 주니어(, 1924년 10월 1일 ~ )는 민주당 출신 미국 39대 대통령 (1977년 ~ 1981년)이다.',\n",
       " '생애.',\n",
       " '어린 시절.',\n",
       " '지미 카터는 조지아주 섬터 카운티 플레인스 마을에서 태어났다.',\n",
       " '조지아 공과대학교를 졸업하였다. 그 후 해군에 들어가 전함·원자력·잠수함의 승무원으로 일하였다. 1953년 미국 해군 대위로 예편하였고 이후 땅콩·면화 등을 가꿔 많은 돈을 벌었다. 그의 별명이 \"땅콩 농부\" (Peanut Farmer)로 알려졌다.',\n",
       " '정계 입문.',\n",
       " '1962년 조지아 주 상원 의원 선거에서 낙선하나 그 선거가 부정선거 였음을 입증하게 되어 당선되고, 1966년 조지아 주지사 선거에 낙선하지만, 1970년 조지아 주지사를 역임했다. 대통령이 되기 전 조지아주 상원의원을 두번 연임했으며, 1971년부터 1975년까지 조지아 지사로 근무했다. 조지아 주지사로 지내면서, 미국에 사는 흑인 등용법을 내세웠다.',\n",
       " '대통령 재임.',\n",
       " '1976년 미합중국 제39대 대통령 선거에 민주당 후보로 출마하여 도덕주의 정책으로 내세워서, 많은 지지를 받고 제럴드 포드 대통령을 누르고 당선되었다.',\n",
       " '카터 대통령은 에너지 개발을 촉구했으나 공화당의 반대로 무산되었다.',\n",
       " '외교 정책.',\n",
       " '카터는 이집트와 이스라엘을 조정하여 캠프 데이비드에서 안와르 사다트 대통령과 메나헴 베긴 수상과 함께 중동 평화를 위한 캠프데이비드 협정을 체결했다. 이것은 공화당과 미국의 유대인 단체의 반발을 일으켰다. 그러나 1979년, 양국 간의 평화조약이 백악관에서 이루어졌다.']"
      ]
     },
     "execution_count": 26,
     "metadata": {},
     "output_type": "execute_result"
    }
   ],
   "source": [
    "wiki_example[:15]"
   ]
  },
  {
   "cell_type": "code",
   "execution_count": 27,
   "id": "short-raleigh",
   "metadata": {},
   "outputs": [
    {
     "data": {
      "text/plain": [
       "8374"
      ]
     },
     "execution_count": 27,
     "metadata": {},
     "output_type": "execute_result"
    }
   ],
   "source": [
    "len(all_items)"
   ]
  },
  {
   "cell_type": "code",
   "execution_count": 36,
   "id": "third-korea",
   "metadata": {},
   "outputs": [],
   "source": [
    "import re\n",
    "from kss import split_sentences\n",
    "\n",
    "def preprocess(text):\n",
    "    # 한 개의 평서문만 허용\n",
    "    if text.count('.') != 1:\n",
    "        return ''\n",
    "    if '·' in text:\n",
    "        return ''\n",
    "    # \\xa0\n",
    "    text = re.sub('\\xa0', ' ', text)\n",
    "\n",
    "    # 괄호 안의 텍스트 제거\n",
    "    text = re.sub(r'\\([^)]*\\)','', text)\n",
    "    # <> 안의 텍스트 제거\n",
    "    text = re.sub('<.+?>', '', text)\n",
    "    # 큰따옴표 제거\n",
    "    text = re.sub('\"', '', text)\n",
    "    # 다른 형태의 따옴표 처리\n",
    "    text = re.sub(r'[‘’]', '', text)\n",
    "    text = re.sub(r'[“”]', '', text)\n",
    "    \n",
    "    # 영어, 한국어를 제외한 다른 언어 제외\n",
    "    if re.sub(\"[가-힣ㄱ-ㅎㅏ-ㅣa-zA-Z0-9.\\W]\", '', text):\n",
    "        return ''\n",
    "    \n",
    "    # 너무 적은 개수의 토큰으로 이루어진 경우 제외(예: 어린 시절.)\n",
    "    if len(text.split()) <= 5:\n",
    "        return ''\n",
    "    \n",
    "    return text            "
   ]
  },
  {
   "cell_type": "code",
   "execution_count": 41,
   "id": "measured-prior",
   "metadata": {},
   "outputs": [
    {
     "data": {
      "text/plain": [
       "['<doc id=\"5\" url=\"https://ko.wikipedia.org/wiki?curid=5\" title=\"지미 카터\">',\n",
       " '지미 카터',\n",
       " '제임스 얼 카터 주니어(, 1924년 10월 1일 ~ )는 민주당 출신 미국 39대 대통령 (1977년 ~ 1981년)이다.',\n",
       " '생애.',\n",
       " '어린 시절.',\n",
       " '지미 카터는 조지아주 섬터 카운티 플레인스 마을에서 태어났다.',\n",
       " '조지아 공과대학교를 졸업하였다.',\n",
       " '그 후 해군에 들어가 전함·원자력·잠수함의 승무원으로 일하였다.',\n",
       " '1953년 미국 해군 대위로 예편하였고 이후 땅콩·면화 등을 가꿔 많은 돈을 벌었다.',\n",
       " '그의 별명이 \"땅콩 농부\" (Peanut Farmer)로 알려졌다.',\n",
       " '정계 입문.',\n",
       " '1962년 조지아 주 상원 의원 선거에서 낙선하나 그 선거가 부정선거 였음을 입증하게 되어 당선되고, 1966년 조지아 주지사 선거에 낙선하지만, 1970년 조지아 주지사를 역임했다.',\n",
       " '대통령이 되기 전 조지아주 상원의원을 두번 연임했으며, 1971년부터 1975년까지 조지아 지사로 근무했다.',\n",
       " '조지아 주지사로 지내면서, 미국에 사는 흑인 등용법을 내세웠다.',\n",
       " '대통령 재임.',\n",
       " '1976년 미합중국 제39대 대통령 선거에 민주당 후보로 출마하여 도덕주의 정책으로 내세워서, 많은 지지를 받고 제럴드 포드 대통령을 누르고 당선되었다.',\n",
       " '카터 대통령은 에너지 개발을 촉구했으나 공화당의 반대로 무산되었다.',\n",
       " '외교 정책.',\n",
       " '카터는 이집트와 이스라엘을 조정하여 캠프 데이비드에서 안와르 사다트 대통령과 메나헴 베긴 수상과 함께 중동 평화를 위한 캠프데이비드 협정을 체결했다.',\n",
       " '이것은 공화당과 미국의 유대인 단체의 반발을 일으켰다.']"
      ]
     },
     "execution_count": 41,
     "metadata": {},
     "output_type": "execute_result"
    }
   ],
   "source": [
    "all_items[:20]"
   ]
  },
  {
   "cell_type": "code",
   "execution_count": 42,
   "id": "potential-iraqi",
   "metadata": {},
   "outputs": [
    {
     "data": {
      "text/plain": [
       "['제임스 얼 카터 주니어는 민주당 출신 미국 39대 대통령 이다.',\n",
       " '지미 카터는 조지아주 섬터 카운티 플레인스 마을에서 태어났다.',\n",
       " '그의 별명이 땅콩 농부 로 알려졌다.',\n",
       " '1962년 조지아 주 상원 의원 선거에서 낙선하나 그 선거가 부정선거 였음을 입증하게 되어 당선되고, 1966년 조지아 주지사 선거에 낙선하지만, 1970년 조지아 주지사를 역임했다.',\n",
       " '대통령이 되기 전 조지아주 상원의원을 두번 연임했으며, 1971년부터 1975년까지 조지아 지사로 근무했다.',\n",
       " '조지아 주지사로 지내면서, 미국에 사는 흑인 등용법을 내세웠다.',\n",
       " '1976년 미합중국 제39대 대통령 선거에 민주당 후보로 출마하여 도덕주의 정책으로 내세워서, 많은 지지를 받고 제럴드 포드 대통령을 누르고 당선되었다.',\n",
       " '카터 대통령은 에너지 개발을 촉구했으나 공화당의 반대로 무산되었다.',\n",
       " '카터는 이집트와 이스라엘을 조정하여 캠프 데이비드에서 안와르 사다트 대통령과 메나헴 베긴 수상과 함께 중동 평화를 위한 캠프데이비드 협정을 체결했다.',\n",
       " '이것은 공화당과 미국의 유대인 단체의 반발을 일으켰다.',\n",
       " '그러나 1979년, 양국 간의 평화조약이 백악관에서 이루어졌다.',\n",
       " '소련과 제2차 전략 무기 제한 협상에 조인했다.',\n",
       " '카터는 1970년대 후반 당시 대한민국 등 인권 후진국의 국민들의 인권을 지키기 위해 노력했으며, 취임 이후 계속해서 도덕정치를 내세웠다.',\n",
       " '임기 말, 소련의 아프가니스탄 침공 사건으로 인해 1980년 하계 올림픽에 반공국가들의 보이콧을 하였다.',\n",
       " '그는 주이란 미국 대사관 인질 사건의 인질 구출 실패로 인한 원인으로, 1980년 제40대 대통령 선거에서 공화당의 로널드 레이건에게 패하며 재선에 실패하였다.',\n",
       " '지미 카터는 대한민국과의 관계에서도 중요한 영향을 미쳤던 대통령 중 하나다.',\n",
       " '인권 문제와 주한미군 철수 문제로 한때 한미 관계가 불편하기도 했다.',\n",
       " '1978년 대한민국에 대한 북한의 위협에 대비해 한미연합사를 창설하면서, 1982년까지 3단계에 걸쳐 주한미군을 철수하기로 했다.',\n",
       " '또한 박정희 정권의 인권 문제 등과의 논란으로 불협화음을 냈으나, 1979년 6월 하순, 대한민국을 방문하여 관계가 다소 회복되었다.',\n",
       " '1979년 ~ 1980년 대한민국의 정치적 격변기 당시의 대통령이었던 그는 이에 대해 애매한 태도를 보였고, 이는 후에 대한민국 내에서 고조되는 반미 운동의 한 원인이 됐다.']"
      ]
     },
     "execution_count": 42,
     "metadata": {},
     "output_type": "execute_result"
    }
   ],
   "source": [
    "processed_text = [preprocess(x) for x in all_items if preprocess(x)]\n",
    "processed_text[:20]"
   ]
  },
  {
   "cell_type": "code",
   "execution_count": 43,
   "id": "cheap-speaking",
   "metadata": {},
   "outputs": [
    {
     "data": {
      "text/plain": [
       "5129"
      ]
     },
     "execution_count": 43,
     "metadata": {},
     "output_type": "execute_result"
    }
   ],
   "source": [
    "len(processed_text)"
   ]
  },
  {
   "cell_type": "markdown",
   "id": "united-serbia",
   "metadata": {},
   "source": [
    "## 전체 데이터 정리"
   ]
  },
  {
   "cell_type": "code",
   "execution_count": 55,
   "id": "rocky-devon",
   "metadata": {},
   "outputs": [
    {
     "name": "stdout",
     "output_type": "stream",
     "text": [
      "전체 텍스트 파일 개수: 850개\n",
      "\n",
      "['../data/text/AA/wiki_00', ..., '../data/text/AI/wiki_49']\n"
     ]
    }
   ],
   "source": [
    "from glob import glob\n",
    "from kss import split_sentences\n",
    "import re\n",
    "\n",
    "dir_list = glob('../data/text/*')\n",
    "dir_list.sort()\n",
    "\n",
    "all_texts = []\n",
    "for dir_i in dir_list:\n",
    "    text_list = glob(dir_i + '/*')\n",
    "    text_list.sort()\n",
    "    all_texts.extend(text_list)\n",
    "\n",
    "print(f'전체 텍스트 파일 개수: {len(all_texts)}개\\n')\n",
    "print(f\"['{all_texts[0]}', ..., '{all_texts[-1]}']\")"
   ]
  },
  {
   "cell_type": "code",
   "execution_count": 56,
   "id": "purple-manchester",
   "metadata": {},
   "outputs": [],
   "source": [
    "def get_wiki_texts(filename):\n",
    "    with open(filename, 'r') as f:\n",
    "        lines = [line.strip() for line in f.readlines()]\n",
    "    return lines\n",
    "\n",
    "def preprocess(text):\n",
    "    # 한 개의 평서문만 허용\n",
    "    if text.count('.') != 1:\n",
    "        return ''\n",
    "    if '·' in text:\n",
    "        return ''\n",
    "    # \\xa0\n",
    "    text = re.sub('\\xa0', ' ', text)\n",
    "\n",
    "    # 괄호 안의 텍스트 제거\n",
    "    text = re.sub(r'\\([^)]*\\)','', text)\n",
    "    # <> 안의 텍스트 제거\n",
    "    text = re.sub('<.+?>', '', text)\n",
    "    # 큰따옴표 제거\n",
    "    text = re.sub('\"', '', text)\n",
    "    # 다른 형태의 따옴표 처리\n",
    "    text = re.sub(r'[‘’]', '', text)\n",
    "    text = re.sub(r'[“”]', '', text)\n",
    "    \n",
    "    # 다른 언어 등 포함된 경우 제외\n",
    "    if re.sub(\"[가-힣ㄱ-ㅎㅏ-ㅣa-zA-Z0-9.\\W]\", '', text):\n",
    "        return ''\n",
    "    \n",
    "    # 너무 적은 개수의 토큰으로 이루어진 경우 제외(예: 어린 시절.)\n",
    "    if len(text.split()) <= 5:\n",
    "        return ''\n",
    "    \n",
    "    return text    "
   ]
  },
  {
   "cell_type": "code",
   "execution_count": 57,
   "id": "assumed-visiting",
   "metadata": {},
   "outputs": [
    {
     "name": "stdout",
     "output_type": "stream",
     "text": [
      "50개 파일 완료: 총 413934개 문장\n",
      "100개 파일 완료: 총 846453개 문장\n",
      "150개 파일 완료: 총 1286198개 문장\n",
      "200개 파일 완료: 총 1758790개 문장\n",
      "250개 파일 완료: 총 2219031개 문장\n",
      "300개 파일 완료: 총 2724182개 문장\n",
      "350개 파일 완료: 총 3240567개 문장\n",
      "400개 파일 완료: 총 3775879개 문장\n",
      "450개 파일 완료: 총 4337182개 문장\n",
      "500개 파일 완료: 총 4909857개 문장\n",
      "550개 파일 완료: 총 5508210개 문장\n",
      "600개 파일 완료: 총 6107207개 문장\n",
      "650개 파일 완료: 총 6723089개 문장\n",
      "700개 파일 완료: 총 7395213개 문장\n",
      "750개 파일 완료: 총 8197089개 문장\n",
      "800개 파일 완료: 총 8824156개 문장\n",
      "850개 파일 완료: 총 9448202개 문장\n",
      "\n",
      "최종: 850개 파일, 총 9448202개 문장\n"
     ]
    }
   ],
   "source": [
    "all_items = []\n",
    "\n",
    "for i, text_file in enumerate(all_texts):\n",
    "    text_tmp = get_wiki_texts(text_file)\n",
    "    \n",
    "    for item in text_tmp:\n",
    "        sents = [sent for sent in split_sentences(item) if sent]\n",
    "        all_items += sents  \n",
    "    \n",
    "    if (i + 1) % 50 == 0:\n",
    "        print(f\"{i+1}개 파일 완료: 총 {len(all_items)}개 문장\")\n",
    "\n",
    "print(f\"\\n최종: {len(all_texts)}개 파일, 총 {len(all_items)}개 문장\")"
   ]
  },
  {
   "cell_type": "code",
   "execution_count": 58,
   "id": "classical-tongue",
   "metadata": {},
   "outputs": [
    {
     "data": {
      "text/plain": [
       "9448202"
      ]
     },
     "execution_count": 58,
     "metadata": {},
     "output_type": "execute_result"
    }
   ],
   "source": [
    "len(all_items)"
   ]
  },
  {
   "cell_type": "code",
   "execution_count": 62,
   "id": "exceptional-advance",
   "metadata": {},
   "outputs": [
    {
     "data": {
      "text/plain": [
       "['제임스 얼 카터 주니어는 민주당 출신 미국 39대 대통령 이다.',\n",
       " '지미 카터는 조지아주 섬터 카운티 플레인스 마을에서 태어났다.',\n",
       " '그의 별명이 땅콩 농부 로 알려졌다.',\n",
       " '1962년 조지아 주 상원 의원 선거에서 낙선하나 그 선거가 부정선거 였음을 입증하게 되어 당선되고, 1966년 조지아 주지사 선거에 낙선하지만, 1970년 조지아 주지사를 역임했다.',\n",
       " '대통령이 되기 전 조지아주 상원의원을 두번 연임했으며, 1971년부터 1975년까지 조지아 지사로 근무했다.',\n",
       " '조지아 주지사로 지내면서, 미국에 사는 흑인 등용법을 내세웠다.',\n",
       " '1976년 미합중국 제39대 대통령 선거에 민주당 후보로 출마하여 도덕주의 정책으로 내세워서, 많은 지지를 받고 제럴드 포드 대통령을 누르고 당선되었다.',\n",
       " '카터 대통령은 에너지 개발을 촉구했으나 공화당의 반대로 무산되었다.',\n",
       " '카터는 이집트와 이스라엘을 조정하여 캠프 데이비드에서 안와르 사다트 대통령과 메나헴 베긴 수상과 함께 중동 평화를 위한 캠프데이비드 협정을 체결했다.',\n",
       " '이것은 공화당과 미국의 유대인 단체의 반발을 일으켰다.',\n",
       " '그러나 1979년, 양국 간의 평화조약이 백악관에서 이루어졌다.',\n",
       " '소련과 제2차 전략 무기 제한 협상에 조인했다.',\n",
       " '카터는 1970년대 후반 당시 대한민국 등 인권 후진국의 국민들의 인권을 지키기 위해 노력했으며, 취임 이후 계속해서 도덕정치를 내세웠다.',\n",
       " '임기 말, 소련의 아프가니스탄 침공 사건으로 인해 1980년 하계 올림픽에 반공국가들의 보이콧을 하였다.',\n",
       " '그는 주이란 미국 대사관 인질 사건의 인질 구출 실패로 인한 원인으로, 1980년 제40대 대통령 선거에서 공화당의 로널드 레이건에게 패하며 재선에 실패하였다.',\n",
       " '지미 카터는 대한민국과의 관계에서도 중요한 영향을 미쳤던 대통령 중 하나다.',\n",
       " '인권 문제와 주한미군 철수 문제로 한때 한미 관계가 불편하기도 했다.',\n",
       " '1978년 대한민국에 대한 북한의 위협에 대비해 한미연합사를 창설하면서, 1982년까지 3단계에 걸쳐 주한미군을 철수하기로 했다.',\n",
       " '또한 박정희 정권의 인권 문제 등과의 논란으로 불협화음을 냈으나, 1979년 6월 하순, 대한민국을 방문하여 관계가 다소 회복되었다.',\n",
       " '1979년 ~ 1980년 대한민국의 정치적 격변기 당시의 대통령이었던 그는 이에 대해 애매한 태도를 보였고, 이는 후에 대한민국 내에서 고조되는 반미 운동의 한 원인이 됐다.']"
      ]
     },
     "execution_count": 62,
     "metadata": {},
     "output_type": "execute_result"
    }
   ],
   "source": [
    "processed_text = [preprocess(x) for x in all_items if preprocess(x)]\n",
    "processed_text[:20]"
   ]
  },
  {
   "cell_type": "code",
   "execution_count": 63,
   "id": "attractive-producer",
   "metadata": {},
   "outputs": [
    {
     "data": {
      "text/plain": [
       "3862545"
      ]
     },
     "execution_count": 63,
     "metadata": {},
     "output_type": "execute_result"
    }
   ],
   "source": [
    "len(processed_text)"
   ]
  },
  {
   "cell_type": "markdown",
   "id": "referenced-analysis",
   "metadata": {},
   "source": [
    "## json 파일로 저장"
   ]
  },
  {
   "cell_type": "code",
   "execution_count": 64,
   "id": "dying-armenia",
   "metadata": {},
   "outputs": [
    {
     "name": "stderr",
     "output_type": "stream",
     "text": [
      "100%|██████████| 3862545/3862545 [00:02<00:00, 1807128.25it/s]\n"
     ]
    }
   ],
   "source": [
    "import json\n",
    "from tqdm import tqdm\n",
    "\n",
    "text_dict = {}\n",
    "\n",
    "text_dict[\"data\"] = []\n",
    "\n",
    "for text_tmp in tqdm(processed_text):\n",
    "    text_dict[\"data\"].append({\"sentence\": text_tmp})"
   ]
  },
  {
   "cell_type": "code",
   "execution_count": 65,
   "id": "orange-library",
   "metadata": {},
   "outputs": [
    {
     "data": {
      "text/plain": [
       "dict_keys(['data'])"
      ]
     },
     "execution_count": 65,
     "metadata": {},
     "output_type": "execute_result"
    }
   ],
   "source": [
    "text_dict.keys()"
   ]
  },
  {
   "cell_type": "code",
   "execution_count": 66,
   "id": "beneficial-formula",
   "metadata": {},
   "outputs": [
    {
     "data": {
      "text/plain": [
       "3862545"
      ]
     },
     "execution_count": 66,
     "metadata": {},
     "output_type": "execute_result"
    }
   ],
   "source": [
    "len(text_dict['data'])"
   ]
  },
  {
   "cell_type": "code",
   "execution_count": 68,
   "id": "limiting-chester",
   "metadata": {},
   "outputs": [
    {
     "data": {
      "text/plain": [
       "[{'sentence': '제임스 얼 카터 주니어는 민주당 출신 미국 39대 대통령 이다.'},\n",
       " {'sentence': '지미 카터는 조지아주 섬터 카운티 플레인스 마을에서 태어났다.'},\n",
       " {'sentence': '그의 별명이 땅콩 농부 로 알려졌다.'},\n",
       " {'sentence': '1962년 조지아 주 상원 의원 선거에서 낙선하나 그 선거가 부정선거 였음을 입증하게 되어 당선되고, 1966년 조지아 주지사 선거에 낙선하지만, 1970년 조지아 주지사를 역임했다.'},\n",
       " {'sentence': '대통령이 되기 전 조지아주 상원의원을 두번 연임했으며, 1971년부터 1975년까지 조지아 지사로 근무했다.'},\n",
       " {'sentence': '조지아 주지사로 지내면서, 미국에 사는 흑인 등용법을 내세웠다.'},\n",
       " {'sentence': '1976년 미합중국 제39대 대통령 선거에 민주당 후보로 출마하여 도덕주의 정책으로 내세워서, 많은 지지를 받고 제럴드 포드 대통령을 누르고 당선되었다.'},\n",
       " {'sentence': '카터 대통령은 에너지 개발을 촉구했으나 공화당의 반대로 무산되었다.'},\n",
       " {'sentence': '카터는 이집트와 이스라엘을 조정하여 캠프 데이비드에서 안와르 사다트 대통령과 메나헴 베긴 수상과 함께 중동 평화를 위한 캠프데이비드 협정을 체결했다.'},\n",
       " {'sentence': '이것은 공화당과 미국의 유대인 단체의 반발을 일으켰다.'},\n",
       " {'sentence': '그러나 1979년, 양국 간의 평화조약이 백악관에서 이루어졌다.'},\n",
       " {'sentence': '소련과 제2차 전략 무기 제한 협상에 조인했다.'},\n",
       " {'sentence': '카터는 1970년대 후반 당시 대한민국 등 인권 후진국의 국민들의 인권을 지키기 위해 노력했으며, 취임 이후 계속해서 도덕정치를 내세웠다.'},\n",
       " {'sentence': '임기 말, 소련의 아프가니스탄 침공 사건으로 인해 1980년 하계 올림픽에 반공국가들의 보이콧을 하였다.'},\n",
       " {'sentence': '그는 주이란 미국 대사관 인질 사건의 인질 구출 실패로 인한 원인으로, 1980년 제40대 대통령 선거에서 공화당의 로널드 레이건에게 패하며 재선에 실패하였다.'},\n",
       " {'sentence': '지미 카터는 대한민국과의 관계에서도 중요한 영향을 미쳤던 대통령 중 하나다.'},\n",
       " {'sentence': '인권 문제와 주한미군 철수 문제로 한때 한미 관계가 불편하기도 했다.'},\n",
       " {'sentence': '1978년 대한민국에 대한 북한의 위협에 대비해 한미연합사를 창설하면서, 1982년까지 3단계에 걸쳐 주한미군을 철수하기로 했다.'},\n",
       " {'sentence': '또한 박정희 정권의 인권 문제 등과의 논란으로 불협화음을 냈으나, 1979년 6월 하순, 대한민국을 방문하여 관계가 다소 회복되었다.'},\n",
       " {'sentence': '1979년 ~ 1980년 대한민국의 정치적 격변기 당시의 대통령이었던 그는 이에 대해 애매한 태도를 보였고, 이는 후에 대한민국 내에서 고조되는 반미 운동의 한 원인이 됐다.'}]"
      ]
     },
     "execution_count": 68,
     "metadata": {},
     "output_type": "execute_result"
    }
   ],
   "source": [
    "text_dict['data'][:20]"
   ]
  },
  {
   "cell_type": "code",
   "execution_count": 69,
   "id": "widespread-journal",
   "metadata": {},
   "outputs": [],
   "source": [
    "with open(\"../data/wikipedia/processed_sentences.json\", 'w') as f:\n",
    "    json.dump(text_dict, f, indent=4)"
   ]
  },
  {
   "cell_type": "code",
   "execution_count": 70,
   "id": "elder-sharp",
   "metadata": {},
   "outputs": [],
   "source": [
    "with open(\"../data/wikipedia/processed_sentences.json\", 'r') as f:\n",
    "    json_data = json.load(f)\n",
    "    "
   ]
  },
  {
   "cell_type": "code",
   "execution_count": 71,
   "id": "congressional-breast",
   "metadata": {},
   "outputs": [
    {
     "data": {
      "text/plain": [
       "dict_keys(['data'])"
      ]
     },
     "execution_count": 71,
     "metadata": {},
     "output_type": "execute_result"
    }
   ],
   "source": [
    "json_data.keys()"
   ]
  },
  {
   "cell_type": "code",
   "execution_count": 72,
   "id": "worse-mouse",
   "metadata": {},
   "outputs": [
    {
     "data": {
      "text/plain": [
       "3862545"
      ]
     },
     "execution_count": 72,
     "metadata": {},
     "output_type": "execute_result"
    }
   ],
   "source": [
    "len(json_data['data'])"
   ]
  },
  {
   "cell_type": "code",
   "execution_count": 73,
   "id": "changed-sustainability",
   "metadata": {},
   "outputs": [
    {
     "data": {
      "text/plain": [
       "[{'sentence': '제임스 얼 카터 주니어는 민주당 출신 미국 39대 대통령 이다.'},\n",
       " {'sentence': '지미 카터는 조지아주 섬터 카운티 플레인스 마을에서 태어났다.'},\n",
       " {'sentence': '그의 별명이 땅콩 농부 로 알려졌다.'},\n",
       " {'sentence': '1962년 조지아 주 상원 의원 선거에서 낙선하나 그 선거가 부정선거 였음을 입증하게 되어 당선되고, 1966년 조지아 주지사 선거에 낙선하지만, 1970년 조지아 주지사를 역임했다.'},\n",
       " {'sentence': '대통령이 되기 전 조지아주 상원의원을 두번 연임했으며, 1971년부터 1975년까지 조지아 지사로 근무했다.'},\n",
       " {'sentence': '조지아 주지사로 지내면서, 미국에 사는 흑인 등용법을 내세웠다.'},\n",
       " {'sentence': '1976년 미합중국 제39대 대통령 선거에 민주당 후보로 출마하여 도덕주의 정책으로 내세워서, 많은 지지를 받고 제럴드 포드 대통령을 누르고 당선되었다.'},\n",
       " {'sentence': '카터 대통령은 에너지 개발을 촉구했으나 공화당의 반대로 무산되었다.'},\n",
       " {'sentence': '카터는 이집트와 이스라엘을 조정하여 캠프 데이비드에서 안와르 사다트 대통령과 메나헴 베긴 수상과 함께 중동 평화를 위한 캠프데이비드 협정을 체결했다.'},\n",
       " {'sentence': '이것은 공화당과 미국의 유대인 단체의 반발을 일으켰다.'},\n",
       " {'sentence': '그러나 1979년, 양국 간의 평화조약이 백악관에서 이루어졌다.'},\n",
       " {'sentence': '소련과 제2차 전략 무기 제한 협상에 조인했다.'},\n",
       " {'sentence': '카터는 1970년대 후반 당시 대한민국 등 인권 후진국의 국민들의 인권을 지키기 위해 노력했으며, 취임 이후 계속해서 도덕정치를 내세웠다.'},\n",
       " {'sentence': '임기 말, 소련의 아프가니스탄 침공 사건으로 인해 1980년 하계 올림픽에 반공국가들의 보이콧을 하였다.'},\n",
       " {'sentence': '그는 주이란 미국 대사관 인질 사건의 인질 구출 실패로 인한 원인으로, 1980년 제40대 대통령 선거에서 공화당의 로널드 레이건에게 패하며 재선에 실패하였다.'},\n",
       " {'sentence': '지미 카터는 대한민국과의 관계에서도 중요한 영향을 미쳤던 대통령 중 하나다.'},\n",
       " {'sentence': '인권 문제와 주한미군 철수 문제로 한때 한미 관계가 불편하기도 했다.'},\n",
       " {'sentence': '1978년 대한민국에 대한 북한의 위협에 대비해 한미연합사를 창설하면서, 1982년까지 3단계에 걸쳐 주한미군을 철수하기로 했다.'},\n",
       " {'sentence': '또한 박정희 정권의 인권 문제 등과의 논란으로 불협화음을 냈으나, 1979년 6월 하순, 대한민국을 방문하여 관계가 다소 회복되었다.'},\n",
       " {'sentence': '1979년 ~ 1980년 대한민국의 정치적 격변기 당시의 대통령이었던 그는 이에 대해 애매한 태도를 보였고, 이는 후에 대한민국 내에서 고조되는 반미 운동의 한 원인이 됐다.'}]"
      ]
     },
     "execution_count": 73,
     "metadata": {},
     "output_type": "execute_result"
    }
   ],
   "source": [
    "json_data['data'][:20]"
   ]
  },
  {
   "cell_type": "code",
   "execution_count": null,
   "id": "final-timing",
   "metadata": {},
   "outputs": [],
   "source": []
  }
 ],
 "metadata": {
  "kernelspec": {
   "display_name": "Python 3",
   "language": "python",
   "name": "python3"
  },
  "language_info": {
   "codemirror_mode": {
    "name": "ipython",
    "version": 3
   },
   "file_extension": ".py",
   "mimetype": "text/x-python",
   "name": "python",
   "nbconvert_exporter": "python",
   "pygments_lexer": "ipython3",
   "version": "3.8.3"
  }
 },
 "nbformat": 4,
 "nbformat_minor": 5
}
